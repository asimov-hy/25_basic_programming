{
 "cells": [
  {
   "cell_type": "markdown",
   "id": "39c81f75-331e-4d69-bcf6-7365da1d6ecd",
   "metadata": {},
   "source": [
    "# Variables\n",
    "Python is **Dynamic typed language**\n",
    "Variable is name of space to store data\n",
    "\n",
    "### Binding\n",
    "Python uses a **Dynamic binding** (C, Jaca uses Static binding)\n",
    "\n",
    "### Assignment\n",
    "<center>**variable_name = expression_value**</center>\n",
    "- Variable: left side of equal sign\n",
    "- Expression: right side of equal sign\n",
    "  - Variable assignment statement: action to register value to the name space - if value ois changed registrated value would be updated\n",
    "  - Multiple variables can assigned at the same time\n",
    "  - Same value can be assigned to multiple variables (ex: x, y = 3, 7)\n",
    "\n",
    "### Naming\n",
    "Variable is an identifier\n",
    "- A~Z, a~z, 0~9 and _ can be used\n",
    "  BUT\n",
    "- No space in middle of name\n",
    "- 0~9 can't come first\n",
    "- a~z != A~Z\n",
    "- Keyword can't be used (ex: if, True, False, await, import...)\n",
    "- !, @, #, $, %, & can't be used\n",
    "*→ Naming Styles*\n",
    "   - Camel Case(Java): first character of second word is capital (ex: firstName)\n",
    "   - Hungarian Notation: type+word (ex: strName)\n",
    "   - Snake case(Python): _ between words (ex: first_name)\n",
    "   - Pascal case: always begin with capital (ex: FirstName)"
   ]
  },
  {
   "cell_type": "markdown",
   "id": "86b2e6a0-6019-4f28-94e3-37da7d5252ea",
   "metadata": {},
   "source": [
    "### Assign value to Variables"
   ]
  },
  {
   "cell_type": "code",
   "execution_count": 1,
   "id": "8cd5e98d-6cec-4139-92c3-2cc2279b0ea6",
   "metadata": {},
   "outputs": [
    {
     "name": "stdout",
     "output_type": "stream",
     "text": [
      "2020 2020\n"
     ]
    }
   ],
   "source": [
    "korea1st = 2020\n",
    "korea2nd = \"2020\"\n",
    "print(korea1st, korea2nd)"
   ]
  },
  {
   "cell_type": "code",
   "execution_count": 2,
   "id": "7507c43a-9ba2-43e2-8035-a511904dc24f",
   "metadata": {},
   "outputs": [
    {
     "ename": "SyntaxError",
     "evalue": "invalid decimal literal (3973684142.py, line 1)",
     "output_type": "error",
     "traceback": [
      "\u001b[1;36m  Cell \u001b[1;32mIn[2], line 1\u001b[1;36m\u001b[0m\n\u001b[1;33m    1stkorea = 1222\u001b[0m\n\u001b[1;37m    ^\u001b[0m\n\u001b[1;31mSyntaxError\u001b[0m\u001b[1;31m:\u001b[0m invalid decimal literal\n"
     ]
    }
   ],
   "source": [
    "1stkorea = 1222"
   ]
  },
  {
   "cell_type": "code",
   "execution_count": 3,
   "id": "fbb0eefb-f1f5-4600-be73-2f677a4ed746",
   "metadata": {},
   "outputs": [
    {
     "name": "stdout",
     "output_type": "stream",
     "text": [
      "78.5\n"
     ]
    }
   ],
   "source": [
    "radius = 5; pi = 3.14\n",
    "area = pi*radius ** 2\n",
    "print(area)"
   ]
  },
  {
   "cell_type": "markdown",
   "id": "5ab44902-7205-4332-b42a-8cee9aa67ac6",
   "metadata": {},
   "source": [
    "### del prior to variable -> variable is deleted"
   ]
  },
  {
   "cell_type": "code",
   "execution_count": 10,
   "id": "07eb288a-024b-4ae8-943a-f3f9da19f965",
   "metadata": {},
   "outputs": [
    {
     "data": {
      "text/plain": [
       "300"
      ]
     },
     "execution_count": 10,
     "metadata": {},
     "output_type": "execute_result"
    }
   ],
   "source": [
    "x = 300\n",
    "x"
   ]
  },
  {
   "cell_type": "code",
   "execution_count": 13,
   "id": "73166b0f-07ef-479b-924f-e7be822640ff",
   "metadata": {},
   "outputs": [
    {
     "ename": "NameError",
     "evalue": "name 'x' is not defined",
     "output_type": "error",
     "traceback": [
      "\u001b[1;31m---------------------------------------------------------------------------\u001b[0m",
      "\u001b[1;31mNameError\u001b[0m                                 Traceback (most recent call last)",
      "Cell \u001b[1;32mIn[13], line 2\u001b[0m\n\u001b[0;32m      1\u001b[0m \u001b[38;5;28;01mdel\u001b[39;00m x\n\u001b[1;32m----> 2\u001b[0m x\n",
      "\u001b[1;31mNameError\u001b[0m: name 'x' is not defined"
     ]
    }
   ],
   "source": [
    "del x\n",
    "x"
   ]
  },
  {
   "cell_type": "code",
   "execution_count": 12,
   "id": "dbf7ab66-6a6b-47ab-9f4e-d72ca3302c8a",
   "metadata": {},
   "outputs": [
    {
     "data": {
      "text/plain": [
       "300"
      ]
     },
     "execution_count": 12,
     "metadata": {},
     "output_type": "execute_result"
    }
   ],
   "source": [
    "y = 50\n",
    "x"
   ]
  },
  {
   "cell_type": "markdown",
   "id": "a233a972-9790-48d2-bf90-b85c27e2e0fe",
   "metadata": {},
   "source": [
    "### keyword list"
   ]
  },
  {
   "cell_type": "code",
   "execution_count": 14,
   "id": "75c33848-5177-42a7-be3b-8d1e969169a6",
   "metadata": {},
   "outputs": [
    {
     "data": {
      "text/plain": [
       "['False',\n",
       " 'None',\n",
       " 'True',\n",
       " 'and',\n",
       " 'as',\n",
       " 'assert',\n",
       " 'async',\n",
       " 'await',\n",
       " 'break',\n",
       " 'class',\n",
       " 'continue',\n",
       " 'def',\n",
       " 'del',\n",
       " 'elif',\n",
       " 'else',\n",
       " 'except',\n",
       " 'finally',\n",
       " 'for',\n",
       " 'from',\n",
       " 'global',\n",
       " 'if',\n",
       " 'import',\n",
       " 'in',\n",
       " 'is',\n",
       " 'lambda',\n",
       " 'nonlocal',\n",
       " 'not',\n",
       " 'or',\n",
       " 'pass',\n",
       " 'raise',\n",
       " 'return',\n",
       " 'try',\n",
       " 'while',\n",
       " 'with',\n",
       " 'yield']"
      ]
     },
     "execution_count": 14,
     "metadata": {},
     "output_type": "execute_result"
    }
   ],
   "source": [
    "import keyword\n",
    "keyword.kwlist"
   ]
  },
  {
   "cell_type": "markdown",
   "id": "0178ba43-dbb1-4f07-9152-71660cfa218e",
   "metadata": {},
   "source": [
    "### quiz: compute triangle with base = 3, height = 4"
   ]
  },
  {
   "cell_type": "code",
   "execution_count": 15,
   "id": "a9d17054-d4e6-4fa5-b06b-dcd4037c1c71",
   "metadata": {},
   "outputs": [
    {
     "data": {
      "text/plain": [
       "6.0"
      ]
     },
     "execution_count": 15,
     "metadata": {},
     "output_type": "execute_result"
    }
   ],
   "source": [
    "base = 3\n",
    "height = 4\n",
    "area = 3 * 4 / 2\n",
    "area"
   ]
  },
  {
   "cell_type": "markdown",
   "id": "1777e36b-1fe1-4ce4-9b8f-a7d8f5ea69e3",
   "metadata": {},
   "source": [
    "# Data Types\n",
    "\n",
    "---\n",
    "\n",
    "### None Type\n",
    "- can be declare variable without any value (ex: no = None)\n",
    "\n",
    "### Boolean Type\n",
    "- can be assigned True of False (ex: b1 = True)\n",
    "\n",
    "### Number Type\n",
    "- can be assigned int, float, Octal, hexadecimal number value\n",
    "  (ex: b1 = 123, b2 = 0o177, b3 = 0x8ff, b4 = -128.345)\n",
    "\n",
    "### String Type\n",
    "- can be assigned String value (ex: b1 = 'fool')\n",
    "\n",
    "---\n",
    "\n",
    "**_Escape_**\n",
    "| Escape Sequence | Role                                      |\n",
    "|------------------|-------------------------------------------|\n",
    "| `\\n`             | New line                                  |\n",
    "| `\\t`             | Tab                                       |\n",
    "| `\\\\`             | Use `\\` in a sentence                     |\n",
    "| `\\/`             | Use `/` in a sentence                     |\n",
    "| `\\'`             | Use `'` in a sentence                     |\n",
    "| `\\\"`             | Use `\"` in a sentence                     |\n",
    "| `\\f`             | Form feed. Move cursor to the next line   |\n",
    "\n",
    "**_String Formatting_**\n",
    "| Code  | Explanation                  |\n",
    "|--------|------------------------------|\n",
    "| `%s`   | String                       |\n",
    "| `%c`   | Character                    |\n",
    "| `%d`   | Integer                      |\n",
    "| `%f`   | Floating-point number        |\n",
    "| `%o`   | Octal digit number           |\n",
    "| `%x`   | Hexadecimal digit number     |\n",
    "| `%%`   | Literal                      |\n",
    "\n",
    "**_String Indexing_**\n",
    "- Each character in a string has a index number (default start is 0)\n",
    "- \n",
    "**_String Slicing_**\n",
    "  <center>variable[begin_index:end_index]</center>\n",
    "  - Each character or some characters can be sliced by index numbers\n",
    "  - end_index is not included (ex: [9:12] -> 9, 10, 11)\n",
    "  \n",
    "**_String Functions_**\n",
    "| Function           | Explanation                                                                 |\n",
    "|--------------------|-----------------------------------------------------------------------------|\n",
    "| capitalize()       | Return the text by capitalizing the first character of the text             |\n",
    "| count(text)        | Return the number of occurrence of the text                                 |\n",
    "| find(text)         | Return the first location of the text in the string. If none found, returns -1 |\n",
    "| rfind(text)        | Return the first location of the text in the string by reverse-finding      |\n",
    "| index(text)        | Return the first location of the text in the string. If none found, error occurs |\n",
    "| lower()            | Convert the text to lower-case                                              |\n",
    "| upper()            | Convert the text to upper-case                                              |\n",
    "| replace(a, b)      | Return the text by replacing a with b                                       |\n",
    "| strip()            | Strip white-space from both sides                                           |\n",
    "| lstrip()           | Strip white-space from the left side                                        |\n",
    "| rstrip()           | Strip white-space from the right side                                       |\n",
    "| split(text)        | Split the text based on the text                                            |\n",
    "| splitlines()       | Split the text into multiple lines                                          |\n",
    "| join(strs)         | Join the strings included in strs                                           |\n",
    "| isalpha()          | Asking if the sentences are all alphabets                                   |\n",
    "| isnumeric()        | Asking if the sentences are all numbers                                     |\n",
    "| isalnum()          | Asking if the sentences are all numbers or alphabets                        |\n",
    "| format()           | Formatting the data                                                         |\n",
    "| len()              | Return the length of the sentence                                           |\n",
    "| ord(text)          | Return the ASCII code of the text                                           |\n",
    "| chr(ASCII code)    | Return the corresponding text to ASCII code                                 |\n",
    "\n",
    "### Recall: Type casting\n",
    "Data can be converted to each other\n",
    "- int() : real number, string is change to *integer*\n",
    "- float() : integer, real number, string is change to *floating-point number*\n",
    "- str() : integer, real number, can be converted to *string*"
   ]
  },
  {
   "cell_type": "markdown",
   "id": "7f67e224-0db9-4cf7-aa1e-a1fef6c2a6f3",
   "metadata": {},
   "source": [
    "### Different data types"
   ]
  },
  {
   "cell_type": "code",
   "execution_count": 16,
   "id": "051a8e83-5432-48a9-af82-5d97e91cbb4c",
   "metadata": {},
   "outputs": [
    {
     "name": "stdout",
     "output_type": "stream",
     "text": [
      "None\n"
     ]
    }
   ],
   "source": [
    "no = None\n",
    "print(no)"
   ]
  },
  {
   "cell_type": "code",
   "execution_count": 17,
   "id": "f7356888-6c86-4ce4-8ac3-9dc224cc27fa",
   "metadata": {},
   "outputs": [
    {
     "name": "stdout",
     "output_type": "stream",
     "text": [
      "True\n"
     ]
    }
   ],
   "source": [
    "b1 = True\n",
    "print(b1)"
   ]
  },
  {
   "cell_type": "code",
   "execution_count": 18,
   "id": "190178c2-ef35-40bf-9894-b0771037c0c8",
   "metadata": {},
   "outputs": [
    {
     "data": {
      "text/plain": [
       "bool"
      ]
     },
     "execution_count": 18,
     "metadata": {},
     "output_type": "execute_result"
    }
   ],
   "source": [
    "type(b1)"
   ]
  },
  {
   "cell_type": "code",
   "execution_count": 19,
   "id": "e18c8b82-c537-4fa5-8cf8-bac68280a29d",
   "metadata": {},
   "outputs": [
    {
     "ename": "NameError",
     "evalue": "name 'true' is not defined",
     "output_type": "error",
     "traceback": [
      "\u001b[1;31m---------------------------------------------------------------------------\u001b[0m",
      "\u001b[1;31mNameError\u001b[0m                                 Traceback (most recent call last)",
      "Cell \u001b[1;32mIn[19], line 1\u001b[0m\n\u001b[1;32m----> 1\u001b[0m b2 \u001b[38;5;241m=\u001b[39m true\n",
      "\u001b[1;31mNameError\u001b[0m: name 'true' is not defined"
     ]
    }
   ],
   "source": [
    "b2 = true"
   ]
  },
  {
   "cell_type": "markdown",
   "id": "216113f8-11b5-43af-83cd-f2488bcba5b7",
   "metadata": {},
   "source": [
    "### use type() to find data type"
   ]
  },
  {
   "cell_type": "code",
   "execution_count": 20,
   "id": "4b094b03-ef33-4dcb-a129-586a8ebe8aeb",
   "metadata": {},
   "outputs": [
    {
     "data": {
      "text/plain": [
       "float"
      ]
     },
     "execution_count": 20,
     "metadata": {},
     "output_type": "execute_result"
    }
   ],
   "source": [
    "a = 3.143\n",
    "type(a)"
   ]
  },
  {
   "cell_type": "code",
   "execution_count": 22,
   "id": "a8d8cbca-d74c-4aad-bb80-3b83eccfd393",
   "metadata": {},
   "outputs": [
    {
     "data": {
      "text/plain": [
       "complex"
      ]
     },
     "execution_count": 22,
     "metadata": {},
     "output_type": "execute_result"
    }
   ],
   "source": [
    "b = 2-3j\n",
    "type(b)\n",
    "### complex: composed of multiple values or structures"
   ]
  },
  {
   "cell_type": "code",
   "execution_count": 23,
   "id": "3c50a505-9f44-420d-80ab-75472ec59a34",
   "metadata": {},
   "outputs": [
    {
     "data": {
      "text/plain": [
       "2.0"
      ]
     },
     "execution_count": 23,
     "metadata": {},
     "output_type": "execute_result"
    }
   ],
   "source": [
    "b.real\n",
    "# returns real part of variable (b) which is 2"
   ]
  },
  {
   "cell_type": "code",
   "execution_count": 25,
   "id": "e6c3d9ec-c6b1-4bc8-8764-0c1f3fd94e78",
   "metadata": {},
   "outputs": [
    {
     "data": {
      "text/plain": [
       "-3.0"
      ]
     },
     "execution_count": 25,
     "metadata": {},
     "output_type": "execute_result"
    }
   ],
   "source": [
    "b.imag\n",
    "# returns imaginary part of variable (b) which is -3j (파이썬의 j는 수학에서 i의 역할을 함)"
   ]
  },
  {
   "cell_type": "markdown",
   "id": "d03ff0ee-f6e3-4ed3-bad8-bbf46e2649ca",
   "metadata": {},
   "source": [
    "### see string data type"
   ]
  },
  {
   "cell_type": "code",
   "execution_count": 26,
   "id": "8fbdf582-5b35-4c10-b171-0c5e8eabb4d1",
   "metadata": {},
   "outputs": [
    {
     "data": {
      "text/plain": [
       "'python'"
      ]
     },
     "execution_count": 26,
     "metadata": {},
     "output_type": "execute_result"
    }
   ],
   "source": [
    "\"python\""
   ]
  },
  {
   "cell_type": "code",
   "execution_count": 27,
   "id": "80d211fe-16a8-4bcf-86ec-17e77a57a963",
   "metadata": {},
   "outputs": [
    {
     "data": {
      "text/plain": [
       "'Life is short, you need Python'"
      ]
     },
     "execution_count": 27,
     "metadata": {},
     "output_type": "execute_result"
    }
   ],
   "source": [
    "\"\"\"Life is short, you need Python\"\"\""
   ]
  },
  {
   "cell_type": "code",
   "execution_count": 28,
   "id": "4af342ee-41fd-4ad6-81bb-f458a43493e7",
   "metadata": {},
   "outputs": [
    {
     "name": "stdout",
     "output_type": "stream",
     "text": [
      "double quotation mark is \".\n"
     ]
    }
   ],
   "source": [
    "str1 = \"double quotation mark is \\\".\"\n",
    "print(str1)"
   ]
  },
  {
   "cell_type": "code",
   "execution_count": 30,
   "id": "084000bf-0707-4fdf-8f19-845e30a1b0f9",
   "metadata": {},
   "outputs": [
    {
     "name": "stdout",
     "output_type": "stream",
     "text": [
      "world! \n"
     ]
    }
   ],
   "source": [
    "print(\"hello, \\rworld!\")\n",
    "# moves the cursor back to the beginning of the current line"
   ]
  },
  {
   "cell_type": "markdown",
   "id": "87f7a1e3-f341-4c0c-9dfa-5addf05a677f",
   "metadata": {},
   "source": [
    "### use format"
   ]
  },
  {
   "cell_type": "code",
   "execution_count": 31,
   "id": "7e3cbb1c-238a-4bb3-ba6a-5b36f6b0c930",
   "metadata": {},
   "outputs": [
    {
     "name": "stdout",
     "output_type": "stream",
     "text": [
      "현재 학년은 1학년이다\n"
     ]
    }
   ],
   "source": [
    "print(\"현재 학년은 %d학년이다\" % 1)"
   ]
  },
  {
   "cell_type": "code",
   "execution_count": 32,
   "id": "98ac0a8c-1d16-40aa-9fd4-0acaabe884f3",
   "metadata": {},
   "outputs": [
    {
     "name": "stdout",
     "output_type": "stream",
     "text": [
      "|       artificial intelligence|\n"
     ]
    }
   ],
   "source": [
    "print(\"|%30s|\" % \"artificial intelligence\")\n",
    "# %30s: Formats the string to be right-aligned within 30 characters"
   ]
  },
  {
   "cell_type": "code",
   "execution_count": 34,
   "id": "53369a4e-4c12-4940-b71a-9f36eec1d22d",
   "metadata": {},
   "outputs": [
    {
     "name": "stdout",
     "output_type": "stream",
     "text": [
      "|artificial intelligence       |\n"
     ]
    }
   ],
   "source": [
    "print(\"|%-30s|\" % \"artificial intelligence\")\n",
    "# %-30s: Formats the string to be left-aligned within 30 characters"
   ]
  },
  {
   "cell_type": "code",
   "execution_count": 35,
   "id": "524a756f-3960-4ff9-84ce-ceb5211797f5",
   "metadata": {},
   "outputs": [
    {
     "name": "stdout",
     "output_type": "stream",
     "text": [
      "원주율의 값은 |3.14159   |입니다\n"
     ]
    }
   ],
   "source": [
    "print(\"원주율의 값은 |%-10.5f|입니다\" % 3.141592623589793)\n",
    "# 10.5f: Formats the number as a floating-point with 5 digits after the decimal point and a total width of 10 characters"
   ]
  },
  {
   "cell_type": "code",
   "execution_count": 37,
   "id": "8f68c156-dd8a-40ba-b08b-5178571617fa",
   "metadata": {},
   "outputs": [
    {
     "name": "stdout",
     "output_type": "stream",
     "text": [
      "원주율의 값은 |3.14159|입니다\n"
     ]
    }
   ],
   "source": [
    "print(\"원주율의 값은 |%0.5f|입니다\" % 3.141592623589793)\n",
    "# %0.5f: Formats the number to have 5 digits after the decimal point."
   ]
  },
  {
   "cell_type": "markdown",
   "id": "d06bc8d4-834b-4532-be37-3e851735aa0d",
   "metadata": {},
   "source": [
    "### slicing and indexing"
   ]
  },
  {
   "cell_type": "code",
   "execution_count": 38,
   "id": "1035be11-05f5-4afb-b78e-ba9024b2cfc3",
   "metadata": {},
   "outputs": [
    {
     "data": {
      "text/plain": [
       "'artificial intelligent'"
      ]
     },
     "execution_count": 38,
     "metadata": {},
     "output_type": "execute_result"
    }
   ],
   "source": [
    "s1 = \"artificial\"\n",
    "s2 = \"intelligent\"\n",
    "s1 + \" \" + s2"
   ]
  },
  {
   "cell_type": "code",
   "execution_count": 39,
   "id": "aeffdd9f-0ca4-424a-8aaa-062fe05875ee",
   "metadata": {},
   "outputs": [
    {
     "name": "stdout",
     "output_type": "stream",
     "text": [
      "artificial intelligent!! artificial intelligent!! artificial intelligent!! \n"
     ]
    }
   ],
   "source": [
    "s3 = (s1 + ' ' + s2 + \"!! \")*3\n",
    "print(s3)"
   ]
  },
  {
   "cell_type": "code",
   "execution_count": 40,
   "id": "65e28e2d-8424-4876-91c3-c8dd8d0b7dfc",
   "metadata": {},
   "outputs": [
    {
     "name": "stdout",
     "output_type": "stream",
     "text": [
      "art\n"
     ]
    }
   ],
   "source": [
    "print(s3[0:3])"
   ]
  },
  {
   "cell_type": "code",
   "execution_count": 42,
   "id": "44ebf4ae-6bde-449d-9b4a-6f8e43ed50d3",
   "metadata": {},
   "outputs": [
    {
     "name": "stdout",
     "output_type": "stream",
     "text": [
      "art\n"
     ]
    }
   ],
   "source": [
    "print(s3[0]+s3[1]+s3[2])"
   ]
  },
  {
   "cell_type": "markdown",
   "id": "41c5c4b2-352a-43e3-8d2d-85a818573d7b",
   "metadata": {},
   "source": [
    "### use functions"
   ]
  },
  {
   "cell_type": "code",
   "execution_count": 43,
   "id": "a8408284-0e1f-4d09-b628-faba1be9cf60",
   "metadata": {},
   "outputs": [
    {
     "data": {
      "text/plain": [
       "'Artificial intelligence'"
      ]
     },
     "execution_count": 43,
     "metadata": {},
     "output_type": "execute_result"
    }
   ],
   "source": [
    "s4 = \"artificial intelligence\"\n",
    "s4.capitalize()"
   ]
  },
  {
   "cell_type": "code",
   "execution_count": 44,
   "id": "2745db1a-5c81-4f14-96f2-6ae2620d1ca1",
   "metadata": {},
   "outputs": [
    {
     "data": {
      "text/plain": [
       "2"
      ]
     },
     "execution_count": 44,
     "metadata": {},
     "output_type": "execute_result"
    }
   ],
   "source": [
    "s4.count('t')"
   ]
  },
  {
   "cell_type": "code",
   "execution_count": 45,
   "id": "bb6dd0e3-c5de-4bbf-adbc-60c4d11d3322",
   "metadata": {},
   "outputs": [
    {
     "data": {
      "text/plain": [
       "2"
      ]
     },
     "execution_count": 45,
     "metadata": {},
     "output_type": "execute_result"
    }
   ],
   "source": [
    "s4.find('t')"
   ]
  },
  {
   "cell_type": "code",
   "execution_count": 46,
   "id": "a06990a9-3126-4b39-848e-fae73fa24957",
   "metadata": {},
   "outputs": [
    {
     "data": {
      "text/plain": [
       "2"
      ]
     },
     "execution_count": 46,
     "metadata": {},
     "output_type": "execute_result"
    }
   ],
   "source": [
    "s4.index('t')"
   ]
  },
  {
   "cell_type": "code",
   "execution_count": 49,
   "id": "b6f11ffa-f2b3-4536-976b-3afcacb606b9",
   "metadata": {},
   "outputs": [
    {
     "name": "stdout",
     "output_type": "stream",
     "text": [
      "ARTIFICIAL INTELLIGENCE\n"
     ]
    }
   ],
   "source": [
    "s5 = s4.upper()\n",
    "print(s5)"
   ]
  },
  {
   "cell_type": "code",
   "execution_count": 50,
   "id": "af40ae0a-edad-4307-9105-cbff5f4f2234",
   "metadata": {},
   "outputs": [
    {
     "data": {
      "text/plain": [
       "'artificial intelligence'"
      ]
     },
     "execution_count": 50,
     "metadata": {},
     "output_type": "execute_result"
    }
   ],
   "source": [
    "s5.lower()"
   ]
  },
  {
   "cell_type": "code",
   "execution_count": 51,
   "id": "e3c6be26-8c1a-4e79-a35a-d889e2e82c62",
   "metadata": {},
   "outputs": [
    {
     "data": {
      "text/plain": [
       "'인공 INTELLIGENCE'"
      ]
     },
     "execution_count": 51,
     "metadata": {},
     "output_type": "execute_result"
    }
   ],
   "source": [
    "s5.replace('ARTIFICIAL', '인공')"
   ]
  },
  {
   "cell_type": "code",
   "execution_count": 53,
   "id": "ea573bf8-d95d-4818-9bd6-29d822ba691a",
   "metadata": {},
   "outputs": [
    {
     "data": {
      "text/plain": [
       "'artificial intelligence'"
      ]
     },
     "execution_count": 53,
     "metadata": {},
     "output_type": "execute_result"
    }
   ],
   "source": [
    "s6 = '          artificial intelligence             '\n",
    "s6.strip()"
   ]
  },
  {
   "cell_type": "code",
   "execution_count": 54,
   "id": "a35c8f90-35ad-428c-b7cb-36634bd22ec8",
   "metadata": {},
   "outputs": [
    {
     "data": {
      "text/plain": [
       "'artificial intelligence             '"
      ]
     },
     "execution_count": 54,
     "metadata": {},
     "output_type": "execute_result"
    }
   ],
   "source": [
    "s6.lstrip()"
   ]
  },
  {
   "cell_type": "code",
   "execution_count": 55,
   "id": "2d907648-d356-481c-b3ce-8a32004006d9",
   "metadata": {},
   "outputs": [
    {
     "data": {
      "text/plain": [
       "'          artificial intelligence'"
      ]
     },
     "execution_count": 55,
     "metadata": {},
     "output_type": "execute_result"
    }
   ],
   "source": [
    "s6.rstrip()"
   ]
  },
  {
   "cell_type": "code",
   "execution_count": 57,
   "id": "857be2ed-f986-48d8-be70-a4b825de1e25",
   "metadata": {},
   "outputs": [
    {
     "name": "stdout",
     "output_type": "stream",
     "text": [
      "www.hanyang.ac.kr\n"
     ]
    }
   ],
   "source": [
    "s7 = \"www.hanyang.ac.kr\"\n",
    "print(s7)"
   ]
  },
  {
   "cell_type": "code",
   "execution_count": 58,
   "id": "19595cc3-9970-4421-a308-5bf5b26649e6",
   "metadata": {},
   "outputs": [
    {
     "data": {
      "text/plain": [
       "['www', 'hanyang', 'ac', 'kr']"
      ]
     },
     "execution_count": 58,
     "metadata": {},
     "output_type": "execute_result"
    }
   ],
   "source": [
    "s7.split('.')"
   ]
  },
  {
   "cell_type": "code",
   "execution_count": 59,
   "id": "a588a755-d74a-4c8b-a2ba-bc63ac09dfe2",
   "metadata": {},
   "outputs": [
    {
     "name": "stdout",
     "output_type": "stream",
     "text": [
      "우리들은 모두\n",
      "무엇이 되고 싶다.\n",
      "너는 나에게 나는 너에게\n",
      "잊혀지지 않는 하나의 눈짓이 되고 싶다\n"
     ]
    }
   ],
   "source": [
    "poem = '''우리들은 모두\n",
    "무엇이 되고 싶다.\n",
    "너는 나에게 나는 너에게\n",
    "잊혀지지 않는 하나의 눈짓이 되고 싶다'''\n",
    "\n",
    "print(poem)"
   ]
  },
  {
   "cell_type": "code",
   "execution_count": 60,
   "id": "4c78bf39-e05f-4ce5-a8f4-4a1d199fe209",
   "metadata": {},
   "outputs": [
    {
     "data": {
      "text/plain": [
       "['우리들은 모두', '무엇이 되고 싶다.', '너는 나에게 나는 너에게', '잊혀지지 않는 하나의 눈짓이 되고 싶다']"
      ]
     },
     "execution_count": 60,
     "metadata": {},
     "output_type": "execute_result"
    }
   ],
   "source": [
    "poem.splitlines()"
   ]
  },
  {
   "cell_type": "code",
   "execution_count": 70,
   "id": "b44f9721-b9d9-45b7-a52c-61ae09d6ad1d",
   "metadata": {},
   "outputs": [
    {
     "name": "stdout",
     "output_type": "stream",
     "text": [
      "department of ai\n"
     ]
    }
   ],
   "source": [
    "str6 = \"department of {}\"\n",
    "print(str6.format('ai'))"
   ]
  },
  {
   "cell_type": "code",
   "execution_count": 71,
   "id": "abe0a7cc-871c-49c4-b9ac-214b35d707b5",
   "metadata": {},
   "outputs": [
    {
     "name": "stdout",
     "output_type": "stream",
     "text": [
      "artificial intelligence\n"
     ]
    }
   ],
   "source": [
    "print(s4)"
   ]
  },
  {
   "cell_type": "code",
   "execution_count": 72,
   "id": "59470fb1-9d26-4e5c-9a1f-45230338ba46",
   "metadata": {},
   "outputs": [
    {
     "data": {
      "text/plain": [
       "'a$r$t$i$f$i$c$i$a$l$ $i$n$t$e$l$l$i$g$e$n$c$e'"
      ]
     },
     "execution_count": 72,
     "metadata": {},
     "output_type": "execute_result"
    }
   ],
   "source": [
    "\"$\".join(s4)"
   ]
  },
  {
   "cell_type": "code",
   "execution_count": 73,
   "id": "e01866c1-0561-452a-afdd-4b53367f3b8a",
   "metadata": {},
   "outputs": [
    {
     "data": {
      "text/plain": [
       "True"
      ]
     },
     "execution_count": 73,
     "metadata": {},
     "output_type": "execute_result"
    }
   ],
   "source": [
    "(\"python\").isalpha()"
   ]
  },
  {
   "cell_type": "code",
   "execution_count": 74,
   "id": "b206ff23-e50f-4efe-ad46-2175f4566d66",
   "metadata": {},
   "outputs": [
    {
     "data": {
      "text/plain": [
       "False"
      ]
     },
     "execution_count": 74,
     "metadata": {},
     "output_type": "execute_result"
    }
   ],
   "source": [
    "('-30000').isnumeric()"
   ]
  },
  {
   "cell_type": "code",
   "execution_count": 75,
   "id": "1248914c-ceaa-4845-9c50-f172ec6cd991",
   "metadata": {},
   "outputs": [
    {
     "data": {
      "text/plain": [
       "True"
      ]
     },
     "execution_count": 75,
     "metadata": {},
     "output_type": "execute_result"
    }
   ],
   "source": [
    "('3000').isnumeric()"
   ]
  },
  {
   "cell_type": "code",
   "execution_count": 63,
   "id": "e35780ad-7a45-4c64-9723-4920154b6ab2",
   "metadata": {},
   "outputs": [
    {
     "name": "stdout",
     "output_type": "stream",
     "text": [
      "department of computer engineering\n"
     ]
    }
   ],
   "source": [
    "str6 = \"department of {} {}\"\n",
    "print(str6.format('computer', 'engineering'))"
   ]
  },
  {
   "cell_type": "code",
   "execution_count": 66,
   "id": "75a665f0-ebbd-4d44-8d03-37cf93035c26",
   "metadata": {},
   "outputs": [
    {
     "name": "stdout",
     "output_type": "stream",
     "text": [
      "department of $$$$Engineering$$$$$\n"
     ]
    }
   ],
   "source": [
    "str7 = 'department of {:$^20}'\n",
    "# : introduces the format specification.\n",
    "# ^ indicates center alignment.\n",
    "# 20 specifies the total width of the field.\n",
    "\n",
    "# {:^20}: Center-align within 20 characters, using spaces as padding.\n",
    "# {:*^20}: Center-align within 20 characters, using * as padding.\n",
    "\n",
    "print(str7.format(\"Engineering\"))"
   ]
  },
  {
   "cell_type": "code",
   "execution_count": 76,
   "id": "ba32af91-52ec-458a-9045-d1a39464fba6",
   "metadata": {},
   "outputs": [
    {
     "name": "stdout",
     "output_type": "stream",
     "text": [
      "department of $$$$$$$$$Engineering\n"
     ]
    }
   ],
   "source": [
    "str7 = 'department of {:$>20}'\n",
    "# > indicates right alignment.\n",
    "# {:*>20} right-aligns the text and fills the padding with asterisks (*)\n",
    "print(str7.format(\"Engineering\"))"
   ]
  },
  {
   "cell_type": "code",
   "execution_count": 68,
   "id": "8c47f1e9-fd65-44f8-b6ad-01f92bd27c4d",
   "metadata": {},
   "outputs": [
    {
     "name": "stdout",
     "output_type": "stream",
     "text": [
      "department of Engineering$$$$$$$$$\n"
     ]
    }
   ],
   "source": [
    "str7 = 'department of {:$<20}'\n",
    "# > indicates left alignment.\n",
    "# {:*<20} left-aligns the text and fills the padding with asterisks (*)\n",
    "print(str7.format(\"Engineering\"))"
   ]
  },
  {
   "cell_type": "code",
   "execution_count": 69,
   "id": "647bb549-3247-4df0-8a8c-8db5734604a7",
   "metadata": {},
   "outputs": [
    {
     "data": {
      "text/plain": [
       "14"
      ]
     },
     "execution_count": 69,
     "metadata": {},
     "output_type": "execute_result"
    }
   ],
   "source": [
    "a5 = \"life is short!\"\n",
    "len(a5)"
   ]
  },
  {
   "cell_type": "markdown",
   "id": "97b6c305-c70d-4932-8055-de422637eb5c",
   "metadata": {},
   "source": [
    "### 연습문제 1"
   ]
  },
  {
   "cell_type": "markdown",
   "id": "da598e88-f7f5-4e06-b773-bcf7752ee8fa",
   "metadata": {},
   "source": [
    "다음중 식별자(변수 명)로 사용할 수 있는 단어와 없는 단어를 구분하시오.\n",
    "1) 작성한 답변은 주석으로 처리 2) 사용할수 없다면, 그이유를 함께 작성하시오.\n",
    "-----------------------------------------------------------------\n",
    "1) a → 사용 가능: 영문자로 시작하는 유효한 식별자입니다.\n",
    "2) $hello → 사용 불가: 식별자는 영문자 또는 밑줄(_)로 시작해야 하며, 특수문자 $는 허용되지 않습니다.\n",
    "3) 10_hello → 사용 불가: 숫자로 시작하는 식별자는 허용되지 않습니다.\n",
    "4) bye → 사용 가능: 영문자로 시작하는 유효한 식별자입니다.\n",
    "5) break → 사용 불가: 'break'는 예약어로, 식별자로 사용할 수 없습니다."
   ]
  },
  {
   "cell_type": "markdown",
   "id": "105d377d-764b-49e5-ad46-2500354bce3b",
   "metadata": {},
   "source": [
    "### 연습문제2\n",
    "과일 가게에서 사과(개당 2000원)와 바나나(개당 1500원)를 사려고 한다. 사과와 바나나 각각의 구매 개수를 입력받아, 총 구매 금액을 계산하는 프로그램을 작성하시오.\n",
    "조건 1) print(), input(), 변수 선언, 사칙연산, format() 함수를 전부 이용할 것 2) 출력 예시 지킬 것"
   ]
  },
  {
   "cell_type": "code",
   "execution_count": 82,
   "id": "b6c9ee3d-d26f-45d9-aa38-68ca5bc8f422",
   "metadata": {},
   "outputs": [
    {
     "name": "stdin",
     "output_type": "stream",
     "text": [
      "사과의 개수:  3\n",
      "바나나의 개수:  2\n"
     ]
    },
    {
     "name": "stdout",
     "output_type": "stream",
     "text": [
      "사과 3개의 총합: 6000원, 바나나 2개의 총합: 3000원\n",
      "총 구매 금액은 9000원이다.\n"
     ]
    }
   ],
   "source": [
    "apple = int(input(\"사과의 개수: \"))\n",
    "bannana = int(input(\"바나나의 개수: \"))\n",
    "print(\"사과 {}개의 총합: {}원, 바나나 {}개의 총합: {}원\".format(apple, apple*2000, bannana, bannana*1500))\n",
    "print(\"총 구매 금액은 %d원이다.\" % (apple*2000+bannana*1500))"
   ]
  }
 ],
 "metadata": {
  "kernelspec": {
   "display_name": "Python [conda env:base] *",
   "language": "python",
   "name": "conda-base-py"
  },
  "language_info": {
   "codemirror_mode": {
    "name": "ipython",
    "version": 3
   },
   "file_extension": ".py",
   "mimetype": "text/x-python",
   "name": "python",
   "nbconvert_exporter": "python",
   "pygments_lexer": "ipython3",
   "version": "3.12.7"
  }
 },
 "nbformat": 4,
 "nbformat_minor": 5
}
