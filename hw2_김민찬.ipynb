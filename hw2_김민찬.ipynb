{
  "nbformat": 4,
  "nbformat_minor": 0,
  "metadata": {
    "colab": {
      "provenance": []
    },
    "kernelspec": {
      "name": "python3",
      "display_name": "Python 3"
    },
    "language_info": {
      "name": "python"
    }
  },
  "cells": [
    {
      "cell_type": "code",
      "execution_count": null,
      "metadata": {
        "colab": {
          "base_uri": "https://localhost:8080/"
        },
        "id": "nIEzghniKkV5",
        "outputId": "1fe50bf4-3765-4fff-806f-96f1cff10ebb"
      },
      "outputs": [
        {
          "output_type": "stream",
          "name": "stdout",
          "text": [
            "65\n",
            "66\n",
            "67\n",
            "\n",
            "enter letter: a\n",
            "97\n",
            "enter letter: b\n",
            "98\n",
            "enter letter: c\n",
            "99\n"
          ]
        }
      ],
      "source": [
        "# Q1: print()와 ord()함수를 이용해 하나의 문자를 인자로 받아 해당하는 유니코드 정수 변환하기 (총 3개 출력)\n",
        "\n",
        "# 함수에서 읽어 변환\n",
        "char = \"A\"\n",
        "print(ord(char))\n",
        "char = \"B\"\n",
        "print(ord(char))\n",
        "char = \"C\"\n",
        "print(ord(char))\n",
        "\n",
        "# 유저 입력 받은 다음 변환\n",
        "print(ord(input(\"\\nenter letter: \")))\n",
        "print(ord(input(\"enter letter: \")))\n",
        "print(ord(input(\"enter letter: \")))"
      ]
    },
    {
      "cell_type": "code",
      "source": [
        "# Q2: print()와 chr()함수를 이용해 하나의 문자를 인자로 받아 해당하는 유니코드 문자 변환하기 (총 3개 출력)\n",
        "\n",
        "# 함수에서 읽어 변환\n",
        "char = 65\n",
        "print(chr(char))\n",
        "char = 66\n",
        "print(chr(char))\n",
        "char = 67\n",
        "print(chr(char))\n",
        "\n",
        "# 유저 입력 받은 다음 변환\n",
        "print(chr(int(input(\"\\nenter number: \"))))\n",
        "print(chr(int(input(\"enter number: \"))))\n",
        "print(chr(int(input(\"enter number: \"))))"
      ],
      "metadata": {
        "colab": {
          "base_uri": "https://localhost:8080/"
        },
        "id": "XxlLNMfuUdsh",
        "outputId": "b1c885c0-78ff-47a4-a410-e0af696f3a63"
      },
      "execution_count": null,
      "outputs": [
        {
          "output_type": "stream",
          "name": "stdout",
          "text": [
            "A\n",
            "B\n",
            "C\n",
            "\n",
            "enter number: 65\n",
            "A\n",
            "enter number: 66\n",
            "B\n",
            "enter number: 67\n",
            "C\n"
          ]
        }
      ]
    },
    {
      "cell_type": "code",
      "source": [
        "# Q3: 이름, 학번, 과목 명 사이 공백을 \"\\t\"를 사용하여 출력하기\n",
        "\n",
        "print(\"김민찬\\t2023059889\\t기초컴퓨터프로그래밍\")"
      ],
      "metadata": {
        "colab": {
          "base_uri": "https://localhost:8080/"
        },
        "id": "C6kYxZmcU9fF",
        "outputId": "d8da8052-263a-47eb-aa98-316d241f6f5f"
      },
      "execution_count": null,
      "outputs": [
        {
          "output_type": "stream",
          "name": "stdout",
          "text": [
            "김민찬\t2023059889\t기초컴퓨터프로그래밍\n"
          ]
        }
      ]
    },
    {
      "cell_type": "code",
      "source": [
        "# Q4: 이름, 학번, 과목 명 사이 공백을 쉼표(,) 사용하여 출력하기\n",
        "\n",
        "print(\"김민찬\", \"2023059889\", \"기초컴퓨터프로그래밍\", sep=',')"
      ],
      "metadata": {
        "colab": {
          "base_uri": "https://localhost:8080/"
        },
        "id": "vcZAhGMlVbyi",
        "outputId": "1596e485-fd79-4fd3-cbd3-98cc4e8e2e6c"
      },
      "execution_count": null,
      "outputs": [
        {
          "output_type": "stream",
          "name": "stdout",
          "text": [
            "김민찬,2023059889,기초컴퓨터프로그래밍\n"
          ]
        }
      ]
    },
    {
      "cell_type": "code",
      "source": [
        "# Q5: 1-20까지의 숫자를 다섯 개씩 줄바꿈 적용하여 출력하기\n",
        "\n",
        "# 방법 1\n",
        "print(\"12345\\n678910\\n1112131415\\n1617181920\")\n",
        "\n",
        "print()\n",
        "# 방법 2\n",
        "print(12345)\n",
        "print(678910)\n",
        "print(1112131415)\n",
        "print(1617181920)"
      ],
      "metadata": {
        "colab": {
          "base_uri": "https://localhost:8080/"
        },
        "id": "nTGPe5USdJcQ",
        "outputId": "a317d972-9190-46a6-d141-3247a4544723"
      },
      "execution_count": null,
      "outputs": [
        {
          "output_type": "stream",
          "name": "stdout",
          "text": [
            "12345\n",
            "678910\n",
            "1112131415\n",
            "1617181920\n",
            "\n",
            "12345\n",
            "678910\n",
            "1112131415\n",
            "1617181920\n"
          ]
        }
      ]
    },
    {
      "cell_type": "code",
      "source": [
        "# Q6: 슬래시(/) 마다 줄바꿈 적용하여 출력하기\n",
        "# -> 동해물과 백두산이 마르고 닳도록 / 하느님이 보우하사 우리나라 만세 / 무궁화 삼천리 화려 강산 / 대한사람 대한으로 길이 보전하세\n",
        "\n",
        "# 방법 1\n",
        "print(\"동해물과 백두산이 마르고 닳도록 \\n하느님이 보우하사 우리나라 만세 \\n무궁화 삼천리 화려 강산 \\n대한사람 대한으로 길이 보전하세\")\n",
        "\n",
        "print()\n",
        "# 방법 2\n",
        "print(\"동해물과 백두산이 마르고 닳도록\", \"하느님이 보우하사 우리나라 만세\", \"무궁화 삼천리 화려 강산\", \"대한사람 대한으로 길이 보전하세\", sep=\"\\n\", end=\"\\n\")"
      ],
      "metadata": {
        "colab": {
          "base_uri": "https://localhost:8080/"
        },
        "id": "hJplr1hWd2wG",
        "outputId": "58e0c2cb-ffc0-4286-d090-ee8c06057c9a"
      },
      "execution_count": null,
      "outputs": [
        {
          "output_type": "stream",
          "name": "stdout",
          "text": [
            "동해물과 백두산이 마르고 닳도록 \n",
            "하느님이 보우하사 우리나라 만세 \n",
            "무궁화 삼천리 화려 강산 \n",
            "대한사람 대한으로 길이 보전하세\n",
            "\n",
            "동해물과 백두산이 마르고 닳도록\n",
            "하느님이 보우하사 우리나라 만세\n",
            "무궁화 삼천리 화려 강산\n",
            "대한사람 대한으로 길이 보전하세\n"
          ]
        }
      ]
    },
    {
      "cell_type": "code",
      "source": [
        "# Q7: print()를 사용한 출력과 사용하지 않은 출력의 차이점을 기재하시오\n",
        "'''\n",
        "print()는 콘솔 출력에 사용되며, 매개변수를 통해 출력 형식 조정이 가능하고 함수를 통한 값 반환도 가능. (ex: \\t, \\n, sep     함수 ex: ord() )\n",
        "print()를 사용하지 않는 출력은 자동 줄바꿈이 없고 출력 형식 조정이 불가능.\n",
        "'''"
      ],
      "metadata": {
        "id": "ePXzh67-eG9y"
      },
      "execution_count": null,
      "outputs": []
    },
    {
      "cell_type": "code",
      "source": [
        "# 연습 문제 2\n",
        "\n",
        "num1 = input(\"첫번쨰 정수: \")\n",
        "num2 = input(\"두번쨰 정수: \")\n",
        "print(\"-\"*16)\n",
        "print(num1, ' + ', num2, ' = ', int(num1) + int(num2))\n",
        "print(num1, ' - ', num2, ' = ', int(num1) - int(num2))\n",
        "print(num1, ' * ', num2, ' = ', int(num1) * int(num2))\n",
        "print(num1, ' / ', num2, ' = ', int(num1) / int(num2))"
      ],
      "metadata": {
        "colab": {
          "base_uri": "https://localhost:8080/"
        },
        "id": "HGYKqnvff5wx",
        "outputId": "c7981625-9a7c-4d93-9f67-a15ebe764973"
      },
      "execution_count": null,
      "outputs": [
        {
          "output_type": "stream",
          "name": "stdout",
          "text": [
            "첫번쨰 정수: 10\n",
            "두번쨰 정수: 20\n",
            "----------------\n",
            "10  +  20  =  30\n",
            "10  -  20  =  -10\n",
            "10  *  20  =  200\n",
            "10  /  20  =  0.5\n"
          ]
        }
      ]
    }
  ]
}
