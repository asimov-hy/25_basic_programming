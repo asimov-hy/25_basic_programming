{
  "nbformat": 4,
  "nbformat_minor": 0,
  "metadata": {
    "colab": {
      "provenance": []
    },
    "kernelspec": {
      "name": "python3",
      "display_name": "Python 3"
    },
    "language_info": {
      "name": "python"
    }
  },
  "cells": [
    {
      "cell_type": "code",
      "execution_count": null,
      "metadata": {
        "id": "YcT3GBN0SZc9"
      },
      "outputs": [],
      "source": [
        "#다음중 식별자(변수 명)로 사용할 수 있는 단어와 없는 단어를 구분하시오.\n",
        "# (1)작성한 답변은 주석으로 처리 (2) 사용할 수 없다면, 그 이유를 함께 작성하시오\n",
        "#-------------------------------------------------------------------------------\n",
        "\n",
        "#(1) a - 사용 가능\n",
        "a = 10\n",
        "\n",
        "#(2) $hello - 사용 불가\n",
        "# 변수 명의 첫글자로 특수기호 사용 불가능\n",
        "\n",
        "#(3) 10_hello - 사용 불가\n",
        "# 변수 명의 첫 글자로 숫자 사용 불가능\n",
        "\n",
        "#(4) bye - 사용 가능\n",
        "bye = 20\n",
        "\n",
        "\n",
        "#(5) break - 사용 불가능\n",
        "# 변수 명으로 키워드 사용 불가능"
      ]
    },
    {
      "cell_type": "code",
      "source": [
        "# 과일 가게에서 사과(개당 2000원)와 바나나(개당 1500원)를 사려고 한다. 사과와 마나나 각각의 구매 개수를 입력받아, 총 구매 금액을 계산하는 프로그램을 작성하시오.\n",
        "# 조건[a] print(), input(), 변수 선언, 사칙연산, format() 함수를 전부 이용할 것, [b] 출력 예시 지킬것\n",
        "\n",
        "# input(): 과일의 개수 받기\n",
        "# 변수선언: 과일의 갯수를 저장\n",
        "apple=int(input(\"사과의 개수: \"))\n",
        "banana=int(input(\"바나나의 개수: \"))\n",
        "\n",
        "# 사칙연산\n",
        "applePrice = apple*2000\n",
        "bananaPrice = banana*1500\n",
        "\n",
        "# print: 최종 문구 출력\n",
        "# format: 계산 결과 제시\n",
        "str1=\"사과 {}개의 총합: {}원, 바나나 {}개의 총합: {}원\"\n",
        "print(str1.format(apple, applePrice, banana, bananaPrice))\n",
        "str2=\"총 구매 금액은 {}원이다.\"\n",
        "print(str2.format(applePrice+bananaPrice))\n"
      ],
      "metadata": {
        "id": "ZA44S_KNeN9v",
        "colab": {
          "base_uri": "https://localhost:8080/"
        },
        "outputId": "e1a6d2d4-1521-4d15-e234-17c45276d15f"
      },
      "execution_count": null,
      "outputs": [
        {
          "output_type": "stream",
          "name": "stdout",
          "text": [
            "사과의 개수: 3\n",
            "바나나의 개수: 2\n",
            "사과 3개의 총합: 6000원, 바나나 2개의 총합: 3000원\n",
            "총 구매 금액은 9000원이다.\n"
          ]
        }
      ]
    }
  ]
}