{
  "nbformat": 4,
  "nbformat_minor": 0,
  "metadata": {
    "colab": {
      "provenance": []
    },
    "kernelspec": {
      "name": "python3",
      "display_name": "Python 3"
    },
    "language_info": {
      "name": "python"
    }
  },
  "cells": [
    {
      "cell_type": "code",
      "execution_count": null,
      "metadata": {
        "colab": {
          "base_uri": "https://localhost:8080/"
        },
        "id": "gF1DwRIYZBZ3",
        "outputId": "3e256a9d-846e-49a2-b2fd-5a341ab1d6c8"
      },
      "outputs": [
        {
          "output_type": "stream",
          "name": "stdout",
          "text": [
            "0 to 100: 5050\n",
            "0 to 1000: 500500\n",
            "50 to 1000: 499275\n"
          ]
        }
      ],
      "source": [
        "# 범위 내부의 점수를 모두 더하는 함수를 선언하고 호출하는 코드를 작성하시오.\n",
        "# 조건: 1) 주어진 함수명을 사용할 것 2) return 을사용할것 3) input() 불가 => 매개변수로\n",
        "# -------------------------------\n",
        "\n",
        "# 함수 선언\n",
        "def sum_all(start_num, end_num):\n",
        "    sum = 0\n",
        "    for i in range(start_num, end_num + 1):\n",
        "        sum += i\n",
        "    return sum\n",
        "\n",
        "# 함수 호출\n",
        "print(\"0 to 100:\", sum_all(0, 100))\n",
        "print(\"0 to 1000:\", sum_all(0, 1000))\n",
        "print(\"50 to 1000:\", sum_all(50, 1000))"
      ]
    },
    {
      "cell_type": "code",
      "source": [
        "# 두 점수를 배열의 대소관계를 비교하는 코드를 작성하시오.\n",
        "#   1) 두 배열의 길이가 다르다면 배열의 길이가 긴 쪽이 더 크다.\n",
        "#   2) 배열의 실이가 같다면, 각 배열에 있는 모든 우너소의 합을 비교하여 다르다면 더 큰 쪽이 크고 같다면 같다.\n",
        "# 두 정수 배열 arr1과 arr2가 주어질 때, 정의한 배열의 대소관계에 대해\n",
        "#   arr2이 크다면 (arr2의 길이가 더 길거나, 길이가 같아도 모든 원소의 합이 큰 경우) => -1\n",
        "#   arr1이 크다면 (arr1의 길이가 더 길거나, 길이가 같아도 모든 원소의 합이 더 큰 경우) => 1\n",
        "#   두 배열이 같다면 (두 배열의 길이도 같고 각 배열에 있는 모든 원소의 합도 같은 경우) => 0\n",
        "# 을 return 하는 함수를 작성하시오.\n",
        "# 조건: 1) 주어진 함수 명을 이용할 것 2) len(), sum(), return을 이용할 것 3)input() 불가 => 두개의 리스트를 매개변수로\n",
        "#-----------------------------------------------------------------------------------\n",
        "\n",
        "# 함수 선언\n",
        "def solution(arr1, arr2):\n",
        "    # 길이가 다른 경우\n",
        "    if len(arr1) > len(arr2):\n",
        "        return 1\n",
        "    elif len(arr1) < len(arr2):\n",
        "        return -1\n",
        "    else:   # 길이가 같은 경우\n",
        "        if sum(arr1) > sum(arr2):\n",
        "            return 1\n",
        "        elif sum(arr1) < sum(arr2):\n",
        "            return -1\n",
        "        else:\n",
        "            return 0\n",
        "\n",
        "# 함수 호출\n",
        "print(solution([49, 13], [70, 11, 2])) # => -1\n",
        "print(solution([100, 17, 84, 1], [55, 12, 65, 36])) # => 1\n",
        "print(solution([1, 2, 3, 4, 5], [3, 3, 3, 3, 3])) # => 0"
      ],
      "metadata": {
        "colab": {
          "base_uri": "https://localhost:8080/"
        },
        "id": "SE5aWdRUbKsu",
        "outputId": "bd7c677b-c278-43a3-c70d-8ef7972143aa"
      },
      "execution_count": null,
      "outputs": [
        {
          "output_type": "stream",
          "name": "stdout",
          "text": [
            "-1\n",
            "1\n",
            "0\n"
          ]
        }
      ]
    }
  ]
}