{
  "nbformat": 4,
  "nbformat_minor": 0,
  "metadata": {
    "colab": {
      "provenance": []
    },
    "kernelspec": {
      "name": "python3",
      "display_name": "Python 3"
    },
    "language_info": {
      "name": "python"
    }
  },
  "cells": [
    {
      "cell_type": "code",
      "source": [
        "# 윤년 계산 코드\n",
        "# 1) 4로 나누어지는 해는 윤년, 2) 100으로 나누어지면 평년 3) 400으로 나누어지면 윤년\n",
        "year = int(input(\"Put the year: \"))\n",
        "print( year % 4 == 0 and (year % 100 != 0 or year % 400 == 0) )"
      ],
      "metadata": {
        "colab": {
          "base_uri": "https://localhost:8080/"
        },
        "id": "UotLiXkXdIP1",
        "outputId": "5e8872b6-154e-476a-f2a3-fc80b8ee941b"
      },
      "execution_count": null,
      "outputs": [
        {
          "output_type": "stream",
          "name": "stdout",
          "text": [
            "Put the year: 2024\n",
            "True\n"
          ]
        }
      ]
    },
    {
      "cell_type": "code",
      "execution_count": null,
      "metadata": {
        "colab": {
          "base_uri": "https://localhost:8080/"
        },
        "id": "7pAGAJzzT76F",
        "outputId": "8b593c06-9d9b-4928-af23-3854a915ac6a"
      },
      "outputs": [
        {
          "output_type": "stream",
          "name": "stdout",
          "text": [
            "첫 번째 숫자:10\n",
            "두 번째 숫자:3\n",
            "--------------------------\n",
            "10 + 3 = 13\n",
            "10 - 3 = 7\n",
            "10 * 3 = 30\n",
            "10 / 3 = 3.3333333333333335\n",
            "10 // 3 = 3\n",
            "10 % 3 = 1\n",
            "10 ** 3 = 1000\n"
          ]
        }
      ],
      "source": [
        "#숫자 두 개를 입력받고, 산술 연산자를 이용해 수식을 계산하는 코드를 작성하시오.\n",
        "# 조건 1) input, format() 함수를 이용 2) 산술연산자: +, -, *, /, //, %, **\n",
        "a = int(input(\"첫 번째 숫자:\"))\n",
        "b = int(input(\"두 번째 숫자:\"))\n",
        "print(\"--------------------------\")\n",
        "print(\"{} + {} = {}\".format(a, b, a+b))\n",
        "print(\"{} - {} = {}\".format(a, b, a-b))\n",
        "print(\"{} * {} = {}\".format(a, b, a*b))\n",
        "print(\"{} / {} = {}\".format(a, b, a/b))\n",
        "print(\"{} // {} = {}\".format(a, b, a//b))\n",
        "print(\"{} % {} = {}\".format(a, b, a%b))\n",
        "print(\"{} ** {} = {}\".format(a, b, a**b))"
      ]
    },
    {
      "cell_type": "code",
      "source": [
        "# 입력한 금액을 50,000원 10,000원 5,000원 1,000원 500원 100원 50원 10원으로 겨환하는 코드를 작성하시오.\n",
        "# 조건 1) input(), 산술 연산자, 대입연산자를 사용할 것 2) if 혹은 for의 사용금지\n",
        "money = int(input(\"교환할돈을 입력하시오: \"))\n",
        "w1 = money // 50000\n",
        "money %= 50000\n",
        "w2 = money // 10000\n",
        "money %= 10000\n",
        "w3 = money // 5000\n",
        "money %= 5000\n",
        "w4 = money // 1000\n",
        "money %= 1000\n",
        "w5 = money // 500\n",
        "money %= 500\n",
        "w6 = money // 100\n",
        "money %= 100\n",
        "w7 = money // 50\n",
        "money %= 50\n",
        "w8 = money // 10\n",
        "money %= 10\n",
        "print(\"50,000원 {}장, 10,000원 {}장, 5,000 {}장, 1,000 {}장, 500원 {}개, 100원 {}개, 50원 {}개, 10원 {}개\".format(w1, w2, w3, w4, w5, w6, w7, w8))\n",
        "print(\"교환하지 못한 돈 ==> {}원\".format( money ))"
      ],
      "metadata": {
        "colab": {
          "base_uri": "https://localhost:8080/"
        },
        "id": "3ii0ADhdbBkY",
        "outputId": "69aac077-c50b-4cff-9a31-08b305cfc604"
      },
      "execution_count": null,
      "outputs": [
        {
          "output_type": "stream",
          "name": "stdout",
          "text": [
            "교환할돈을 입력하시오: 777777\n",
            "50,000원 15장, 10,000원 2장, 5,000 1장, 1,000 2장, 500원 1개, 100원 2개, 50원 1개, 10원 2개\n",
            "교환하지 못한 돈 == 7원\n"
          ]
        }
      ]
    }
  ]
}