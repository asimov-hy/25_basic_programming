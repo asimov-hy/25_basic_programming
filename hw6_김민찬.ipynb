{
  "nbformat": 4,
  "nbformat_minor": 0,
  "metadata": {
    "colab": {
      "provenance": []
    },
    "kernelspec": {
      "name": "python3",
      "display_name": "Python 3"
    },
    "language_info": {
      "name": "python"
    }
  },
  "cells": [
    {
      "cell_type": "code",
      "execution_count": null,
      "metadata": {
        "colab": {
          "base_uri": "https://localhost:8080/"
        },
        "id": "yFb50iMtV_eX",
        "outputId": "bda5772c-8f11-4e42-d593-e62cf65da6bd"
      },
      "outputs": [
        {
          "output_type": "stream",
          "name": "stdout",
          "text": [
            "영유아(0-7세): 9명 0원\n",
            "어린이(8-13세): 7명 / 1400원\n",
            "청소년(14-19세): 7명 / 2100원\n",
            "성인(20-64세): 44명 / 22000원\n",
            "어르신(65세이상): 33명 / 0원\n",
            "1일 요금 총 합계 => 25500원\n"
          ]
        }
      ],
      "source": [
        "# 1일 총 입장개깅 100명이라고 할때, 1일 전체 입장 요구를 구하는 프로그램을 작성하시오.\n",
        "# 조건: 1) 입장 고객의 나이느 난수를 이용 (코드 제공)\n",
        "# 0-7세: 무료 / 8-13세: 200원 14-19세: 300원 20-64세:500원 65세 이상: 무료\n",
        "# ---------------------------------------------------------------------------\n",
        "import random\n",
        "visitors = [] #랜덤 생성된 입장객의 나이를 담는 리스트\n",
        "# 관람객들 나이 생성\n",
        "for i in range(100):\n",
        "    visitors.append(random.randint(0,100))\n",
        "\n",
        "#하단부터 코드\n",
        "sum = 0\n",
        "visitor_count = [0, 0, 0, 0, 0]\n",
        "for i in range(100):\n",
        "    if visitors[i] <= 7:\n",
        "        visitor_count[0] += 1\n",
        "\n",
        "    elif visitors[i] <= 13:\n",
        "        visitor_count[1] += 1\n",
        "        sum += 200\n",
        "\n",
        "    elif visitors[i] <= 19:\n",
        "        visitor_count[2] += 1\n",
        "        sum += 300\n",
        "\n",
        "    elif visitors[i] <= 64:\n",
        "        visitor_count[3] += 1\n",
        "        sum += 500\n",
        "\n",
        "    else:\n",
        "        visitor_count[4] += 1\n",
        "\n",
        "print(\"영유아(0-7세): {}명 0원\".format(visitor_count[0]))\n",
        "print(\"어린이(8-13세): {}명 / {}원\".format(visitor_count[1], visitor_count[1]*200))\n",
        "print(\"청소년(14-19세): {}명 / {}원\".format(visitor_count[2], visitor_count[2]*300))\n",
        "print(\"성인(20-64세): {}명 / {}원\".format(visitor_count[3], visitor_count[3]*500))\n",
        "print(\"어르신(65세이상): {}명 / 0원\".format(visitor_count[4]))\n",
        "print(\"1일 요금 총 합계 => {}원\".format(sum))\n",
        "\n"
      ]
    },
    {
      "cell_type": "code",
      "source": [
        "# 다음과 같은 기록에서, 현재 회사에 남아있는 모든 사람을 구하는 프로그램을 작성하시오.\n",
        "# \"enter\" => 현재 회사에 남아있는 상태 \"leave\" => 현재 회사를 떠난 상태\n",
        "# 조건: 1) 이름 출력 시 알파벳 역순으로 출력\n",
        "#--------------------------------------------\n",
        "\n",
        "record = {\"Baha\": \"enter\", \"Askar\": \"enter\", \"Artem\": \"leave\", \"Haja\": \"enter\", \"Baha\": \"leave\"}\n",
        "names = []\n",
        "\n",
        "for name, status in record.items():\n",
        "    if status == \"enter\":\n",
        "        if name not in names:\n",
        "            names.append(name)\n",
        "\n",
        "    elif status == \"leave\":\n",
        "        if name in names:\n",
        "            names.remove(name)\n",
        "    #print(names)\n",
        "\n",
        "\n",
        "names.sort(reverse=True)\n",
        "print(names)\n",
        "\n",
        "# record dictionary 에는 중복 값이 안됨 -> Baha의 경우,, 맨 마지막의 leave 상태만 저장이 됨"
      ],
      "metadata": {
        "colab": {
          "base_uri": "https://localhost:8080/"
        },
        "id": "HBTxbnybZZvj",
        "outputId": "ec252409-7b82-45ab-ea72-bc18a9965799"
      },
      "execution_count": null,
      "outputs": [
        {
          "output_type": "stream",
          "name": "stdout",
          "text": [
            "['Haja', 'Askar']\n"
          ]
        }
      ]
    }
  ]
}