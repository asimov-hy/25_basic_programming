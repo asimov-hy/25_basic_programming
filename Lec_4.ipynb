{
 "cells": [
  {
   "cell_type": "markdown",
   "id": "eb30f26c-e696-4932-bbf5-acbd5129efcc",
   "metadata": {},
   "source": [
    "# Control Structure\n",
    "Controls the flow of a program\n",
    "\n",
    "### Sequential Execution\n",
    ": Executed top-down fashion\n",
    "### Selection or Decision-making\n",
    "- **If** statement: execute a block of code if a specified condition is True.</br>\n",
    "      - **Elif** can be added for more conditions\n",
    "- **Switch** or **case** statements: choose between multiple code-blocks based on expression value\n",
    "### Looping\n",
    ": **For** loop, **While** loops, **Do** loops: repeat a certain block of code\n"
   ]
  },
  {
   "cell_type": "markdown",
   "id": "efb48838-32df-4589-af46-7ae7d07eb9c5",
   "metadata": {},
   "source": [
    "### IF~ELSE statement\n",
    "- begin code block with colon(:). After:, you have to make a indented block"
   ]
  },
  {
   "cell_type": "code",
   "execution_count": 2,
   "id": "6a5c4172-fbf7-4b90-a036-2b15f8b13ef9",
   "metadata": {},
   "outputs": [
    {
     "name": "stdin",
     "output_type": "stream",
     "text": [
      "1에서 10사이의 정수를 입력하세요:  5\n"
     ]
    },
    {
     "name": "stdout",
     "output_type": "stream",
     "text": [
      "입력한 정수는 5이고 홀수임\n",
      "The End\n"
     ]
    }
   ],
   "source": [
    "a = int(input(\"1에서 10사이의 정수를 입력하세요: \"))\n",
    "\n",
    "if (a%2 == 0):\n",
    "    print(\"입력한 정수는 %d이고 짝수임\" % a)\n",
    "else:\n",
    "    print(\"입력한 정수는 %d이고 홀수임\" % a)\n",
    "print(\"The End\")"
   ]
  },
  {
   "cell_type": "markdown",
   "id": "1dacade6-1218-4b2b-8e5a-3c9bf08263e6",
   "metadata": {},
   "source": [
    "### Double IF~ELSE statement"
   ]
  },
  {
   "cell_type": "code",
   "execution_count": 6,
   "id": "6888009a-9474-41eb-919e-533f5725dbdd",
   "metadata": {},
   "outputs": [
    {
     "name": "stdin",
     "output_type": "stream",
     "text": [
      "1에서 10사이의 정수를 입력하세요:  6\n"
     ]
    },
    {
     "name": "stdout",
     "output_type": "stream",
     "text": [
      "입력한 정수는 6이고 양수임\n"
     ]
    }
   ],
   "source": [
    "a = int(input(\"1에서 10사이의 정수를 입력하세요: \"))\n",
    "\n",
    "if (a >= 0):\n",
    "    if (a==0):\n",
    "        print(\"입력한 정수는 0임\")\n",
    "    else:\n",
    "        print(\"입력한 정수는 %d이고 양수임\" % a)\n",
    "else:\n",
    "    print(\"입력한 정수는 %d이고 음수임\" % a)"
   ]
  },
  {
   "cell_type": "markdown",
   "id": "5881707c-5d84-406b-8c18-dfba47b0b70a",
   "metadata": {},
   "source": [
    "### Python will get 'age' and 'score' from you, and make a program to print \"pass\" if age is older than 20 and score is over 80, print \"fail\", otherwise"
   ]
  },
  {
   "cell_type": "code",
   "execution_count": 11,
   "id": "4a734489-168a-4fad-bf1e-2ff0e846e532",
   "metadata": {},
   "outputs": [
    {
     "name": "stdin",
     "output_type": "stream",
     "text": [
      "what's your age? :  20\n",
      "what's your score? :  79\n"
     ]
    },
    {
     "name": "stdout",
     "output_type": "stream",
     "text": [
      "Sorry! Too young!\n"
     ]
    }
   ],
   "source": [
    "age = int(input(\"what's your age? : \"))\n",
    "score = int(input(\"what's your score? : \"))\n",
    "\n",
    "if (age > 20):\n",
    "    if score > 80:\n",
    "        print(\"Congratulations! You passed!\")\n",
    "    else:\n",
    "        print(\"Sorry! Low score!\")\n",
    "else:\n",
    "    print(\"Sorry! Too young!\")"
   ]
  },
  {
   "cell_type": "markdown",
   "id": "f94eb315-8fc0-425a-a5bb-915e4764bf76",
   "metadata": {},
   "source": [
    "### Make a program satisfying the conditions:\n",
    "### -. Money and credit card can be in a pocket.\n",
    "### -. If you have a money, you will ride a taxi.\n",
    "### -. If you do not have a money but have a credit card, you can ride deluxe-taxi.\n",
    "### -. If you have none of them, you will walk. "
   ]
  },
  {
   "cell_type": "code",
   "execution_count": 16,
   "id": "fccca419-bd75-47ae-bfd5-77f279ce82bf",
   "metadata": {},
   "outputs": [
    {
     "name": "stdin",
     "output_type": "stream",
     "text": [
      "I have (money, card, phone) in my pocket:  money\n"
     ]
    },
    {
     "name": "stdout",
     "output_type": "stream",
     "text": [
      "ride a taxi\n"
     ]
    }
   ],
   "source": [
    "pocket = []\n",
    "pocket.append(input(\"I have (money, card, phone) in my pocket: \"))\n",
    "\n",
    "if 'money' in pocket:\n",
    "    print(\"ride a taxi\")\n",
    "elif 'card' in pocket:\n",
    "    print(\"ride a deluxe taxi\")\n",
    "else:\n",
    "    print(\"walk!!\")"
   ]
  },
  {
   "cell_type": "markdown",
   "id": "1872232f-1a00-4205-a4ba-ae9f2ab7d730",
   "metadata": {},
   "source": [
    "### Getting a score by the user, make a program to computing grade.\n",
    "### A: 90\\~100, B: 80\\~89, C: 70\\~79, D: 60\\~69. F: <60"
   ]
  },
  {
   "cell_type": "code",
   "execution_count": 21,
   "id": "d2ebcdb8-fc04-4c1c-9db9-507467f5bb6e",
   "metadata": {},
   "outputs": [
    {
     "name": "stdin",
     "output_type": "stream",
     "text": [
      "Enter your score:  88\n"
     ]
    },
    {
     "name": "stdout",
     "output_type": "stream",
     "text": [
      "Your grade is B.\n"
     ]
    }
   ],
   "source": [
    "score = int(input(\"Enter your score: \"))\n",
    "\n",
    "if score >= 90:\n",
    "    grade = \"A\"\n",
    "elif score >= 80:\n",
    "    grade = \"B\"\n",
    "elif score >= 70:\n",
    "    grade = \"C\"\n",
    "elif score >= 60:\n",
    "    grade = \"D\"\n",
    "else:\n",
    "    grade = \"F\"\n",
    "\n",
    "print(f\"Your grade is {grade}.\")"
   ]
  },
  {
   "cell_type": "markdown",
   "id": "f321b5c8-cf8d-46e2-8000-ada11aeb117e",
   "metadata": {},
   "source": [
    "# Loop statement (iteration)\n",
    " - allows a set of instructions to be repeated multiple times (until condition is met)\n",
    " \n",
    " 1) Definite loops: the number of iterations is known in advance. (For loop)\n",
    " 2) Indefinite loops: the number of iterations is not known beforehand and depends on a certain condition (Whileloop)\n",
    " 3) Infinite looping: unending -> force end with (Crtl + c) or conditional statement"
   ]
  },
  {
   "cell_type": "markdown",
   "id": "3149b6b6-a1df-48ee-a1b5-3d8eef486c8d",
   "metadata": {},
   "source": [
    "### For statement"
   ]
  },
  {
   "cell_type": "code",
   "execution_count": 29,
   "id": "daf89057-c9e6-40ca-8421-f755c6281ecf",
   "metadata": {},
   "outputs": [
    {
     "name": "stdout",
     "output_type": "stream",
     "text": [
      "Hello, World!\n",
      "Hello, World!\n",
      "Hello, World!\n",
      "Hello, World!\n",
      "Hello, World!\n"
     ]
    }
   ],
   "source": [
    "for i in range(5):\n",
    "    print(\"Hello, World!\")"
   ]
  },
  {
   "cell_type": "code",
   "execution_count": 31,
   "id": "f745a1cf-e099-4ded-8625-8102c8fa5484",
   "metadata": {},
   "outputs": [
    {
     "name": "stdout",
     "output_type": "stream",
     "text": [
      "45\n"
     ]
    }
   ],
   "source": [
    "hap = 0\n",
    "for i in range(1, 10):\n",
    "    hap += i\n",
    "\n",
    "print(hap)"
   ]
  },
  {
   "cell_type": "markdown",
   "id": "16fbacaf-2cb8-4999-b366-0d28ebcb7500",
   "metadata": {},
   "source": [
    "### compute the sum from 1 to 100 by separating odd and even numbers"
   ]
  },
  {
   "cell_type": "code",
   "execution_count": 34,
   "id": "f13bef3b-99f9-4c06-9f3f-401d15a4f75c",
   "metadata": {},
   "outputs": [
    {
     "name": "stdout",
     "output_type": "stream",
     "text": [
      "The sum of even numbers:  2550\n",
      "The sum of odd numbers:  2500\n"
     ]
    }
   ],
   "source": [
    "sum_even = 0\n",
    "sum_odd = 0\n",
    "\n",
    "for i in range(1, 101):\n",
    "    if i % 2 == 0:\n",
    "        sum_even += i\n",
    "    else:\n",
    "        sum_odd += i\n",
    "\n",
    "print(\"The sum of even numbers: \", sum_even)\n",
    "print(\"The sum of odd numbers: \", sum_odd)"
   ]
  },
  {
   "cell_type": "code",
   "execution_count": 36,
   "id": "beadcc97-83a3-4926-8752-4aa673b8a5b2",
   "metadata": {},
   "outputs": [
    {
     "name": "stdout",
     "output_type": "stream",
     "text": [
      "0 1 2 3 4 5 6 7 8 9 \n"
     ]
    }
   ],
   "source": [
    "for i in range(10):\n",
    "    print(i, end=\" \")\n",
    "print()"
   ]
  },
  {
   "cell_type": "code",
   "execution_count": 38,
   "id": "88530fdc-9189-4f2b-9dce-e0cc7b0d0537",
   "metadata": {},
   "outputs": [
    {
     "name": "stdout",
     "output_type": "stream",
     "text": [
      "[0, 1, 2, 3, 4, 5, 6, 7, 8, 9]\n",
      "[0, 2, 4, 6, 8]\n",
      "[10, 9, 8, 7, 6, 5, 4, 3, 2, 1, 0]\n"
     ]
    }
   ],
   "source": [
    "L1 = list(range(10))\n",
    "L2 = list(range(0, 10, 2))\n",
    "L3 = list(range(10, -1, -1))\n",
    "\n",
    "print(L1); print(L2); print(L3)"
   ]
  },
  {
   "cell_type": "code",
   "execution_count": 42,
   "id": "af98887f-c5e9-4c74-b465-51f147f8e89f",
   "metadata": {},
   "outputs": [
    {
     "name": "stdout",
     "output_type": "stream",
     "text": [
      "2 x 1 =  2 3 x 1 =  3 4 x 1 =  4 5 x 1 =  5 6 x 1 =  6 7 x 1 =  7 8 x 1 =  8 9 x 1 =  9 \n",
      "2 x 2 =  4 3 x 2 =  6 4 x 2 =  8 5 x 2 = 10 6 x 2 = 12 7 x 2 = 14 8 x 2 = 16 9 x 2 = 18 \n",
      "2 x 3 =  6 3 x 3 =  9 4 x 3 = 12 5 x 3 = 15 6 x 3 = 18 7 x 3 = 21 8 x 3 = 24 9 x 3 = 27 \n",
      "2 x 4 =  8 3 x 4 = 12 4 x 4 = 16 5 x 4 = 20 6 x 4 = 24 7 x 4 = 28 8 x 4 = 32 9 x 4 = 36 \n",
      "2 x 5 = 10 3 x 5 = 15 4 x 5 = 20 5 x 5 = 25 6 x 5 = 30 7 x 5 = 35 8 x 5 = 40 9 x 5 = 45 \n",
      "2 x 6 = 12 3 x 6 = 18 4 x 6 = 24 5 x 6 = 30 6 x 6 = 36 7 x 6 = 42 8 x 6 = 48 9 x 6 = 54 \n",
      "2 x 7 = 14 3 x 7 = 21 4 x 7 = 28 5 x 7 = 35 6 x 7 = 42 7 x 7 = 49 8 x 7 = 56 9 x 7 = 63 \n",
      "2 x 8 = 16 3 x 8 = 24 4 x 8 = 32 5 x 8 = 40 6 x 8 = 48 7 x 8 = 56 8 x 8 = 64 9 x 8 = 72 \n",
      "2 x 9 = 18 3 x 9 = 27 4 x 9 = 36 5 x 9 = 45 6 x 9 = 54 7 x 9 = 63 8 x 9 = 72 9 x 9 = 81 \n"
     ]
    }
   ],
   "source": [
    "for i in range(1, 10):\n",
    "    Gugudan = \"\"\n",
    "    for j in range(2, 10):\n",
    "        Gugudan += str(\"%d x %d = %2d \" % (j, i, j*i))\n",
    "\n",
    "    print(Gugudan)"
   ]
  },
  {
   "cell_type": "code",
   "execution_count": 44,
   "id": "3d8ef5bf-889e-4402-9efa-2e8a6f9efaba",
   "metadata": {},
   "outputs": [
    {
     "name": "stdout",
     "output_type": "stream",
     "text": [
      "1번 학생의 점수는 90이며 합격입니다!\n",
      "2번 학생의 점수는 25이며 불합격입니다!\n",
      "3번 학생의 점수는 67이며 합격입니다!\n",
      "4번 학생의 점수는 45이며 불합격입니다!\n",
      "5번 학생의 점수는 80이며 합격입니다!\n"
     ]
    }
   ],
   "source": [
    "score = [90, 25, 67, 45, 80]\n",
    "number = 0\n",
    "\n",
    "for s in score:\n",
    "    number = number + 1\n",
    "    if s>= 60:\n",
    "        print(\"%d번 학생의 점수는 %d이며 합격입니다!\" % (number, s))\n",
    "    else:\n",
    "        print(\"%d번 학생의 점수는 %d이며 불합격입니다!\" % (number, s))"
   ]
  },
  {
   "cell_type": "code",
   "execution_count": 46,
   "id": "d7794c70-e1a5-41f7-849f-fd38e17532c0",
   "metadata": {},
   "outputs": [
    {
     "name": "stdout",
     "output_type": "stream",
     "text": [
      "2번 학생 합격입니다!\n"
     ]
    }
   ],
   "source": [
    "score = [25, 90, 67, 45, 80]\n",
    "number = 0\n",
    "\n",
    "for s in score:\n",
    "    number += 1\n",
    "    if s>=60:\n",
    "        print(\"%d번 학생 합격입니다!\" % number)\n",
    "        break"
   ]
  },
  {
   "cell_type": "code",
   "execution_count": 48,
   "id": "a1d604b0-eeb0-4cc5-a207-ebd168e8e605",
   "metadata": {},
   "outputs": [
    {
     "name": "stdin",
     "output_type": "stream",
     "text": [
      "what's your number? :  7\n"
     ]
    },
    {
     "name": "stdout",
     "output_type": "stream",
     "text": [
      "* \n",
      "* * \n",
      "* * * \n",
      "* * * * \n",
      "* * * * * \n",
      "* * * * * * \n",
      "* * * * * * * \n"
     ]
    }
   ],
   "source": [
    "x = int(input(\"what's your number? : \"))\n",
    "\n",
    "for i in range(1, x+1):\n",
    "    print(\"* \"*i)"
   ]
  },
  {
   "cell_type": "code",
   "execution_count": 54,
   "id": "5fd38f95-83db-488a-baca-ca6b4ecf450b",
   "metadata": {},
   "outputs": [
    {
     "name": "stdin",
     "output_type": "stream",
     "text": [
      "what's your number? :  7\n"
     ]
    },
    {
     "name": "stdout",
     "output_type": "stream",
     "text": [
      "* * * * * * * \n",
      "* * * * * * \n",
      "* * * * * \n",
      "* * * * \n",
      "* * * \n",
      "* * \n",
      "* \n"
     ]
    }
   ],
   "source": [
    "x = int(input(\"what's your number? : \"))\n",
    "\n",
    "for i in range(x, 0, -1):\n",
    "    print(\"* \"*i)"
   ]
  },
  {
   "cell_type": "markdown",
   "id": "d6752e10-90f1-4a49-b34e-740873f14fbb",
   "metadata": {},
   "source": [
    "### While"
   ]
  },
  {
   "cell_type": "code",
   "execution_count": 57,
   "id": "cdccae3a-c48f-4e25-ae68-e619e1e756f5",
   "metadata": {},
   "outputs": [
    {
     "name": "stdout",
     "output_type": "stream",
     "text": [
      "Python programming!\n",
      "Python programming!\n",
      "Python programming!\n",
      "Python programming!\n",
      "Python programming!\n"
     ]
    }
   ],
   "source": [
    "num = 0\n",
    "\n",
    "while num < 5:\n",
    "    print(\"Python programming!\")\n",
    "    num += 1"
   ]
  },
  {
   "cell_type": "code",
   "execution_count": 61,
   "id": "793fef65-6ebb-4b08-80f2-6387c6d2c974",
   "metadata": {},
   "outputs": [
    {
     "name": "stdin",
     "output_type": "stream",
     "text": [
      "what's the starting point? :  3\n",
      "what's the ending point? :  100\n",
      "what's the increment? :  2\n"
     ]
    },
    {
     "name": "stdout",
     "output_type": "stream",
     "text": [
      "3에서 100까지 2씩 증가시킨 값의 합계: 2499\n"
     ]
    }
   ],
   "source": [
    "i, hap = 0, 0\n",
    "num1, num2, num3 = 0, 0, 0\n",
    "\n",
    "num1 = int(input(\"what's the starting point? : \"))\n",
    "num2 = int(input(\"what's the ending point? : \"))\n",
    "num3 = int(input(\"what's the increment? : \"))\n",
    "\n",
    "i = num1\n",
    "while i < num2 + 1:\n",
    "    hap = hap + i\n",
    "    i = i + num3\n",
    "\n",
    "print(\"%d에서 %d까지 %d씩 증가시킨 값의 합계: %d\" %(num1, num2, num3, hap))"
   ]
  },
  {
   "cell_type": "code",
   "execution_count": 63,
   "id": "1b8d1355-cc2e-4a86-927a-f08b6408737c",
   "metadata": {},
   "outputs": [
    {
     "name": "stdout",
     "output_type": "stream",
     "text": [
      "4\n",
      "2\n",
      "4\n",
      "2\n",
      "2\n",
      "1\n",
      "2\n",
      "5\n",
      "finally 5 !\n"
     ]
    }
   ],
   "source": [
    "import random\n",
    "\n",
    "i = 0\n",
    "while i != 5:\n",
    "    i = random.randint(1, 6)\n",
    "    print(i)\n",
    "\n",
    "print(\"finally\", i, \"!\")"
   ]
  },
  {
   "cell_type": "markdown",
   "id": "51a5aed4-e0a6-439f-9965-cababd04251d",
   "metadata": {},
   "source": [
    "### Infinite loop!"
   ]
  },
  {
   "cell_type": "code",
   "execution_count": 66,
   "id": "6a468228-32be-44fc-920c-bfe197024c13",
   "metadata": {},
   "outputs": [
    {
     "name": "stdin",
     "output_type": "stream",
     "text": [
      "what's your number? :  1\n",
      "what's your next number? :  2\n"
     ]
    },
    {
     "name": "stdout",
     "output_type": "stream",
     "text": [
      "1 + 2 = 3\n"
     ]
    },
    {
     "name": "stdin",
     "output_type": "stream",
     "text": [
      "what's your number? :  3\n",
      "what's your next number? :  4\n"
     ]
    },
    {
     "name": "stdout",
     "output_type": "stream",
     "text": [
      "3 + 4 = 7\n"
     ]
    },
    {
     "name": "stdin",
     "output_type": "stream",
     "text": [
      "what's your number? :  5\n",
      "what's your next number? :  0\n"
     ]
    },
    {
     "name": "stdout",
     "output_type": "stream",
     "text": [
      "5 + 0 = 5\n"
     ]
    },
    {
     "name": "stdin",
     "output_type": "stream",
     "text": [
      "what's your number? :  0\n"
     ]
    },
    {
     "name": "stdout",
     "output_type": "stream",
     "text": [
      "you escaped from infinite looping by choosing 0!\n"
     ]
    }
   ],
   "source": [
    "hap, a, b = 0, 0, 0\n",
    "\n",
    "while True:\n",
    "    a = int(input(\"what's your number? : \"))\n",
    "    if a == 0:\n",
    "        break\n",
    "    b = int(input(\"what's your next number? : \"))\n",
    "    hap = a + b\n",
    "    print(\"%d + %d = %d\" % (a, b, hap))\n",
    "\n",
    "print(\"you escaped from infinite looping by choosing 0!\")"
   ]
  },
  {
   "cell_type": "markdown",
   "id": "87ba0758-3e77-48b3-8801-4518cd1dd4c1",
   "metadata": {},
   "source": [
    "### 연습문제1\n",
    "점수를 입력받고 해당 점수에 알맞은 학점을 출력하는 코드를 작성하시오.</br>\n",
    "조건: 1) 점수는 0\\~100까지의 자연수이다. 2) A: 90\\~100 / B: 80\\~89 / C: 70\\~79 / D: 60\\~69 / F: <60"
   ]
  },
  {
   "cell_type": "code",
   "execution_count": 79,
   "id": "ceeb166d-4f8c-44bd-84e4-f346003de7ae",
   "metadata": {},
   "outputs": [
    {
     "name": "stdin",
     "output_type": "stream",
     "text": [
      "입력한 점수는:  100\n"
     ]
    },
    {
     "name": "stdout",
     "output_type": "stream",
     "text": [
      "입력한 점수는 100점이며, 학점은 A입니다.\n"
     ]
    }
   ],
   "source": [
    "score_input = input(\"입력한 점수는: \")\n",
    "\n",
    "# 입력이 정수인지 확인\n",
    "if score_input.isdigit():\n",
    "    score = int(score_input)\n",
    "    if 0 <= score <= 100:\n",
    "        if score >= 90:\n",
    "            grade = \"A\"\n",
    "        elif score >= 80:\n",
    "            grade = \"B\"\n",
    "        elif score >= 70:\n",
    "            grade = \"C\"\n",
    "        elif score >= 60:\n",
    "            grade = \"D\"\n",
    "        else:\n",
    "            grade = \"F\"\n",
    "        print(f\"입력한 점수는 {score}점이며, 학점은 {grade}입니다.\")\n",
    "    else:\n",
    "        print(\"0~100까지의 정수만 입력하시길 바랍니다.\")\n",
    "else:\n",
    "    print(\"0~100까지의 정수만 입력하시길 바랍니다.\")\n"
   ]
  },
  {
   "cell_type": "markdown",
   "id": "248fbf3b-d54a-4b2d-8206-a8740ecf0242",
   "metadata": {},
   "source": [
    "### 연습문제2\n",
    "1부터 1000까지의 자연수 중 3의 배수의 합을 구하는 코드를 출력하시오. </br>\n",
    "조건: 1) while 반복문을 사용할 것 2) if문을 사용할 것"
   ]
  },
  {
   "cell_type": "code",
   "execution_count": 73,
   "id": "86a3fecb-cab0-4858-9db5-4d4707eb2862",
   "metadata": {},
   "outputs": [
    {
     "name": "stdout",
     "output_type": "stream",
     "text": [
      "1부터 1000까지의 3의 배수의 합: 166833\n"
     ]
    }
   ],
   "source": [
    "i = 1\n",
    "total = 0\n",
    "\n",
    "while i <= 1000:\n",
    "    if i % 3 == 0:\n",
    "        total += i\n",
    "    i += 1\n",
    "\n",
    "print(\"1부터 1000까지의 3의 배수의 합:\", total)"
   ]
  }
 ],
 "metadata": {
  "kernelspec": {
   "display_name": "Python [conda env:base] *",
   "language": "python",
   "name": "conda-base-py"
  },
  "language_info": {
   "codemirror_mode": {
    "name": "ipython",
    "version": 3
   },
   "file_extension": ".py",
   "mimetype": "text/x-python",
   "name": "python",
   "nbconvert_exporter": "python",
   "pygments_lexer": "ipython3",
   "version": "3.12.7"
  }
 },
 "nbformat": 4,
 "nbformat_minor": 5
}
