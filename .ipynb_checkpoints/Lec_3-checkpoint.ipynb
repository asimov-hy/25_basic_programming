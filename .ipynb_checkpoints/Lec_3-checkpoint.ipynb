{
 "cells": [
  {
   "cell_type": "markdown",
   "id": "3624d322-7a0d-43b0-a064-98ecc1488d0b",
   "metadata": {},
   "source": [
    "# Operators\n",
    "\n",
    "### Arithmetic Operator\n",
    "| Operator | Function        | Usage     | Explanation                                                             |\n",
    "|----------|-----------------|-----------|-------------------------------------------------------------------------|\n",
    "| `+`      | Addition         | `a + b`   | Addition of a and b                                                     |\n",
    "| `-`      | Subtraction      | `a - b`   | Subtract b from a                                                       |\n",
    "| `*`      | Multiplication   | `a * b`   | Multiply a by b                                                         |\n",
    "| `/`      | Division         | `a / b`   | Divide a by b                                                           |\n",
    "| `//`     | Floor division   | `a // b`  | Return the largest integer ≤ result of the division                     |\n",
    "| `%`      | Modulus          | `a % b`   | Return the remainder of a divided by b                                  |\n",
    "| `**`     | Exponentiation   | `a ** b`  | Return the result of raising a to the power of b                        |\n",
    "| `+`      | Positive sign    | `+a`      | Positive sign to a                                                      |\n",
    "| `-`      | Negative sign    | `-b`      | Negative sign to a                                                      |\n",
    "\n",
    "**_Shortened Operators_**\n",
    "| Operator | Function                 | Usage      | Explanation                                                  |\n",
    "|----------|--------------------------|------------|--------------------------------------------------------------|\n",
    "| `+=`     | Assign after addition     | `a += b`   | Assign to `a` after adding `a` to `b`                        |\n",
    "| `-=`     | Assign after subtraction  | `a -= b`   | Assign to `a` after subtracting `b` from `a`                 |\n",
    "| `*=`     | Assign after multiplication | `a *= b` | Assign to `a` after multiplying `a` by `b`                   |\n",
    "| `/=`     | Assign after division     | `a /= b`   | Assign to `a` after dividing `a` by `b`                      |\n",
    "| `//=`    | Assign after floor division | `a //= b` | Assign to `a` after floor-dividing `a` by `b`                |\n",
    "| `**=`    | Assign after exponentiation | `a **= b` | Assign to `a` after raising `a` to the power of `b`          |\n",
    "\n",
    "### Comparison Operator\n",
    "| Operator | Usage     | Explanation                                         |\n",
    "|----------|-----------|-----------------------------------------------------|\n",
    "| `==`     | `a == b`  | Return `True` if `a` is equal to `b`                |\n",
    "| `!=`     | `a != b`  | Return `True` if `a` is not equal to `b`            |\n",
    "| `>`      | `a > b`   | Return `True` if `a` is greater than `b`            |\n",
    "| `<`      | `a < b`   | Return `True` if `a` is smaller than `b`            |\n",
    "| `>=`     | `a >= b`  | Return `True` if `a` is greater than or equal to `b`|\n",
    "| `<=`     | `a <= b`  | Return `True` if `a` is smaller than or equal to `b`|\n",
    "\n",
    "### Logical Operator\n",
    "| Operator | Usage    | Explanation                                  |\n",
    "|----------|----------|----------------------------------------------|\n",
    "| `and`    | `a and b`| Return `True` if both `a` and `b` are `True` |\n",
    "| `or`     | `a or b` | Return `True` if either `a` or `b` is `True` |\n",
    "| `not`    | `not a`  | Return `True` if `a` is `False`              |\n",
    "\n",
    "### Identify Operator\n",
    "| Operator  | Usage        | Explanation                                      |\n",
    "|-----------|--------------|--------------------------------------------------|\n",
    "| `is`      | `a is b`     | Return `True` if both `a` and `b` are the same   |\n",
    "| `is not`  | `a is not b` | Return `True` if both `a` and `b` are not the same |\n",
    "\n",
    "### Membership Operator\n",
    "| Operator  | Usage        | Explanation                                                  |\n",
    "|-----------|--------------|--------------------------------------------------------------|\n",
    "| `in`      | `a in b`     | Return `True` if `a` is included in a sequence of `b`        |\n",
    "| `not in`  | `a not in b` | Return `True` if `a` is not included in a sequence of `b`    |\n",
    "\n",
    "### Bitwise Operator\n",
    "| Operator | Function             | Usage     | Explanation                                                                 |\n",
    "|----------|----------------------|-----------|-----------------------------------------------------------------------------|\n",
    "| `&`      | AND                  | `a & b`   | Set each bit to 1 if both bits are 1                                        |\n",
    "| `|`      | OR                   | `a | b`   | Set each bit to 1 if one of two bits is 1                                   |\n",
    "| `^`      | XOR                  | `a ^ b`   | Set each bit to 1 if only one of two bits is 1                              |\n",
    "| `~`      | NOT                  | `~a`      | Inverts all the bits                                                        |\n",
    "| `<<`     | Left shift operator  | `a << 2`  | Shift left by pushing in zeros from the right and let the leftmost bits fall off |\n",
    "| `>>`     | Right shift operator | `a >> 2`  | Shift right by copying the leftmost bit in from the left, and let rightmost bits fall off |\n",
    "\n",
    "### Operator Precedence\n",
    "| Precedence | Operators            |\n",
    "|------------|----------------------|\n",
    "| 1          | `**`                 |\n",
    "| 2          | `+`, `-`, `~` (unary)|\n",
    "| 3          | `*`, `/`, `//`, `%`  |\n",
    "| 4          | `+`, `-` (binary)    |"
   ]
  },
  {
   "cell_type": "markdown",
   "id": "f601a44d-a39f-4254-92f8-efe6a6d15b84",
   "metadata": {},
   "source": [
    "### Arithmetic Operator"
   ]
  },
  {
   "cell_type": "code",
   "execution_count": 9,
   "id": "3bf3a56c-5e18-4afa-9d0a-d58d66073549",
   "metadata": {},
   "outputs": [
    {
     "data": {
      "text/plain": [
       "1024"
      ]
     },
     "execution_count": 9,
     "metadata": {},
     "output_type": "execute_result"
    }
   ],
   "source": [
    "2**10"
   ]
  },
  {
   "cell_type": "code",
   "execution_count": 11,
   "id": "d7876997-1cdc-4a67-afe7-8cb5a9e163fa",
   "metadata": {},
   "outputs": [
    {
     "data": {
      "text/plain": [
       "2.5"
      ]
     },
     "execution_count": 11,
     "metadata": {},
     "output_type": "execute_result"
    }
   ],
   "source": [
    "5/2"
   ]
  },
  {
   "cell_type": "code",
   "execution_count": 13,
   "id": "f319310f-2e80-4ae1-b243-8b1f12b017f2",
   "metadata": {},
   "outputs": [
    {
     "data": {
      "text/plain": [
       "2"
      ]
     },
     "execution_count": 13,
     "metadata": {},
     "output_type": "execute_result"
    }
   ],
   "source": [
    "5//2"
   ]
  },
  {
   "cell_type": "code",
   "execution_count": 17,
   "id": "8b6ffd7b-0c1b-4a52-881d-605e5f8fa555",
   "metadata": {},
   "outputs": [
    {
     "data": {
      "text/plain": [
       "1"
      ]
     },
     "execution_count": 17,
     "metadata": {},
     "output_type": "execute_result"
    }
   ],
   "source": [
    "5%2"
   ]
  },
  {
   "cell_type": "code",
   "execution_count": 19,
   "id": "23b937d9-7ca4-4ead-a968-e78b00424bed",
   "metadata": {},
   "outputs": [
    {
     "data": {
      "text/plain": [
       "7.0"
      ]
     },
     "execution_count": 19,
     "metadata": {},
     "output_type": "execute_result"
    }
   ],
   "source": [
    "5 + 2.0"
   ]
  },
  {
   "cell_type": "code",
   "execution_count": 21,
   "id": "dbd44b52-945a-4a77-8ef2-62dc290022dc",
   "metadata": {},
   "outputs": [
    {
     "data": {
      "text/plain": [
       "-20"
      ]
     },
     "execution_count": 21,
     "metadata": {},
     "output_type": "execute_result"
    }
   ],
   "source": [
    "-20"
   ]
  },
  {
   "cell_type": "markdown",
   "id": "9f03abd4-2933-45b7-b33a-9a5138c940a1",
   "metadata": {},
   "source": [
    "### Find the results with two integers of 3 and 10."
   ]
  },
  {
   "cell_type": "code",
   "execution_count": 23,
   "id": "e4a534a8-e5ac-4d83-8cb5-1ffe189c3cfd",
   "metadata": {},
   "outputs": [
    {
     "name": "stdout",
     "output_type": "stream",
     "text": [
      "Arithmetic Operators\n",
      "--------------------\n"
     ]
    },
    {
     "name": "stdin",
     "output_type": "stream",
     "text": [
      "put the first number:  3\n",
      "put the second number:  10\n"
     ]
    },
    {
     "name": "stdout",
     "output_type": "stream",
     "text": [
      "a = : 3\n",
      "b = : 10\n",
      "13\n",
      "-7\n",
      "30\n",
      "0.3\n",
      "0\n",
      "3\n",
      "59049\n",
      "--------------------\n"
     ]
    }
   ],
   "source": [
    "print(\"Arithmetic Operators\")\n",
    "print(\"-\"*20)\n",
    "a = int(input('put the first number: '))\n",
    "b = int(input('put the second number: '))\n",
    "\n",
    "print(\"a = :\", a)\n",
    "print(\"b = :\", b)\n",
    "\n",
    "print(a+b)\n",
    "print(a-b)\n",
    "print(a*b)\n",
    "print(a/b)\n",
    "print(a//b)\n",
    "print(a%b)\n",
    "print(a**b)\n",
    "print(\"-\"*20)"
   ]
  },
  {
   "cell_type": "markdown",
   "id": "fc0bb05b-59aa-4312-b3b3-7c8b42cd0adb",
   "metadata": {},
   "source": [
    "### Using format()"
   ]
  },
  {
   "cell_type": "code",
   "execution_count": 25,
   "id": "ccf2b5a0-9064-4789-a4f7-78d82bb72a12",
   "metadata": {},
   "outputs": [
    {
     "name": "stdout",
     "output_type": "stream",
     "text": [
      "Arithmetic Operators\n",
      "--------------------\n"
     ]
    },
    {
     "name": "stdin",
     "output_type": "stream",
     "text": [
      "put the first number:  3\n",
      "put the second number:  10\n"
     ]
    },
    {
     "name": "stdout",
     "output_type": "stream",
     "text": [
      "a = : 3\n",
      "b = : 10\n",
      "3 + 10 = 13\n",
      "3 - 10 = -7\n",
      "3 * 10 = 30\n",
      "3 / 10 = 0.3\n",
      "3 // 10 = 0\n",
      "3 % 10 = 3\n",
      "3 ** 10 = 59049\n",
      "--------------------\n"
     ]
    }
   ],
   "source": [
    "print(\"Arithmetic Operators\")\n",
    "print(\"-\"*20)\n",
    "a = int(input('put the first number: '))\n",
    "b = int(input('put the second number: '))\n",
    "\n",
    "print(\"a = :\", a)\n",
    "print(\"b = :\", b)\n",
    "\n",
    "print(\"{0} + {1} = {2}\".format(a, b, a+b))\n",
    "print(\"{0} - {1} = {2}\".format(a, b, a-b))\n",
    "print(\"{0} * {1} = {2}\".format(a, b, a*b))\n",
    "print(\"{0} / {1} = {2}\".format(a, b, a/b))\n",
    "print(\"{0} // {1} = {2}\".format(a, b, a//b))\n",
    "print(\"{0} % {1} = {2}\".format(a, b, a%b))\n",
    "print(\"{0} ** {1} = {2}\".format(a, b, a**b))\n",
    "print(\"-\"*20)"
   ]
  },
  {
   "cell_type": "markdown",
   "id": "570b204f-282e-477d-ad2e-43116b12da4c",
   "metadata": {},
   "source": [
    "### Integer and Float"
   ]
  },
  {
   "cell_type": "code",
   "execution_count": 29,
   "id": "0b3fcb36-0699-4e5b-8175-92e692af7cde",
   "metadata": {},
   "outputs": [
    {
     "name": "stdout",
     "output_type": "stream",
     "text": [
      "Arithmetic Operators: 10 and 3.0\n",
      "--------------------\n"
     ]
    },
    {
     "name": "stdin",
     "output_type": "stream",
     "text": [
      "put the first number:  10\n",
      "put the second number:  3.0\n"
     ]
    },
    {
     "name": "stdout",
     "output_type": "stream",
     "text": [
      "a = : 10\n",
      "b = : 3.0\n",
      "10 + 3.0 = 13.0\n",
      "10 - 3.0 = 7.0\n",
      "10 * 3.0 = 30.0\n",
      "10 / 3.0 = 3.3333333333333335\n",
      "10 // 3.0 = 3.0\n",
      "10 % 3.0 = 1.0\n",
      "10 ** 3.0 = 1000.0\n",
      "--------------------\n"
     ]
    }
   ],
   "source": [
    "print(\"Arithmetic Operators: 10 and 3.0\")\n",
    "print(\"-\"*20)\n",
    "a = int(input('put the first number: '))\n",
    "b = float(input('put the second number: '))\n",
    "\n",
    "print(\"a = :\", a)\n",
    "print(\"b = :\", b)\n",
    "\n",
    "print(\"{0} + {1} = {2}\".format(a, b, a+b))\n",
    "print(\"{0} - {1} = {2}\".format(a, b, a-b))\n",
    "print(\"{0} * {1} = {2}\".format(a, b, a*b))\n",
    "print(\"{0} / {1} = {2}\".format(a, b, a/b))\n",
    "print(\"{0} // {1} = {2}\".format(a, b, a//b))\n",
    "print(\"{0} % {1} = {2}\".format(a, b, a%b))\n",
    "print(\"{0} ** {1} = {2}\".format(a, b, a**b))\n",
    "print(\"-\"*20)"
   ]
  },
  {
   "cell_type": "markdown",
   "id": "13502fbe-7cdd-44cc-8e72-45a69cedea00",
   "metadata": {},
   "source": [
    "### Division"
   ]
  },
  {
   "cell_type": "code",
   "execution_count": 31,
   "id": "5c50de0b-e72a-46dd-a0c9-300c7f88c675",
   "metadata": {},
   "outputs": [
    {
     "name": "stdout",
     "output_type": "stream",
     "text": [
      "4.5 -4.5 -5 -1 4 1\n"
     ]
    }
   ],
   "source": [
    "print(9/2, 9/-2, 9//-2, 9%-2, 9//2, -9%2)"
   ]
  },
  {
   "cell_type": "markdown",
   "id": "2431007a-63ca-4fe6-a001-b6be0c3d5cdc",
   "metadata": {},
   "source": [
    "### Complex-assignment"
   ]
  },
  {
   "cell_type": "code",
   "execution_count": 42,
   "id": "ce71bbf0-4a8e-4237-a290-8ca2237fefe2",
   "metadata": {},
   "outputs": [
    {
     "name": "stdout",
     "output_type": "stream",
     "text": [
      "7\n"
     ]
    }
   ],
   "source": [
    "x = 5; x += 2\n",
    "print(x)"
   ]
  },
  {
   "cell_type": "code",
   "execution_count": 44,
   "id": "e6e45732-3ae7-438a-a471-cd22e9867be3",
   "metadata": {},
   "outputs": [
    {
     "name": "stdout",
     "output_type": "stream",
     "text": [
      "3\n"
     ]
    }
   ],
   "source": [
    "x = 5; x -=2\n",
    "print(x)"
   ]
  },
  {
   "cell_type": "code",
   "execution_count": 46,
   "id": "95820e90-0c6f-4c56-9f38-a9b43e447543",
   "metadata": {},
   "outputs": [
    {
     "name": "stdout",
     "output_type": "stream",
     "text": [
      "10\n"
     ]
    }
   ],
   "source": [
    "x = 5; x *=2\n",
    "print(x)"
   ]
  },
  {
   "cell_type": "code",
   "execution_count": 48,
   "id": "327198d2-67e4-40e4-9e04-9584d76205ef",
   "metadata": {},
   "outputs": [
    {
     "name": "stdout",
     "output_type": "stream",
     "text": [
      "2.5\n"
     ]
    }
   ],
   "source": [
    "x = 5; x /=2\n",
    "print(x)"
   ]
  },
  {
   "cell_type": "code",
   "execution_count": 50,
   "id": "48f3b279-5606-41dd-9420-a82f3830f03e",
   "metadata": {},
   "outputs": [
    {
     "name": "stdout",
     "output_type": "stream",
     "text": [
      "25\n"
     ]
    }
   ],
   "source": [
    "x = 5; x**=2\n",
    "print(x)"
   ]
  },
  {
   "cell_type": "code",
   "execution_count": 52,
   "id": "018444dd-6102-4041-aeb3-d28138cc56e7",
   "metadata": {},
   "outputs": [
    {
     "name": "stdout",
     "output_type": "stream",
     "text": [
      "2\n"
     ]
    }
   ],
   "source": [
    "x = 5; x//=2\n",
    "print(x)"
   ]
  },
  {
   "cell_type": "code",
   "execution_count": 54,
   "id": "26291911-4a7b-4ff3-bc10-78f5a5a792a1",
   "metadata": {},
   "outputs": [
    {
     "name": "stdout",
     "output_type": "stream",
     "text": [
      "1\n"
     ]
    }
   ],
   "source": [
    "x = 5; x%=2\n",
    "print(x)"
   ]
  },
  {
   "cell_type": "markdown",
   "id": "1ca29658-8ccf-40c2-a102-161ad1caf900",
   "metadata": {},
   "source": [
    "### complex numbers"
   ]
  },
  {
   "cell_type": "code",
   "execution_count": 57,
   "id": "13f7b2a5-4eba-497d-ab62-510f0a1341cb",
   "metadata": {},
   "outputs": [],
   "source": [
    "a = 4+2j\n",
    "b = 2+1j"
   ]
  },
  {
   "cell_type": "code",
   "execution_count": 59,
   "id": "97d7b7ae-02d6-4702-b3db-e5f11122aa99",
   "metadata": {},
   "outputs": [
    {
     "data": {
      "text/plain": [
       "(6+3j)"
      ]
     },
     "execution_count": 59,
     "metadata": {},
     "output_type": "execute_result"
    }
   ],
   "source": [
    "a+b"
   ]
  },
  {
   "cell_type": "code",
   "execution_count": 61,
   "id": "bdeee064-10dd-4128-8df8-6c812584d594",
   "metadata": {},
   "outputs": [
    {
     "data": {
      "text/plain": [
       "(2+1j)"
      ]
     },
     "execution_count": 61,
     "metadata": {},
     "output_type": "execute_result"
    }
   ],
   "source": [
    "a-b"
   ]
  },
  {
   "cell_type": "code",
   "execution_count": 63,
   "id": "615bb7f7-6ee0-47bc-8010-4a8dd35dcb59",
   "metadata": {},
   "outputs": [
    {
     "data": {
      "text/plain": [
       "(6+8j)"
      ]
     },
     "execution_count": 63,
     "metadata": {},
     "output_type": "execute_result"
    }
   ],
   "source": [
    "a*b"
   ]
  },
  {
   "cell_type": "code",
   "execution_count": 65,
   "id": "6c5c9798-8dca-4d56-b939-298b42d57ef2",
   "metadata": {},
   "outputs": [
    {
     "data": {
      "text/plain": [
       "(2+0j)"
      ]
     },
     "execution_count": 65,
     "metadata": {},
     "output_type": "execute_result"
    }
   ],
   "source": [
    "a/b"
   ]
  },
  {
   "cell_type": "code",
   "execution_count": 67,
   "id": "26710a8e-ef1f-4325-8d55-8dee1503b2fb",
   "metadata": {},
   "outputs": [
    {
     "name": "stdin",
     "output_type": "stream",
     "text": [
      "생년월일을 입력하세요:  20000711\n"
     ]
    },
    {
     "name": "stdout",
     "output_type": "stream",
     "text": [
      "2000 7 11\n",
      "생년월일: 2000년, 7월 11일\n"
     ]
    }
   ],
   "source": [
    "birth = int(input(\"생년월일을 입력하세요: \"))\n",
    "year = birth // 10000\n",
    "month1 = birth %10000 // 100\n",
    "monrth2 = birth // 100 % 100\n",
    "date = birth % 100\n",
    "print(year, month1, date)\n",
    "print(\"생년월일: {}년, {}월 {}일\".format(year, month1, date))"
   ]
  },
  {
   "cell_type": "code",
   "execution_count": 75,
   "id": "d15ca472-d618-456e-a92a-06e31540a882",
   "metadata": {},
   "outputs": [
    {
     "ename": "SyntaxError",
     "evalue": "invalid decimal literal (565357244.py, line 7)",
     "output_type": "error",
     "traceback": [
      "\u001b[1;36m  Cell \u001b[1;32mIn[75], line 7\u001b[1;36m\u001b[0m\n\u001b[1;33m    print(\"화씨\", farenheit, \"도는 섭씨\", celsius.2f, \"도 입니다.\")\u001b[0m\n\u001b[1;37m                                            ^\u001b[0m\n\u001b[1;31mSyntaxError\u001b[0m\u001b[1;31m:\u001b[0m invalid decimal literal\n"
     ]
    }
   ],
   "source": [
    "celsius = int(input(\"섭씨 온도를 입력하세요: \"))\n",
    "farenheit = (9/5)*celsius + 32\n",
    "print(\"섭씨\", celsius, \"도는 화씨\", farenheit, \"도 입니다.\")\n",
    "print(\"=\" *30)\n",
    "farenheit = float(input(\"화씨 온도를 입력하세요: \"))\n",
    "celsius = (farenheit - 32)*(5/9)\n",
    "print(\"화씨\", farenheit, \"도는 섭씨\", celsius, \"도 입니다.\")"
   ]
  },
  {
   "cell_type": "markdown",
   "id": "72a183ba-a69e-46d8-8eeb-46cc682058d8",
   "metadata": {},
   "source": [
    "### Comparison Operator"
   ]
  },
  {
   "cell_type": "code",
   "execution_count": 78,
   "id": "176a31f3-e679-4e0c-944b-367005431ae8",
   "metadata": {},
   "outputs": [
    {
     "data": {
      "text/plain": [
       "False"
      ]
     },
     "execution_count": 78,
     "metadata": {},
     "output_type": "execute_result"
    }
   ],
   "source": [
    "2020 > 2030"
   ]
  },
  {
   "cell_type": "code",
   "execution_count": 80,
   "id": "46d277bb-9b12-4855-af9a-26d0a2f7a8bf",
   "metadata": {},
   "outputs": [
    {
     "data": {
      "text/plain": [
       "False"
      ]
     },
     "execution_count": 80,
     "metadata": {},
     "output_type": "execute_result"
    }
   ],
   "source": [
    "2020 == 2040"
   ]
  },
  {
   "cell_type": "code",
   "execution_count": 82,
   "id": "b3837fa7-3985-46e9-897d-6d75da5309f1",
   "metadata": {},
   "outputs": [
    {
     "data": {
      "text/plain": [
       "True"
      ]
     },
     "execution_count": 82,
     "metadata": {},
     "output_type": "execute_result"
    }
   ],
   "source": [
    "2020 != 2030"
   ]
  },
  {
   "cell_type": "code",
   "execution_count": 84,
   "id": "f00edc97-d7a9-490e-bb58-ef43e9c34330",
   "metadata": {},
   "outputs": [
    {
     "data": {
      "text/plain": [
       "True"
      ]
     },
     "execution_count": 84,
     "metadata": {},
     "output_type": "execute_result"
    }
   ],
   "source": [
    "2020 <= 2020"
   ]
  },
  {
   "cell_type": "code",
   "execution_count": 86,
   "id": "20e4543b-007d-435f-a2a5-380694a45176",
   "metadata": {},
   "outputs": [
    {
     "data": {
      "text/plain": [
       "False"
      ]
     },
     "execution_count": 86,
     "metadata": {},
     "output_type": "execute_result"
    }
   ],
   "source": [
    "\"Security\" == \"security\""
   ]
  },
  {
   "cell_type": "code",
   "execution_count": 88,
   "id": "ee19de86-7015-4ccb-a5b8-b8804db8c098",
   "metadata": {},
   "outputs": [
    {
     "data": {
      "text/plain": [
       "True"
      ]
     },
     "execution_count": 88,
     "metadata": {},
     "output_type": "execute_result"
    }
   ],
   "source": [
    "2020 == 2020.0"
   ]
  },
  {
   "cell_type": "markdown",
   "id": "8a4f6130-de10-4855-8921-ad247c4c386b",
   "metadata": {},
   "source": [
    "### Identity Operator compares objects not values"
   ]
  },
  {
   "cell_type": "code",
   "execution_count": 92,
   "id": "63fabd5e-d80e-44cd-9e04-b470b46b35d5",
   "metadata": {},
   "outputs": [
    {
     "name": "stderr",
     "output_type": "stream",
     "text": [
      "<>:1: SyntaxWarning: \"is\" with 'int' literal. Did you mean \"==\"?\n",
      "<>:1: SyntaxWarning: \"is\" with 'int' literal. Did you mean \"==\"?\n",
      "C:\\Users\\minch\\AppData\\Local\\Temp\\ipykernel_22160\\1232882163.py:1: SyntaxWarning: \"is\" with 'int' literal. Did you mean \"==\"?\n",
      "  2020 is 2020.0\n"
     ]
    },
    {
     "data": {
      "text/plain": [
       "False"
      ]
     },
     "execution_count": 92,
     "metadata": {},
     "output_type": "execute_result"
    }
   ],
   "source": [
    "2020 is 2020.0"
   ]
  },
  {
   "cell_type": "code",
   "execution_count": 94,
   "id": "24571a58-cc78-4206-b7da-2711eee0caed",
   "metadata": {},
   "outputs": [
    {
     "name": "stderr",
     "output_type": "stream",
     "text": [
      "<>:1: SyntaxWarning: \"is not\" with 'int' literal. Did you mean \"!=\"?\n",
      "<>:1: SyntaxWarning: \"is not\" with 'int' literal. Did you mean \"!=\"?\n",
      "C:\\Users\\minch\\AppData\\Local\\Temp\\ipykernel_22160\\2462651709.py:1: SyntaxWarning: \"is not\" with 'int' literal. Did you mean \"!=\"?\n",
      "  2020 is not 2020.0\n"
     ]
    },
    {
     "data": {
      "text/plain": [
       "True"
      ]
     },
     "execution_count": 94,
     "metadata": {},
     "output_type": "execute_result"
    }
   ],
   "source": [
    "2020 is not 2020.0"
   ]
  },
  {
   "cell_type": "code",
   "execution_count": 98,
   "id": "0dfd6ce1-9e00-4622-bdb2-e3f8dd9c7f50",
   "metadata": {},
   "outputs": [
    {
     "name": "stdout",
     "output_type": "stream",
     "text": [
      "True\n",
      "False\n",
      "True\n",
      "True\n"
     ]
    }
   ],
   "source": [
    "no3 = 12345; no4 = 12345\n",
    "str1 = 'life'; str2 = 'life'\n",
    "\n",
    "print(no3 == no4)\n",
    "print(no3 is no4)\n",
    "print(str1 == str2)\n",
    "print(str1 is str2)"
   ]
  },
  {
   "cell_type": "code",
   "execution_count": 105,
   "id": "59db1867-9d2c-4623-aa2b-1b193ba0b75f",
   "metadata": {},
   "outputs": [
    {
     "name": "stdin",
     "output_type": "stream",
     "text": [
      "조건을 확인할 수를 입력하시오:  2000\n"
     ]
    },
    {
     "name": "stdout",
     "output_type": "stream",
     "text": [
      "False\n"
     ]
    }
   ],
   "source": [
    "num = int(input('조건을 확인할 수를 입력하시오: '))\n",
    "print((num > 2020) and (num < 2030))"
   ]
  },
  {
   "cell_type": "code",
   "execution_count": 107,
   "id": "d7ec8ac9-8c2f-4922-9780-0b3da0f8bc8b",
   "metadata": {},
   "outputs": [
    {
     "name": "stdin",
     "output_type": "stream",
     "text": [
      "조건을 확인할 수를 입력하시오:  2025\n"
     ]
    },
    {
     "name": "stdout",
     "output_type": "stream",
     "text": [
      "True\n"
     ]
    }
   ],
   "source": [
    "num = int(input(\"조건을 확인할 수를 입력하시오: \"))\n",
    "print((num > 2020) and (num < 2030))"
   ]
  },
  {
   "cell_type": "code",
   "execution_count": 109,
   "id": "9c2e41e9-8283-4771-bf4d-57bc82a20473",
   "metadata": {},
   "outputs": [
    {
     "data": {
      "text/plain": [
       "True"
      ]
     },
     "execution_count": 109,
     "metadata": {},
     "output_type": "execute_result"
    }
   ],
   "source": [
    "10 == 10 and 10 != 5"
   ]
  },
  {
   "cell_type": "code",
   "execution_count": 111,
   "id": "088f5804-4b8b-4a58-bfaa-f32bb6ded80f",
   "metadata": {},
   "outputs": [
    {
     "data": {
      "text/plain": [
       "False"
      ]
     },
     "execution_count": 111,
     "metadata": {},
     "output_type": "execute_result"
    }
   ],
   "source": [
    "not 10 > 5"
   ]
  },
  {
   "cell_type": "markdown",
   "id": "e0fa7f59-aa63-487a-82db-67dd55cbfb81",
   "metadata": {},
   "source": [
    "### bitwise operators"
   ]
  },
  {
   "cell_type": "code",
   "execution_count": 114,
   "id": "8383f86c-9acf-4bc1-bc33-7e4793b0fd96",
   "metadata": {},
   "outputs": [
    {
     "name": "stdin",
     "output_type": "stream",
     "text": [
      "첫 번째 수를 입력하시오:  20\n",
      "두 번째 수를 입력하시오:  30\n"
     ]
    },
    {
     "name": "stdout",
     "output_type": "stream",
     "text": [
      "----------------------------------------\n",
      "a =  20 : 0b10100\n",
      "b =  30 : 0b11110\n",
      "a & b =  20 : 0b10100\n",
      "a | b =  30 : 0b11110\n",
      "a ^ b =  10 : 0b1010\n",
      "~a =  -21 : -0b10101\n",
      "----------------------------------------\n"
     ]
    }
   ],
   "source": [
    "a = int(input(\"첫 번째 수를 입력하시오: \"))\n",
    "b = int(input(\"두 번째 수를 입력하시오: \"))\n",
    "\n",
    "print(\"-\"*40)\n",
    "print(\"a = \", a, \":\", bin(a))\n",
    "print(\"b = \", b, \":\", bin(b))\n",
    "\n",
    "print(\"a & b = \", a & b, \":\", bin(a & b))\n",
    "print(\"a | b = \", a | b, \":\", bin(a | b))\n",
    "print(\"a ^ b = \", a ^ b, \":\", bin(a ^ b))\n",
    "print(\"~a = \", ~a, \":\", bin(~a))\n",
    "print(\"-\"*40)"
   ]
  },
  {
   "cell_type": "markdown",
   "id": "87c25135-69ea-4f32-8bbd-5b79e71cbece",
   "metadata": {},
   "source": [
    "### exchange a and b"
   ]
  },
  {
   "cell_type": "code",
   "execution_count": null,
   "id": "98adc7ee-4205-434d-909f-1c352225352b",
   "metadata": {},
   "outputs": [],
   "source": [
    "a = int(input(\"처\"))a = int(input(\"첫 번째 수를 입력하시오: \"))\n",
    "b = int(input(\"두 번째 수를 입력하시오: \"))\n",
    "\n",
    "print(\"-\"*40)"
   ]
  }
 ],
 "metadata": {
  "kernelspec": {
   "display_name": "Python [conda env:base] *",
   "language": "python",
   "name": "conda-base-py"
  },
  "language_info": {
   "codemirror_mode": {
    "name": "ipython",
    "version": 3
   },
   "file_extension": ".py",
   "mimetype": "text/x-python",
   "name": "python",
   "nbconvert_exporter": "python",
   "pygments_lexer": "ipython3",
   "version": "3.12.7"
  }
 },
 "nbformat": 4,
 "nbformat_minor": 5
}
