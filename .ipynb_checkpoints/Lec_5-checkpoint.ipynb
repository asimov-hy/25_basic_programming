{
 "cells": [
  {
   "cell_type": "markdown",
   "id": "8da3b07d-d84e-4580-b523-d1d4a61c75cc",
   "metadata": {},
   "source": [
    "# Other Types\n",
    "## List, Tuples, Dictionary and Sets\n",
    "\n",
    "### List\n",
    ": stores collection of items\n",
    "<center>list_name = [item1, item2 ...]</center>\n",
    "\n",
    "- expressed as [] and seperate items with comma\n",
    "- **mutable**: modified their elements by adding, removing or updating\n",
    "- numbers, strings can be enclosed (together too)\n",
    "- Heterogeneous: can contain different types of elements\n",
    "- can be indexed and sliced\n",
    "\n",
    "-**_Functions_**\n",
    "| Function                    | Explanation                                                                 |\n",
    "|----------------------------|-----------------------------------------------------------------------------|\n",
    "| .append(element)           | Add a single element to the end of an existing list.                        |\n",
    "| .clear()                   | Remove all elements from a list.                                            |\n",
    "| .copy()                    | Create a shallow copy of a list.                                            |\n",
    "| .count(element)            | Count the number of occurrences of a specified element in the list.         |\n",
    "| del list_name[index]       | Used to remove an element from a specific index.                            |\n",
    "| del list_name              | Used to delete the entire list.                                             |\n",
    "| .extend(iterable)          | Extend the elements of a list by appending elements from an iterable.       |\n",
    "| .insert(index, element)    | Insert a specified element at a given index in the list.                    |\n",
    "| .pop(index)                | Remove and return the element at a specified index.                         |\n",
    "| .remove(element)           | Remove the first occurrence of a specified element from the list.           |\n",
    "| .reverse()                 | Reverse the order of elements in a list.                                    |\n",
    "| .sort(reverse=False)       | Sort the elements of a list in ascending order. Use `reverse=True` for descending order. |\n",
    "| .index(element, start, end)| Find the index of the first occurrence of a specified element. `start` and `end` are optional. |\n",
    "\n",
    "-**_Functions_**\n",
    "    - Concatenation: lists can be combined using '+' or *.extend()*\n",
    "    - Repetition: can be repeated using '+'\n",
    "    - Indexing: Individual elements can be accessed using indexing\n",
    "    - Slicing: sublist can be wliced with *list_name[start_index:end_index:step]*\n",
    "\n",
    "### Tuple\n",
    ": stores a collection of items\n",
    "<center>tuple_name = (item1, item2...)</center>\n",
    "\n",
    "- expressed as () and seperate items with comma\n",
    "- **immutable**: can't be removed, changed or modified after creation\n",
    "- Heterogeneous: can contain different types of elements\n",
    "- needs less memory than list (immutable, fixed size, simpler structure, fewer methods)\n",
    "\n",
    "-**_Functions_**\n",
    "| Function                     | Explanation                                                                 |\n",
    "|-----------------------------|-----------------------------------------------------------------------------|\n",
    "| .count(element)             | Returns the number of occurrences of a specified element in the tuple.     |\n",
    "| .index(element)             | Returns the index of the first occurrence of a specified value.            |\n",
    "| len(tuple_name)             | Returns the length of the tuple.                                           |\n",
    "| tuple1 + tuple2             | Concatenate two or more tuples.                                            |\n",
    "| tuple * number              | Repeat a tuple by the specified number.                                    |\n",
    "| element in tuple_name       | Checks if a value is present in the tuple (membership).                    |\n",
    "| max(tuple_name)             | Returns the maximum value in the tuple.                                    |\n",
    "| min(tuple_name)             | Returns the minimum value in the tuple.                                    |\n",
    "| sum(tuple_name)             | Returns the sum of all elements in the tuple.                              |\n",
    "| for item in tuple_name      | Used to iterate over a tuple using a loop.                                 |\n",
    "\n",
    "### Dictionary\n",
    ": represents unordered collection of **key-value** pair (key is unique)\n",
    "<center>dictionary_name = {key1: value1, key2: value2 ...}</center>\n",
    "\n",
    "- expressed with {} + key-value pairs\n",
    "      - Empty dictionary:                   dictionary_name = {}\n",
    "      - Dictionary with initial value:      dictionary_name = {\"key1\":\"value1\", \"key2\":\"value2\"}\n",
    "      - dict() constructor:                 dictionary_name = dict(key1=\"value1\", key2=\"value2\")\n",
    "      - from lists of key-value pairs:      keys=['key1', 'key2']; values=['value1', value2]\n",
    "                                            dictionary_name = dict(zip(keys, values))\n",
    "      \n",
    "- **mutable** and **dynamic**: size of dictionary can change dynamically as item is added or removed\n",
    "- does not allow duplicated entries\n",
    "- keys data type: any immutable data type (strings, numbers, tuples)\n",
    "- values data type: any data type (including dictionaries)\n",
    "\n",
    "-**_Functions_**\n",
    "| Function                                  | Explanation                                                                    |\n",
    "|-------------------------------------------|--------------------------------------------------------------------------------|\n",
    "| del dict_name[key]                        | Delete a key-value pair from a dictionary.                                     |\n",
    "| dict_name.pop(key)                        | Remove and return the value associated with a specified key.                   |\n",
    "| dict_name.popitem()                       | Remove and return the last key-value pair.                                     |\n",
    "| dict_name.keys()                          | Return the keys from the dictionary.                                           |\n",
    "| dict_name.values()                        | Return the values from the dictionary.                                         |\n",
    "| dict_name.items()                         | Return the key-value pairs as tuples.                                          |\n",
    "| len(dict_name)                            | Return the number of keys in the dictionary.                                   |\n",
    "| dict_name.clear()                         | Delete all key-value pairs and return `{}`.                                    |\n",
    "| dict_name.get(key)                        | Return the value of a specified key.                                           |\n",
    "| key in dict_name                          | Return `True` if the key exists in the dictionary.                             |\n",
    "| dict_name.update({key1: value1, ...})     | Update the values of specified keys.                                           |\n",
    "| from pprint import pprint as pp <br> pp(dict_name) | Format complex data structures in an organized way using `pprint()`.   |\n",
    "\n",
    "### Set\n",
    ": Represents an unordered collection of unique elements\n",
    "\n",
    "- does not allow duplicated entries\n",
    "- not stored in any specific order\n",
    "| Function                                              | Explanation                                                                    |\n",
    "|-------------------------------------------------------|--------------------------------------------------------------------------------|\n",
    "| set1.add(element)                                     | Add a single element to the set.                                              |\n",
    "| set1.update([element1, element2])                     | Add multiple elements to the set.                                             |\n",
    "| set1.remove(element)                                  | Remove an element from the set (raises error if not found).                   |\n",
    "| set1.discard(element)                                 | Remove an element from the set (no error if not found).                       |\n",
    "| set1.clear()                                          | Remove all elements from the set.                                             |\n",
    "| set1.union(set2) or set1 \\| set2                      | Return the union of two sets.                                                |\n",
    "| set1.intersection(set2) or set1 & set2                | Return the intersection of two sets.                                         |\n",
    "| set1.difference(set2) or set1 - set2                  | Return the difference between set1 and set2.                                 |\n",
    "| set1.symmetric_difference(set2) or set1 ^ set2        | Return elements present in either of the sets, but not in both.              |"
   ]
  },
  {
   "cell_type": "markdown",
   "id": "e885dd19-57d2-43d3-8777-2d571b2e7af3",
   "metadata": {},
   "source": [
    "### create list and print"
   ]
  },
  {
   "cell_type": "code",
   "execution_count": 6,
   "id": "b0b94709-c304-489f-be41-aaf987c9a8cb",
   "metadata": {},
   "outputs": [
    {
     "data": {
      "text/plain": [
       "['a', 'b', 'c', 'd']"
      ]
     },
     "execution_count": 6,
     "metadata": {},
     "output_type": "execute_result"
    }
   ],
   "source": [
    "# list with strings\n",
    "a = ['a', 'b', 'c', 'd']\n",
    "a"
   ]
  },
  {
   "cell_type": "code",
   "execution_count": 2,
   "id": "ce3084bb-ddc4-4163-a7cb-9a1fd37e327a",
   "metadata": {},
   "outputs": [
    {
     "data": {
      "text/plain": [
       "list"
      ]
     },
     "execution_count": 2,
     "metadata": {},
     "output_type": "execute_result"
    }
   ],
   "source": [
    "type(a)"
   ]
  },
  {
   "cell_type": "code",
   "execution_count": 7,
   "id": "a8178d15-c052-4a23-813d-6dfc34f084c3",
   "metadata": {},
   "outputs": [
    {
     "name": "stdout",
     "output_type": "stream",
     "text": [
      "[1, 2, 3, 4]\n"
     ]
    }
   ],
   "source": [
    "# list with numbers\n",
    "b = [1, 2, 3, 4]\n",
    "print(b)"
   ]
  },
  {
   "cell_type": "code",
   "execution_count": 8,
   "id": "2a8a1df6-c7e4-41ec-81df-2d88bd2c59d9",
   "metadata": {},
   "outputs": [
    {
     "data": {
      "text/plain": [
       "[]"
      ]
     },
     "execution_count": 8,
     "metadata": {},
     "output_type": "execute_result"
    }
   ],
   "source": [
    "# empty list\n",
    "c = list()\n",
    "c"
   ]
  },
  {
   "cell_type": "code",
   "execution_count": 9,
   "id": "9378ff55-2823-4ed2-826e-859dc09e259b",
   "metadata": {},
   "outputs": [
    {
     "data": {
      "text/plain": [
       "[2024, 'happy new year', True]"
      ]
     },
     "execution_count": 9,
     "metadata": {},
     "output_type": "execute_result"
    }
   ],
   "source": [
    "d=  [2024, 'happy new year', True]\n",
    "d"
   ]
  },
  {
   "cell_type": "code",
   "execution_count": 10,
   "id": "06a212f4-9492-4b01-aa96-04b202acf8f2",
   "metadata": {},
   "outputs": [
    {
     "data": {
      "text/plain": [
       "list"
      ]
     },
     "execution_count": 10,
     "metadata": {},
     "output_type": "execute_result"
    }
   ],
   "source": [
    "type(d)"
   ]
  },
  {
   "cell_type": "code",
   "execution_count": 14,
   "id": "5536382d-7337-47f5-8fe1-853e46f2c8d4",
   "metadata": {},
   "outputs": [
    {
     "name": "stdout",
     "output_type": "stream",
     "text": [
      "[[], [2020, 2021, 2025], ['I', 'am', 'a', 'robot'], [True, False]]\n"
     ]
    }
   ],
   "source": [
    "# lists with lists\n",
    "L1 = []\n",
    "L2 = [2020, 2021, 2025]\n",
    "L3 = ['I', 'am', 'a', 'robot']\n",
    "L4 = [True, False]\n",
    "L5 = [L1, L2, L3, L4]\n",
    "print(L5)"
   ]
  },
  {
   "cell_type": "code",
   "execution_count": 15,
   "id": "e3554595-d757-4a1d-af8c-5a4ade88453c",
   "metadata": {},
   "outputs": [
    {
     "data": {
      "text/plain": [
       "2020"
      ]
     },
     "execution_count": 15,
     "metadata": {},
     "output_type": "execute_result"
    }
   ],
   "source": [
    "L2[0]"
   ]
  },
  {
   "cell_type": "code",
   "execution_count": 16,
   "id": "0f6aa996-aed4-457d-b510-947d63d946b2",
   "metadata": {},
   "outputs": [
    {
     "data": {
      "text/plain": [
       "'am'"
      ]
     },
     "execution_count": 16,
     "metadata": {},
     "output_type": "execute_result"
    }
   ],
   "source": [
    "L3[1]"
   ]
  },
  {
   "cell_type": "code",
   "execution_count": 17,
   "id": "58350da1-b152-4cf3-b44e-05fea3763043",
   "metadata": {},
   "outputs": [
    {
     "data": {
      "text/plain": [
       "'robot'"
      ]
     },
     "execution_count": 17,
     "metadata": {},
     "output_type": "execute_result"
    }
   ],
   "source": [
    "L5[2][3]"
   ]
  },
  {
   "cell_type": "code",
   "execution_count": 18,
   "id": "ad552485-2ad4-4432-baaa-4078ba9fa7df",
   "metadata": {},
   "outputs": [
    {
     "data": {
      "text/plain": [
       "['am', 'a', 'robot']"
      ]
     },
     "execution_count": 18,
     "metadata": {},
     "output_type": "execute_result"
    }
   ],
   "source": [
    "L3[1:]"
   ]
  },
  {
   "cell_type": "code",
   "execution_count": 19,
   "id": "3b4c9c56-3fc2-465d-aa4e-770e1a81e704",
   "metadata": {},
   "outputs": [
    {
     "data": {
      "text/plain": [
       "['I', 'am', 'a']"
      ]
     },
     "execution_count": 19,
     "metadata": {},
     "output_type": "execute_result"
    }
   ],
   "source": [
    "L3[:-1]"
   ]
  },
  {
   "cell_type": "code",
   "execution_count": 20,
   "id": "aa7c5999-bf5b-4c57-9048-a26747ebe0c7",
   "metadata": {},
   "outputs": [
    {
     "data": {
      "text/plain": [
       "[2025]"
      ]
     },
     "execution_count": 20,
     "metadata": {},
     "output_type": "execute_result"
    }
   ],
   "source": [
    "L2[-1:]"
   ]
  },
  {
   "cell_type": "code",
   "execution_count": 21,
   "id": "95aad2b2-fe9a-4b64-919c-c2f1ecbb6e70",
   "metadata": {},
   "outputs": [
    {
     "data": {
      "text/plain": [
       "['A', 'B', 'C', 'D']"
      ]
     },
     "execution_count": 21,
     "metadata": {},
     "output_type": "execute_result"
    }
   ],
   "source": [
    "list(\"ABCD\")"
   ]
  },
  {
   "cell_type": "markdown",
   "id": "996389e4-33d4-4d07-87a0-37bfda07f39a",
   "metadata": {},
   "source": [
    "### list functions"
   ]
  },
  {
   "cell_type": "code",
   "execution_count": 22,
   "id": "808ec868-9930-4e88-9956-be639f75f0ab",
   "metadata": {},
   "outputs": [
    {
     "name": "stdout",
     "output_type": "stream",
     "text": [
      "[1, 2, 3, 4]\n"
     ]
    }
   ],
   "source": [
    "a = [1, 2, 3]\n",
    "a.append(4)\n",
    "print(a)"
   ]
  },
  {
   "cell_type": "code",
   "execution_count": 23,
   "id": "59b4b69b-77fe-4724-8351-d423fae8397c",
   "metadata": {},
   "outputs": [
    {
     "name": "stdout",
     "output_type": "stream",
     "text": [
      "[]\n"
     ]
    }
   ],
   "source": [
    "a.clear()\n",
    "print(a)"
   ]
  },
  {
   "cell_type": "code",
   "execution_count": 24,
   "id": "a27aa1d3-09a0-46cc-853e-96e8df7f107f",
   "metadata": {},
   "outputs": [
    {
     "name": "stdout",
     "output_type": "stream",
     "text": [
      "[1, 2, 3, 1, 2, 3, 1, 2, 3]\n"
     ]
    }
   ],
   "source": [
    "a = [1, 2, 3]*3\n",
    "print(a)"
   ]
  },
  {
   "cell_type": "code",
   "execution_count": 25,
   "id": "af19a79b-fb55-43b7-89fc-c17cd8dd7f29",
   "metadata": {},
   "outputs": [
    {
     "data": {
      "text/plain": [
       "[1, 2, 3, 1, 2, 3, 1, 2, 3]"
      ]
     },
     "execution_count": 25,
     "metadata": {},
     "output_type": "execute_result"
    }
   ],
   "source": [
    "b = a.copy()\n",
    "b"
   ]
  },
  {
   "cell_type": "code",
   "execution_count": 26,
   "id": "07853dfc-9df3-44b4-9494-f4ac7d19b99e",
   "metadata": {},
   "outputs": [
    {
     "data": {
      "text/plain": [
       "[1, 2, 3, 1, 2, 3, 4, 4, 4, 1, 2, 3]"
      ]
     },
     "execution_count": 26,
     "metadata": {},
     "output_type": "execute_result"
    }
   ],
   "source": [
    "b[6:0]=[4, 4, 4]\n",
    "b"
   ]
  },
  {
   "cell_type": "markdown",
   "id": "bc3e7091-751a-4aee-b9fa-c321c585f8d7",
   "metadata": {},
   "source": [
    "### Shallow Copy\n",
    ": creates a new object but does not create copies of nested objects within it (contents are referred to original)\n",
    "### Deep Copy\n",
    ": creates new object and recursively creates copies of all nested objects"
   ]
  },
  {
   "cell_type": "code",
   "execution_count": 27,
   "id": "4a16bb48-40d3-4ee0-94b2-ae2b0958d5c1",
   "metadata": {},
   "outputs": [
    {
     "name": "stdout",
     "output_type": "stream",
     "text": [
      "original list: [1, [99, 3], 4]\n",
      "shadow copied: [1, [99, 3], 4]\n"
     ]
    }
   ],
   "source": [
    "original_list = [1, [2, 3], 4]\n",
    "shallow_copied = original_list.copy()\n",
    "shallow_copied[1][0] = 99\n",
    "\n",
    "print(\"original list:\", original_list)\n",
    "print(\"shadow copied:\", shallow_copied)"
   ]
  },
  {
   "cell_type": "code",
   "execution_count": 28,
   "id": "85b1cd4a-4b15-4db5-bc0a-33845f017b30",
   "metadata": {},
   "outputs": [
    {
     "name": "stdout",
     "output_type": "stream",
     "text": [
      "original list: [1, [2, 3], 4]\n",
      "deep copied: [1, [99, 3], 4]\n"
     ]
    }
   ],
   "source": [
    "import copy\n",
    "\n",
    "original_list = [1, [2, 3], 4]\n",
    "deep_copied = copy.deepcopy(original_list)\n",
    "deep_copied[1][0] = 99\n",
    "\n",
    "print(\"original list:\", original_list)\n",
    "print(\"deep copied:\", deep_copied)"
   ]
  },
  {
   "cell_type": "markdown",
   "id": "8f37127c-b14c-4de5-910f-b124bf801c0c",
   "metadata": {},
   "source": [
    "### functions"
   ]
  },
  {
   "cell_type": "code",
   "execution_count": 29,
   "id": "c28938bc-de3f-410b-98d2-184c006a465b",
   "metadata": {},
   "outputs": [
    {
     "data": {
      "text/plain": [
       "[1, 2, 3, 1, 2, 3, 4]"
      ]
     },
     "execution_count": 29,
     "metadata": {},
     "output_type": "execute_result"
    }
   ],
   "source": [
    "del b[7:]\n",
    "b"
   ]
  },
  {
   "cell_type": "code",
   "execution_count": 30,
   "id": "ef784020-387c-4f6c-b6b5-5de6b0d8139a",
   "metadata": {},
   "outputs": [
    {
     "data": {
      "text/plain": [
       "[1, 2, 3, 1, 2, 3, 4, 's', 't', 'r']"
      ]
     },
     "execution_count": 30,
     "metadata": {},
     "output_type": "execute_result"
    }
   ],
   "source": [
    "c = ['s', 't', 'r']\n",
    "b.extend(c)\n",
    "b"
   ]
  },
  {
   "cell_type": "code",
   "execution_count": 31,
   "id": "d5e0e45d-c228-4a72-bf82-1f4b0ed2ac25",
   "metadata": {},
   "outputs": [
    {
     "data": {
      "text/plain": [
       "2"
      ]
     },
     "execution_count": 31,
     "metadata": {},
     "output_type": "execute_result"
    }
   ],
   "source": [
    "b.index(3)"
   ]
  },
  {
   "cell_type": "code",
   "execution_count": 33,
   "id": "8c931232-2333-447e-96ba-c0774c19b473",
   "metadata": {},
   "outputs": [
    {
     "name": "stdout",
     "output_type": "stream",
     "text": [
      "[1, 2, 5, 5, 3, 1, 2, 3, 4, 's', 't', 'r']\n"
     ]
    }
   ],
   "source": [
    "b.insert(2, 5)\n",
    "print(b)"
   ]
  },
  {
   "cell_type": "code",
   "execution_count": 34,
   "id": "8c73e406-a02d-4d10-a97c-0c1b52d1ac4c",
   "metadata": {},
   "outputs": [
    {
     "name": "stdout",
     "output_type": "stream",
     "text": [
      "r\n"
     ]
    }
   ],
   "source": [
    "popped_one = b.pop()\n",
    "print(popped_one)"
   ]
  },
  {
   "cell_type": "code",
   "execution_count": 35,
   "id": "7ad41c0c-5e94-4afd-b458-5d7e4bc78573",
   "metadata": {},
   "outputs": [
    {
     "data": {
      "text/plain": [
       "[1, 2, 5, 5, 3, 1, 2, 3, 4, 's', 't']"
      ]
     },
     "execution_count": 35,
     "metadata": {},
     "output_type": "execute_result"
    }
   ],
   "source": [
    "b"
   ]
  },
  {
   "cell_type": "code",
   "execution_count": 36,
   "id": "d83c6baf-e7aa-4f03-b19b-1663dfdf3d17",
   "metadata": {},
   "outputs": [
    {
     "data": {
      "text/plain": [
       "[2, 5, 5, 3, 1, 2, 3, 4, 's', 't']"
      ]
     },
     "execution_count": 36,
     "metadata": {},
     "output_type": "execute_result"
    }
   ],
   "source": [
    "b.remove(1)\n",
    "b"
   ]
  },
  {
   "cell_type": "code",
   "execution_count": 37,
   "id": "572a666b-fb12-41e0-906c-db070759c09d",
   "metadata": {},
   "outputs": [
    {
     "data": {
      "text/plain": [
       "['t', 's', 4, 3, 2, 1, 3, 5, 5, 2]"
      ]
     },
     "execution_count": 37,
     "metadata": {},
     "output_type": "execute_result"
    }
   ],
   "source": [
    "b.reverse()\n",
    "b"
   ]
  },
  {
   "cell_type": "code",
   "execution_count": 38,
   "id": "e6ed69c0-bd71-4582-9b1d-d51bb96bd7bc",
   "metadata": {},
   "outputs": [
    {
     "data": {
      "text/plain": [
       "[1, 1, 1, 2, 2, 2, 3, 3, 3]"
      ]
     },
     "execution_count": 38,
     "metadata": {},
     "output_type": "execute_result"
    }
   ],
   "source": [
    "a = [1, 2, 3]*3\n",
    "a.sort()\n",
    "a"
   ]
  },
  {
   "cell_type": "code",
   "execution_count": 39,
   "id": "3d2eaaa6-f6d4-4d26-ab1c-0b4bcdf590a6",
   "metadata": {},
   "outputs": [
    {
     "data": {
      "text/plain": [
       "[3, 3, 3, 2, 2, 2, 1, 1, 1]"
      ]
     },
     "execution_count": 39,
     "metadata": {},
     "output_type": "execute_result"
    }
   ],
   "source": [
    "a.sort(reverse = True)\n",
    "a"
   ]
  },
  {
   "cell_type": "markdown",
   "id": "c4d0f268-3623-4a07-afe7-4b66ad836112",
   "metadata": {},
   "source": [
    "### List vs Tuple\n",
    "\n",
    "| Comparison   | List       | Tuple       |\n",
    "|--------------|------------|-------------|\n",
    "| Expression   | `[]`       | `()`        |\n",
    "| Modification | Mutable    | Immutable   |\n",
    "| Indexing     | Yes        | Yes         |\n",
    "| Slicing      | Yes        | Yes         |\n",
    "| Removal      | Yes        | No          |\n",
    "| Order        | Yes        | Yes         |"
   ]
  },
  {
   "cell_type": "code",
   "execution_count": 40,
   "id": "eb1e1f49-2a16-4f01-a1a1-99366e1d6fed",
   "metadata": {},
   "outputs": [
    {
     "name": "stdout",
     "output_type": "stream",
     "text": [
      "Type of T2: <class 'tuple'>\n",
      "Type of T2_i: <class 'int'>\n"
     ]
    }
   ],
   "source": [
    "T1 = ()\n",
    "T2_i = (1)\n",
    "T2 = (1, )\n",
    "T3 = (1, 2, 3)\n",
    "T4 = 4, 5, 6\n",
    "T5 = ('a', 'b', ('ab', 'cd'))\n",
    "T6 = T3 + T4\n",
    "\n",
    "print(\"Type of T2:\", type(T2))\n",
    "print(\"Type of T2_i:\", type(T2_i))"
   ]
  },
  {
   "cell_type": "code",
   "execution_count": 48,
   "id": "6b7090db-9d15-42c2-9472-3cb8451c4780",
   "metadata": {},
   "outputs": [
    {
     "data": {
      "text/plain": [
       "(4, 5, 6)"
      ]
     },
     "execution_count": 48,
     "metadata": {},
     "output_type": "execute_result"
    }
   ],
   "source": [
    "# () can be ommited\n",
    "T4"
   ]
  },
  {
   "cell_type": "code",
   "execution_count": 49,
   "id": "82e4d1c7-a0ed-430a-9ca1-490f61fcb343",
   "metadata": {},
   "outputs": [
    {
     "data": {
      "text/plain": [
       "('a', 'b', ('ab', 'cd'))"
      ]
     },
     "execution_count": 49,
     "metadata": {},
     "output_type": "execute_result"
    }
   ],
   "source": [
    "T5"
   ]
  },
  {
   "cell_type": "code",
   "execution_count": 42,
   "id": "0360390c-2333-436c-af96-31e98fce8b20",
   "metadata": {},
   "outputs": [
    {
     "data": {
      "text/plain": [
       "(1, 2, 3, 4, 5, 6)"
      ]
     },
     "execution_count": 42,
     "metadata": {},
     "output_type": "execute_result"
    }
   ],
   "source": [
    "T6"
   ]
  },
  {
   "cell_type": "code",
   "execution_count": 44,
   "id": "aaf9b4b5-8f90-4ca2-8f90-ec82f30c999e",
   "metadata": {},
   "outputs": [
    {
     "ename": "TypeError",
     "evalue": "'tuple' object doesn't support item deletion",
     "output_type": "error",
     "traceback": [
      "\u001b[1;31m---------------------------------------------------------------------------\u001b[0m",
      "\u001b[1;31mTypeError\u001b[0m                                 Traceback (most recent call last)",
      "Cell \u001b[1;32mIn[44], line 1\u001b[0m\n\u001b[1;32m----> 1\u001b[0m \u001b[38;5;28;01mdel\u001b[39;00m T3[\u001b[38;5;241m0\u001b[39m]\n",
      "\u001b[1;31mTypeError\u001b[0m: 'tuple' object doesn't support item deletion"
     ]
    }
   ],
   "source": [
    "del T3[0]"
   ]
  },
  {
   "cell_type": "code",
   "execution_count": 45,
   "id": "f6dd711a-41df-422a-9bef-1eb147393a69",
   "metadata": {},
   "outputs": [
    {
     "ename": "TypeError",
     "evalue": "'tuple' object does not support item assignment",
     "output_type": "error",
     "traceback": [
      "\u001b[1;31m---------------------------------------------------------------------------\u001b[0m",
      "\u001b[1;31mTypeError\u001b[0m                                 Traceback (most recent call last)",
      "Cell \u001b[1;32mIn[45], line 1\u001b[0m\n\u001b[1;32m----> 1\u001b[0m T3[\u001b[38;5;241m0\u001b[39m] \u001b[38;5;241m=\u001b[39m \u001b[38;5;241m0\u001b[39m\n",
      "\u001b[1;31mTypeError\u001b[0m: 'tuple' object does not support item assignment"
     ]
    }
   ],
   "source": [
    "T3[0] = 0"
   ]
  },
  {
   "cell_type": "code",
   "execution_count": 46,
   "id": "28b6ac90-9371-4c31-8cfc-e798f9ea7a86",
   "metadata": {},
   "outputs": [
    {
     "data": {
      "text/plain": [
       "1"
      ]
     },
     "execution_count": 46,
     "metadata": {},
     "output_type": "execute_result"
    }
   ],
   "source": [
    "T3[0]"
   ]
  },
  {
   "cell_type": "code",
   "execution_count": 47,
   "id": "389c832e-06cc-446c-b28e-d5b24e099a29",
   "metadata": {},
   "outputs": [
    {
     "data": {
      "text/plain": [
       "(1, 2)"
      ]
     },
     "execution_count": 47,
     "metadata": {},
     "output_type": "execute_result"
    }
   ],
   "source": [
    "T3[:2]"
   ]
  },
  {
   "cell_type": "code",
   "execution_count": 52,
   "id": "edb05224-c6b4-4619-b83e-f3a5c505a450",
   "metadata": {},
   "outputs": [
    {
     "name": "stdout",
     "output_type": "stream",
     "text": [
      "(1, 2, 3, 4, 5)\n"
     ]
    }
   ],
   "source": [
    "# add elements to tuple by: tuple -> list (& append) -> convert\n",
    "tuple1 = (1, 2, 3, 4)\n",
    "list1 = list(tuple1)\n",
    "list1.append(5)\n",
    "tuple1 = tuple(list1)\n",
    "print(tuple1)"
   ]
  },
  {
   "cell_type": "markdown",
   "id": "81c6a204-72fd-4163-90c6-f2e7184b070b",
   "metadata": {},
   "source": [
    "### Tuple Functions"
   ]
  },
  {
   "cell_type": "code",
   "execution_count": 53,
   "id": "7e436eba-7167-458e-a2a3-3a9a25c958dd",
   "metadata": {},
   "outputs": [
    {
     "data": {
      "text/plain": [
       "(10, 9, 8, 7, 6, 5, 4, 3, 2, 1)"
      ]
     },
     "execution_count": 53,
     "metadata": {},
     "output_type": "execute_result"
    }
   ],
   "source": [
    "d = tuple(range(10, 0, -1))\n",
    "d"
   ]
  },
  {
   "cell_type": "code",
   "execution_count": 54,
   "id": "642931df-87ca-44d4-91ae-4e1bef15f4cb",
   "metadata": {},
   "outputs": [
    {
     "data": {
      "text/plain": [
       "1"
      ]
     },
     "execution_count": 54,
     "metadata": {},
     "output_type": "execute_result"
    }
   ],
   "source": [
    "d.count(8)"
   ]
  },
  {
   "cell_type": "code",
   "execution_count": 55,
   "id": "5226308a-c748-4fb5-86af-383e67c73a82",
   "metadata": {},
   "outputs": [
    {
     "data": {
      "text/plain": [
       "2"
      ]
     },
     "execution_count": 55,
     "metadata": {},
     "output_type": "execute_result"
    }
   ],
   "source": [
    "d.index(8)"
   ]
  },
  {
   "cell_type": "code",
   "execution_count": 56,
   "id": "30f257e1-dda7-450f-a8b6-e9b214c298cd",
   "metadata": {},
   "outputs": [
    {
     "data": {
      "text/plain": [
       "10"
      ]
     },
     "execution_count": 56,
     "metadata": {},
     "output_type": "execute_result"
    }
   ],
   "source": [
    "len(d)"
   ]
  },
  {
   "cell_type": "code",
   "execution_count": 57,
   "id": "9b654f5d-1f7d-4953-82cf-bd26d9f8f63c",
   "metadata": {},
   "outputs": [
    {
     "name": "stdout",
     "output_type": "stream",
     "text": [
      "10 1 55\n"
     ]
    }
   ],
   "source": [
    "print(max(d), min(d), sum(d))"
   ]
  },
  {
   "cell_type": "code",
   "execution_count": 58,
   "id": "4cf036b0-bf4f-4fa9-9f83-09f74ce7f050",
   "metadata": {},
   "outputs": [
    {
     "data": {
      "text/plain": [
       "(10, 9, 8, 7, 6, 5, 4, 3, 2, 1, 11, 13)"
      ]
     },
     "execution_count": 58,
     "metadata": {},
     "output_type": "execute_result"
    }
   ],
   "source": [
    "d += (11, 13)\n",
    "d"
   ]
  },
  {
   "cell_type": "code",
   "execution_count": 60,
   "id": "d31bc647-4252-4d9e-b6c7-d5c1c4a70c70",
   "metadata": {},
   "outputs": [
    {
     "data": {
      "text/plain": [
       "(10, 9, 8, 7, 6, 5, 4, 3, 2, 1, 11, 13, 10, 9, 8, 7, 6, 5, 4, 3, 2, 1, 11, 13)"
      ]
     },
     "execution_count": 60,
     "metadata": {},
     "output_type": "execute_result"
    }
   ],
   "source": [
    "e = d*2\n",
    "e"
   ]
  },
  {
   "cell_type": "code",
   "execution_count": 61,
   "id": "f3bd0936-fa41-4b4b-85d8-4f42ccf4d473",
   "metadata": {},
   "outputs": [
    {
     "data": {
      "text/plain": [
       "False"
      ]
     },
     "execution_count": 61,
     "metadata": {},
     "output_type": "execute_result"
    }
   ],
   "source": [
    "d == e"
   ]
  },
  {
   "cell_type": "markdown",
   "id": "fc160163-58ff-472f-a51d-eadbe74fb92d",
   "metadata": {},
   "source": [
    "### Dictionary"
   ]
  },
  {
   "cell_type": "code",
   "execution_count": 62,
   "id": "00cfc877-5173-48b8-8b18-4fa0efb18645",
   "metadata": {},
   "outputs": [
    {
     "data": {
      "text/plain": [
       "{'name': 'hone', 'phone': '010-1234-5678', 'birth': '03-01'}"
      ]
     },
     "execution_count": 62,
     "metadata": {},
     "output_type": "execute_result"
    }
   ],
   "source": [
    "dict1 = {'name':'hone', 'phone':'010-1234-5678', 'birth':'03-01'}\n",
    "dict1"
   ]
  },
  {
   "cell_type": "code",
   "execution_count": 63,
   "id": "658cd864-6c50-4301-8272-99c8ad0ee1b3",
   "metadata": {},
   "outputs": [
    {
     "data": {
      "text/plain": [
       "{}"
      ]
     },
     "execution_count": 63,
     "metadata": {},
     "output_type": "execute_result"
    }
   ],
   "source": [
    "dict2 = {}\n",
    "dict3 = dict()\n",
    "dict3"
   ]
  },
  {
   "cell_type": "code",
   "execution_count": 64,
   "id": "04c48a4b-8f49-4dea-ba83-ec076360e0a5",
   "metadata": {},
   "outputs": [],
   "source": [
    "dict2 = {'score':[99, 85, 90]}"
   ]
  },
  {
   "cell_type": "code",
   "execution_count": 65,
   "id": "eec6ae17-4303-4ca2-a687-1168064a98b6",
   "metadata": {},
   "outputs": [
    {
     "data": {
      "text/plain": [
       "{'name': 'hone', 'phone': '010-1234-5678', 'birth': '03-01', 'major': 'AI'}"
      ]
     },
     "execution_count": 65,
     "metadata": {},
     "output_type": "execute_result"
    }
   ],
   "source": [
    "dict1['major'] = 'AI'\n",
    "dict1"
   ]
  },
  {
   "cell_type": "code",
   "execution_count": 66,
   "id": "cdfeaa97-b4b8-4bf6-af66-5c1d8a5b314d",
   "metadata": {},
   "outputs": [
    {
     "data": {
      "text/plain": [
       "'hone'"
      ]
     },
     "execution_count": 66,
     "metadata": {},
     "output_type": "execute_result"
    }
   ],
   "source": [
    "dict1['name']"
   ]
  },
  {
   "cell_type": "code",
   "execution_count": 67,
   "id": "6221dde2-8ac3-4982-b517-96b189774b11",
   "metadata": {},
   "outputs": [
    {
     "data": {
      "text/plain": [
       "{'name': 'hone', 'birth': '03-01', 'major': 'AI'}"
      ]
     },
     "execution_count": 67,
     "metadata": {},
     "output_type": "execute_result"
    }
   ],
   "source": [
    "del dict1['phone']\n",
    "dict1"
   ]
  },
  {
   "cell_type": "code",
   "execution_count": 68,
   "id": "6d536be1-7df2-4133-8189-6d499cb0b0f8",
   "metadata": {},
   "outputs": [
    {
     "data": {
      "text/plain": [
       "'03-01'"
      ]
     },
     "execution_count": 68,
     "metadata": {},
     "output_type": "execute_result"
    }
   ],
   "source": [
    "dict1.pop('birth')"
   ]
  },
  {
   "cell_type": "code",
   "execution_count": 69,
   "id": "3c4ed200-3cdd-42f2-a727-22e2d2aa980d",
   "metadata": {},
   "outputs": [
    {
     "data": {
      "text/plain": [
       "{'name': 'hone', 'major': 'AI'}"
      ]
     },
     "execution_count": 69,
     "metadata": {},
     "output_type": "execute_result"
    }
   ],
   "source": [
    "dict1"
   ]
  },
  {
   "cell_type": "code",
   "execution_count": 70,
   "id": "17a2f725-b012-4ed8-a6f6-07855ab594a4",
   "metadata": {},
   "outputs": [
    {
     "data": {
      "text/plain": [
       "dict_keys(['name', 'major'])"
      ]
     },
     "execution_count": 70,
     "metadata": {},
     "output_type": "execute_result"
    }
   ],
   "source": [
    "dict1.keys()"
   ]
  },
  {
   "cell_type": "code",
   "execution_count": 71,
   "id": "527bd330-fb6f-4bcd-912c-fe909840311d",
   "metadata": {},
   "outputs": [
    {
     "data": {
      "text/plain": [
       "dict_values(['hone', 'AI'])"
      ]
     },
     "execution_count": 71,
     "metadata": {},
     "output_type": "execute_result"
    }
   ],
   "source": [
    "dict1.values()"
   ]
  },
  {
   "cell_type": "code",
   "execution_count": 72,
   "id": "5c2f6cbc-c65b-4b9d-a668-a29bb6029110",
   "metadata": {},
   "outputs": [
    {
     "data": {
      "text/plain": [
       "dict_items([('name', 'hone'), ('major', 'AI')])"
      ]
     },
     "execution_count": 72,
     "metadata": {},
     "output_type": "execute_result"
    }
   ],
   "source": [
    "dict1.items()"
   ]
  },
  {
   "cell_type": "code",
   "execution_count": 73,
   "id": "89d5f2c2-39b1-403a-8148-68962b17ef42",
   "metadata": {},
   "outputs": [
    {
     "data": {
      "text/plain": [
       "2"
      ]
     },
     "execution_count": 73,
     "metadata": {},
     "output_type": "execute_result"
    }
   ],
   "source": [
    "len(dict1)"
   ]
  },
  {
   "cell_type": "code",
   "execution_count": 74,
   "id": "24a41c77-14d2-4b5c-80de-58cdb2646c09",
   "metadata": {},
   "outputs": [
    {
     "data": {
      "text/plain": [
       "{}"
      ]
     },
     "execution_count": 74,
     "metadata": {},
     "output_type": "execute_result"
    }
   ],
   "source": [
    "dict1.clear()\n",
    "dict1"
   ]
  },
  {
   "cell_type": "code",
   "execution_count": 75,
   "id": "00180fdf-62a4-49c4-88f9-ba8be155b157",
   "metadata": {},
   "outputs": [
    {
     "data": {
      "text/plain": [
       "{'name': 'hone', 'phone': '010-1234-5678', 'birth': '03-01', 'major': 'AI'}"
      ]
     },
     "execution_count": 75,
     "metadata": {},
     "output_type": "execute_result"
    }
   ],
   "source": [
    "dict1 = {'name':'hone', 'phone':'010-1234-5678', 'birth':'03-01', 'major':'AI'}\n",
    "dict1"
   ]
  },
  {
   "cell_type": "code",
   "execution_count": 76,
   "id": "228ccb09-2908-4697-ac33-a2e60239d2fb",
   "metadata": {},
   "outputs": [
    {
     "data": {
      "text/plain": [
       "'AI'"
      ]
     },
     "execution_count": 76,
     "metadata": {},
     "output_type": "execute_result"
    }
   ],
   "source": [
    "dict1.get('major')"
   ]
  },
  {
   "cell_type": "code",
   "execution_count": 77,
   "id": "ae210f25-0cbc-4511-9ae6-e1a51cc09b79",
   "metadata": {},
   "outputs": [
    {
     "data": {
      "text/plain": [
       "True"
      ]
     },
     "execution_count": 77,
     "metadata": {},
     "output_type": "execute_result"
    }
   ],
   "source": [
    "'name' in dict1"
   ]
  },
  {
   "cell_type": "code",
   "execution_count": 78,
   "id": "1ca89de2-8b64-4c35-9f46-bf7dcc44e393",
   "metadata": {},
   "outputs": [
    {
     "data": {
      "text/plain": [
       "False"
      ]
     },
     "execution_count": 78,
     "metadata": {},
     "output_type": "execute_result"
    }
   ],
   "source": [
    "'email' in dict1"
   ]
  },
  {
   "cell_type": "code",
   "execution_count": 79,
   "id": "602f95ee-0130-4c5e-a72c-721f4f99c772",
   "metadata": {},
   "outputs": [
    {
     "data": {
      "text/plain": [
       "{'name': 'hone', 'phone': '010-1234-5678', 'birth': '03-01', 'major': 'CS'}"
      ]
     },
     "execution_count": 79,
     "metadata": {},
     "output_type": "execute_result"
    }
   ],
   "source": [
    "dict1.update({'name':'hone', 'phone':'010-1234-5678', 'birth':'03-01', 'major':'AI', 'major':'CS'})\n",
    "dict1"
   ]
  },
  {
   "cell_type": "code",
   "execution_count": 80,
   "id": "ac4f0bda-a77e-4d42-95c2-dda93ab8498a",
   "metadata": {},
   "outputs": [
    {
     "name": "stdout",
     "output_type": "stream",
     "text": [
      "{'birth': '03-01', 'major': 'CS', 'name': 'hone', 'phone': '010-1234-5678'}\n"
     ]
    }
   ],
   "source": [
    "from pprint import pprint as pp\n",
    "pp(dict1)"
   ]
  },
  {
   "cell_type": "code",
   "execution_count": 81,
   "id": "4a1cdb3b-ce3e-4cbb-9704-72f689a33dec",
   "metadata": {},
   "outputs": [
    {
     "data": {
      "text/plain": [
       "{1, 2, 3, 4, 5, 6, 7}"
      ]
     },
     "execution_count": 81,
     "metadata": {},
     "output_type": "execute_result"
    }
   ],
   "source": [
    "set1 = {1, 2, 3, 4, 5, 6, 7, 1, 2, 3, 4, 5}\n",
    "set1"
   ]
  },
  {
   "cell_type": "markdown",
   "id": "aebf3263-f2d4-48f4-91cf-2cbda3e24bea",
   "metadata": {},
   "source": [
    "### set"
   ]
  },
  {
   "cell_type": "code",
   "execution_count": 85,
   "id": "11b915bd-a1fa-4957-8417-b544c60d63a6",
   "metadata": {},
   "outputs": [
    {
     "ename": "TypeError",
     "evalue": "'set' object is not subscriptable",
     "output_type": "error",
     "traceback": [
      "\u001b[1;31m---------------------------------------------------------------------------\u001b[0m",
      "\u001b[1;31mTypeError\u001b[0m                                 Traceback (most recent call last)",
      "Cell \u001b[1;32mIn[85], line 2\u001b[0m\n\u001b[0;32m      1\u001b[0m \u001b[38;5;66;03m# cannot use index\u001b[39;00m\n\u001b[1;32m----> 2\u001b[0m set1[\u001b[38;5;241m0\u001b[39m]\n",
      "\u001b[1;31mTypeError\u001b[0m: 'set' object is not subscriptable"
     ]
    }
   ],
   "source": [
    "# cannot use index\n",
    "set1[0]"
   ]
  },
  {
   "cell_type": "code",
   "execution_count": 84,
   "id": "a60c7f36-d083-4cc4-9368-68289bfe9e1f",
   "metadata": {},
   "outputs": [
    {
     "data": {
      "text/plain": [
       "{1, 2, 3, 4, 5, 6, 7, 8}"
      ]
     },
     "execution_count": 84,
     "metadata": {},
     "output_type": "execute_result"
    }
   ],
   "source": [
    "set1.add(8)\n",
    "set1"
   ]
  },
  {
   "cell_type": "code",
   "execution_count": 86,
   "id": "230bb854-5c15-4464-8ca0-b7718aa02c4f",
   "metadata": {},
   "outputs": [
    {
     "data": {
      "text/plain": [
       "{1, 2, 3, 4, 5, 6, 7, 8, 9, 10}"
      ]
     },
     "execution_count": 86,
     "metadata": {},
     "output_type": "execute_result"
    }
   ],
   "source": [
    "set1.update([9, 10])\n",
    "set1"
   ]
  },
  {
   "cell_type": "code",
   "execution_count": 88,
   "id": "01b8edc7-e997-4365-ba33-1da63d5acb2b",
   "metadata": {},
   "outputs": [
    {
     "ename": "KeyError",
     "evalue": "7",
     "output_type": "error",
     "traceback": [
      "\u001b[1;31m---------------------------------------------------------------------------\u001b[0m",
      "\u001b[1;31mKeyError\u001b[0m                                  Traceback (most recent call last)",
      "Cell \u001b[1;32mIn[88], line 1\u001b[0m\n\u001b[1;32m----> 1\u001b[0m set1\u001b[38;5;241m.\u001b[39mremove(\u001b[38;5;241m7\u001b[39m)\n\u001b[0;32m      2\u001b[0m set1\n",
      "\u001b[1;31mKeyError\u001b[0m: 7"
     ]
    }
   ],
   "source": [
    "set1.remove(7)\n",
    "set1"
   ]
  },
  {
   "cell_type": "code",
   "execution_count": 89,
   "id": "6d355cb1-f407-482b-9a71-176b04e04543",
   "metadata": {},
   "outputs": [
    {
     "data": {
      "text/plain": [
       "True"
      ]
     },
     "execution_count": 89,
     "metadata": {},
     "output_type": "execute_result"
    }
   ],
   "source": [
    "1 in set1"
   ]
  },
  {
   "cell_type": "code",
   "execution_count": 90,
   "id": "e7ac2a78-9a56-42e8-a4a6-77c51d946479",
   "metadata": {},
   "outputs": [
    {
     "data": {
      "text/plain": [
       "{' ', 'd', 'h', 'l', 'n', 'o', 'p', 'r', 't', 'w', 'y'}"
      ]
     },
     "execution_count": 90,
     "metadata": {},
     "output_type": "execute_result"
    }
   ],
   "source": [
    "set2 = set(\"python world\")\n",
    "set2"
   ]
  },
  {
   "cell_type": "code",
   "execution_count": 95,
   "id": "77c94034-ee86-452d-8299-c10673ca01da",
   "metadata": {},
   "outputs": [
    {
     "data": {
      "text/plain": [
       "{0, 1, 2, 3, 4, 5, 7, 8}"
      ]
     },
     "execution_count": 95,
     "metadata": {},
     "output_type": "execute_result"
    }
   ],
   "source": [
    "set1 = {0, 1, 2, 3, 4, 5}\n",
    "set2 = {4, 5, 7, 8, 2, 1}\n",
    "set.union(set1, set2)"
   ]
  },
  {
   "cell_type": "code",
   "execution_count": 96,
   "id": "4ac63f10-124e-4bf9-acd7-2b033ee63f92",
   "metadata": {},
   "outputs": [
    {
     "data": {
      "text/plain": [
       "{1, 2, 4, 5}"
      ]
     },
     "execution_count": 96,
     "metadata": {},
     "output_type": "execute_result"
    }
   ],
   "source": [
    "set.intersection(set1, set2)"
   ]
  },
  {
   "cell_type": "code",
   "execution_count": 97,
   "id": "13f535a9-51fa-4d55-862c-06c68693c96e",
   "metadata": {},
   "outputs": [
    {
     "data": {
      "text/plain": [
       "{0, 3}"
      ]
     },
     "execution_count": 97,
     "metadata": {},
     "output_type": "execute_result"
    }
   ],
   "source": [
    "set.difference(set1, set2)"
   ]
  },
  {
   "cell_type": "code",
   "execution_count": 98,
   "id": "75b3c494-32c3-4a19-802f-d820808d98f9",
   "metadata": {},
   "outputs": [
    {
     "data": {
      "text/plain": [
       "{0, 3, 7, 8}"
      ]
     },
     "execution_count": 98,
     "metadata": {},
     "output_type": "execute_result"
    }
   ],
   "source": [
    "set.symmetric_difference(set1, set2)"
   ]
  },
  {
   "cell_type": "markdown",
   "id": "d1e94aba-dcdf-4c0d-bbd6-8c4b6f924975",
   "metadata": {},
   "source": [
    "### 연습 문제 1\n",
    "1일 총 입장객이 100명이라고 할 때, 1일 전체 입장 요금을 구하는 프로그램을 작성하시오.  \n",
    "조건: 1) 입장 고객의 나이는 난수를 이용(코드 제공합니다.)  \n",
    "0-7세: 무료 / 8-13세: 200원 14-19세: 300원 20-64세: 500원 65세 이상: 무료  \n",
    "------------------ 출력예시 ------------------  \n",
    "영유아(0-7세): n명 mmm원  \n",
    "어린이(8-13세): n명 / mmm원  \n",
    "청소년(14-19세): n명 / mmm원  \n",
    "성인(20-64세): n명 / mmm원  \n",
    "어르신(65세 이상): n명 / mmm원  \n",
    "\n",
    "1일 요금 총 합계 => mmmmm원"
   ]
  },
  {
   "cell_type": "code",
   "execution_count": 101,
   "id": "5a06ad30-1e94-4097-93d3-29c6f8b6a77a",
   "metadata": {},
   "outputs": [
    {
     "name": "stdout",
     "output_type": "stream",
     "text": [
      "영유아(0-7세): 14명 0원\n",
      "어린이(8-13세): 7명 / 1400원\n",
      "청소년(14-19세): 6명 / 1800원\n",
      "성인(20-64세): 42명 / 21000원\n",
      "어르신(65세 이상): 31명 / 0원\n",
      "1일 요금 총 합계 => 24200원\n"
     ]
    }
   ],
   "source": [
    "# 난수\n",
    "import random\n",
    "visitors = []\n",
    "for i in range(100):\n",
    "    visitors.append(random.randint(0, 100))\n",
    "\n",
    "age = [0, 0, 0, 0, 0]\n",
    "sum = 0\n",
    "for visitor in visitors:\n",
    "    if visitor <= 7:\n",
    "        age[0] += 1\n",
    "    elif 8<= visitor <= 13:\n",
    "        age[1] += 1\n",
    "        sum +=200\n",
    "    elif 14 <= visitor <= 19:\n",
    "        age[2] += 1\n",
    "        sum += 300\n",
    "    elif 20 <= visitor <= 64:\n",
    "        age[3] += 1\n",
    "        sum += 500\n",
    "    else:\n",
    "        age[4] += 1\n",
    "print(\"영유아(0-7세): {}명 0원\".format(age[0]))\n",
    "print(\"어린이(8-13세): {}명 / {}원\".format(age[1], age[1]*200))\n",
    "print(\"청소년(14-19세): {}명 / {}원\".format(age[2], age[2]*300))\n",
    "print(\"성인(20-64세): {}명 / {}원\".format(age[3], age[3]*500))\n",
    "print(\"어르신(65세 이상): {}명 / 0원\".format(age[4]))\n",
    "\n",
    "print(\"1일 요금 총 합계 => {}원\".format(sum))\n",
    "    "
   ]
  },
  {
   "cell_type": "markdown",
   "id": "940ebe17-a1aa-4719-b008-e46083cd1b65",
   "metadata": {},
   "source": [
    "### 연습 문제 2\n",
    "\n",
    "다음과 같은 기록에서, 현재 회사에 남아있는 모든 사람을 구하는 프로그램을 작성하시오.  \n",
    "\"enter\" => 현재 회사에 남아있는 상태 \"leave\" => 현재 회사를 떠난 상태  \n",
    "조건: 1) 이름 출력 시 알파벳 역순으로 출력"
   ]
  },
  {
   "cell_type": "code",
   "execution_count": 6,
   "id": "183d284e-5561-42e5-919c-ecce26a31c8d",
   "metadata": {},
   "outputs": [
    {
     "name": "stdout",
     "output_type": "stream",
     "text": [
      "['Haja', 'Askar']\n"
     ]
    }
   ],
   "source": [
    "record = {\"Baha\":\"Enter\", \"Askar\":\"enter\", \"Artem\":\"leave\", \"Haja\":\"enter\", \"Baha\":\"leave\"}\n",
    "names = []\n",
    "\n",
    "for key, value in record.items():\n",
    "    if value == \"enter\":\n",
    "        names.append(key)\n",
    "\n",
    "names.sort(reverse = True)\n",
    "print(names) "
   ]
  }
 ],
 "metadata": {
  "kernelspec": {
   "display_name": "Python [conda env:base] *",
   "language": "python",
   "name": "conda-base-py"
  },
  "language_info": {
   "codemirror_mode": {
    "name": "ipython",
    "version": 3
   },
   "file_extension": ".py",
   "mimetype": "text/x-python",
   "name": "python",
   "nbconvert_exporter": "python",
   "pygments_lexer": "ipython3",
   "version": "3.12.7"
  }
 },
 "nbformat": 4,
 "nbformat_minor": 5
}
