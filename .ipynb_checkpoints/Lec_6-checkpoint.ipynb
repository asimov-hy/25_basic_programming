{
 "cells": [
  {
   "cell_type": "markdown",
   "id": "de6b9234-0305-4f99-88d3-eaf602a7dfa4",
   "metadata": {},
   "source": [
    "# Functions\n",
    ": Fundamental building block which contains reusable code designed to perform specific task(s)\n",
    "- provides way to organize code -> manageable and modular\n",
    "- better organization, reusability, maintainability\n",
    "- built-in or custom functions\n",
    "\n",
    "Input: parameters --> output: result of processing arguments\n",
    "\n",
    "### Built-in Functions\n",
    ": part of Python language and always available\n",
    "- provides fundamental operation that are commonly used in programming\n",
    "- some built in functions are implemented in a specific library(module) ; need to import library for use\n",
    "\n",
    "### Lambda function\n",
    ": small and anonymous function (from lambda calculus)\n",
    "```python\n",
    "lambda parameters: expression\n",
    "```\n",
    "- result is the value the lambda returns\n",
    "\n",
    "### Functions\n",
    "- defining a function\n",
    "```python\n",
    "def function_name(param1, param2):\n",
    "    # some commands\n",
    "    return output\n",
    "```\n",
    "\n",
    "- procedure: code block withou return statement\n",
    "- also possible to create a function without parameters\n",
    "- calling a function\n",
    "```python\n",
    "function_name(parameter1, parameter2, ...)\n",
    "```\n",
    "    \n",
    "### Parameters\n",
    "- Positional parameters\n",
    "    : parameters that are matched by position (order of provided arguments matters)\n",
    "- Parameter with default value\n",
    "    : parameters with default values come after parameters without default values\n",
    "!!! order is important becaucse python assigns values based on order of parameters\n",
    "\n",
    "### Value-length parameters\n",
    "Parameters alloiwng for a variable number of parameters to be passed\n",
    "- '*args' type\n",
    "  - collects all the positional arguments in a tuple ex: function_name(a, b, 'c')\n",
    "- '**kwargs' type\n",
    "  - accepts any number of keyword arguments adn collected into a dictionary\n",
    "    ex) function_name(age=25, id=1, name='hong')\n",
    "\n",
    "### Local vs Global variables\n",
    "| **Local variable**                                                                 | **Global variable**                                                                 |\n",
    "|------------------------------------------------------------------------------------|-------------------------------------------------------------------------------------|\n",
    "| Defined within the scope of a function or a block of codes.                        | Defined outside of any function or block of code, typically at the top level of the script. |\n",
    "| The variable is created when the function or block is entered, and destroyed when it is exited. | Accessible through the entire program. |\n",
    "| They are not visible to code outside of the specific scope.                        | if you want to modify a global variable within a function, you need to use ‘global’ keyword for indication. |\n",
    "|                                                                                    | The lifetime of a global variable persists until the program terminates.           |\n",
    "\n"
   ]
  },
  {
   "cell_type": "markdown",
   "id": "2bd26a10-5c1e-47d4-b9ba-500c23dee152",
   "metadata": {},
   "source": [
    "### Built in functions"
   ]
  },
  {
   "cell_type": "code",
   "execution_count": 2,
   "id": "cf3b5183-6a4b-44b5-ad20-65f9095ff157",
   "metadata": {},
   "outputs": [
    {
     "name": "stdout",
     "output_type": "stream",
     "text": [
      "28.274333882308138\n"
     ]
    }
   ],
   "source": [
    "from math import pi\n",
    "\n",
    "radius = 3\n",
    "print(pi*radius ** 2)"
   ]
  },
  {
   "cell_type": "code",
   "execution_count": 4,
   "id": "e2759d8e-e83a-440f-b3a5-bfc0e8b9b7cd",
   "metadata": {},
   "outputs": [
    {
     "name": "stdout",
     "output_type": "stream",
     "text": [
      "28.274333882308138\n",
      "50.26548245743669\n",
      "78.53981633974483\n"
     ]
    }
   ],
   "source": [
    "from math import pi\n",
    "\n",
    "area_circle = lambda radius: pi * radius ** 2\n",
    "\n",
    "print(area_circle(3))\n",
    "print(area_circle(4))\n",
    "print(area_circle(5))"
   ]
  },
  {
   "cell_type": "markdown",
   "id": "77efc0af-2691-4819-98d0-bdb15eb6bca8",
   "metadata": {},
   "source": [
    "### high-order function\n",
    "- a function that takes another function as an argument or returns a function as its result (often used with lambda)\n",
    "\n",
    "- filter()\n",
    "    : filter elements from an iterabl based on a function's condition\n",
    "- map()\n",
    "    : apply a function to all the items in an input iterable and return iterator of result\n",
    "- reduce()\n",
    "    : successively apply a binary functino to the items of an iterabl, reducing them to a single accumulated value (functool library)"
   ]
  },
  {
   "cell_type": "code",
   "execution_count": 5,
   "id": "efaccdb7-a82d-4edd-bd6c-b70ed582c333",
   "metadata": {},
   "outputs": [
    {
     "name": "stdout",
     "output_type": "stream",
     "text": [
      "[2, 4, 6, 8, 10]\n"
     ]
    }
   ],
   "source": [
    "numbers = [1, 2, 3, 4, 5, 6, 7, 8, 9, 10]\n",
    "\n",
    "filtered_numbers = list(filter(lambda x: x %2 == 0, numbers))\n",
    "print(filtered_numbers)"
   ]
  },
  {
   "cell_type": "code",
   "execution_count": 6,
   "id": "b5074e5e-d1e2-4148-b109-2ed165fff295",
   "metadata": {},
   "outputs": [
    {
     "name": "stdout",
     "output_type": "stream",
     "text": [
      "[1, 4, 9, 16, 25, 36, 49, 64, 81, 100]\n"
     ]
    }
   ],
   "source": [
    "numbers = [1, 2, 3, 4, 5, 6, 7, 8, 9, 10]\n",
    "\n",
    "squared_numbers = list(map(lambda x: x  ** 2, numbers))\n",
    "print(squared_numbers)"
   ]
  },
  {
   "cell_type": "code",
   "execution_count": 8,
   "id": "8fad6cbc-bb22-4a5a-8763-656ab403ca4a",
   "metadata": {},
   "outputs": [
    {
     "name": "stdout",
     "output_type": "stream",
     "text": [
      "120\n"
     ]
    }
   ],
   "source": [
    "from functools import reduce\n",
    "\n",
    "numbers = [1, 2, 3, 4, 5]\n",
    "\n",
    "product = reduce(lambda x, y : x*y, numbers)\n",
    "print(product)"
   ]
  },
  {
   "cell_type": "markdown",
   "id": "42e00d62-a13d-4579-9ea0-35b3a7159288",
   "metadata": {},
   "source": [
    "### create regular funcion using *def*"
   ]
  },
  {
   "cell_type": "code",
   "execution_count": 9,
   "id": "2cb7017c-f494-44c0-b68a-097f1b3e3775",
   "metadata": {},
   "outputs": [
    {
     "name": "stdout",
     "output_type": "stream",
     "text": [
      "28.274333882308138\n",
      "50.26548245743669\n",
      "78.53981633974483\n"
     ]
    }
   ],
   "source": [
    "def area_circle(radius):\n",
    "    return pi*radius**2\n",
    "    \n",
    "print(area_circle(3))\n",
    "print(area_circle(4))\n",
    "print(area_circle(5))"
   ]
  },
  {
   "cell_type": "code",
   "execution_count": 11,
   "id": "a58fe6ea-d2c4-4c67-a1a8-60b397215519",
   "metadata": {},
   "outputs": [
    {
     "name": "stdout",
     "output_type": "stream",
     "text": [
      "28.27\n",
      "50.27\n",
      "78.54\n"
     ]
    }
   ],
   "source": [
    "def area_circle(radius):\n",
    "    area = pi*radius ** 2\n",
    "    return round(area, 2) # second digit after decimal point\n",
    "\n",
    "print(area_circle(3))\n",
    "print(area_circle(4))\n",
    "print(area_circle(5))"
   ]
  },
  {
   "cell_type": "markdown",
   "id": "761c00d5-9ee0-4730-8f3d-a0fd17286fe1",
   "metadata": {},
   "source": [
    "### tips for testing function\n",
    "\n",
    "- **None**\n",
    "  - in return statement \"return None\" shows nothing\n",
    "- **pass**\n",
    "  - place instead of code-block to avoid errors"
   ]
  },
  {
   "cell_type": "code",
   "execution_count": 12,
   "id": "18e0e637-7459-4249-963d-48a01d5b9d47",
   "metadata": {},
   "outputs": [
    {
     "name": "stdout",
     "output_type": "stream",
     "text": [
      "None\n"
     ]
    }
   ],
   "source": [
    "def area_circle(radius):\n",
    "    pass\n",
    "    return None\n",
    "\n",
    "print(area_circle(3))"
   ]
  },
  {
   "cell_type": "code",
   "execution_count": 14,
   "id": "4441c6fc-3740-4c15-8ebe-8760685792d7",
   "metadata": {},
   "outputs": [
    {
     "name": "stdout",
     "output_type": "stream",
     "text": [
      "1, 9의 합은 10입니다\n"
     ]
    }
   ],
   "source": [
    "def add_print(a, b):\n",
    "    print(\"%d, %d의 합은 %d입니다\" % (a, b, a+b))\n",
    "\n",
    "add_print(1, 9)"
   ]
  },
  {
   "cell_type": "markdown",
   "id": "08e3c13e-94e0-4ae6-b5ec-7507513f22bd",
   "metadata": {},
   "source": [
    "### no parameter"
   ]
  },
  {
   "cell_type": "code",
   "execution_count": 16,
   "id": "25cf1c0d-9e25-484a-a874-a554d3bab30f",
   "metadata": {},
   "outputs": [
    {
     "name": "stdout",
     "output_type": "stream",
     "text": [
      "Hi, python programming!\n"
     ]
    }
   ],
   "source": [
    "def hi():\n",
    "    return 'Hi, python programming!'\n",
    "\n",
    "aha = hi()\n",
    "print(aha)"
   ]
  },
  {
   "cell_type": "markdown",
   "id": "4dd7f039-879a-4201-819b-e77d168c9f01",
   "metadata": {},
   "source": [
    "### default value"
   ]
  },
  {
   "cell_type": "code",
   "execution_count": 18,
   "id": "6ac52f68-269a-4b92-ae27-64b3f0507477",
   "metadata": {},
   "outputs": [
    {
     "name": "stdout",
     "output_type": "stream",
     "text": [
      "name:  kim\n",
      "phone:  010-1234-5678\n",
      "id_no:  confidential\n"
     ]
    }
   ],
   "source": [
    "def student_info(name, phone, id_no=\"confidential\"):\n",
    "    print(\"name: \", name)\n",
    "    print(\"phone: \", phone)\n",
    "    print(\"id_no: \", id_no)\n",
    "\n",
    "student_info(\"kim\", \"010-1234-5678\")"
   ]
  },
  {
   "cell_type": "code",
   "execution_count": 19,
   "id": "32588494-03b3-415c-b815-905e6cf253bf",
   "metadata": {},
   "outputs": [
    {
     "name": "stdout",
     "output_type": "stream",
     "text": [
      "name:  kim\n",
      "phone:  010-1234-5678\n",
      "id_no:  123456\n"
     ]
    }
   ],
   "source": [
    "student_info(\"kim\", \"010-1234-5678\", \"123456\")"
   ]
  },
  {
   "cell_type": "code",
   "execution_count": 20,
   "id": "29615f45-42f3-4e99-8043-ae19bc9354d3",
   "metadata": {},
   "outputs": [
    {
     "ename": "SyntaxError",
     "evalue": "parameter without a default follows parameter with a default (220906327.py, line 1)",
     "output_type": "error",
     "traceback": [
      "\u001b[1;36m  Cell \u001b[1;32mIn[20], line 1\u001b[1;36m\u001b[0m\n\u001b[1;33m    def student_info(name, id_no=\"confidential\", phone):\u001b[0m\n\u001b[1;37m                                                 ^\u001b[0m\n\u001b[1;31mSyntaxError\u001b[0m\u001b[1;31m:\u001b[0m parameter without a default follows parameter with a default\n"
     ]
    }
   ],
   "source": [
    "def student_info(name, id_no=\"confidential\", phone):\n",
    "    print(\"name: \", name)\n",
    "    print(\"phone: \", phone)\n",
    "    print(\"id_no: \", id_no)"
   ]
  },
  {
   "cell_type": "markdown",
   "id": "9e7bc7c1-d6b8-4dfc-84ee-d0d528da33d3",
   "metadata": {},
   "source": [
    "### variable-length parameter"
   ]
  },
  {
   "cell_type": "code",
   "execution_count": 22,
   "id": "c404fbf2-5922-4cf3-a247-0f22dadf8dbe",
   "metadata": {},
   "outputs": [
    {
     "name": "stdout",
     "output_type": "stream",
     "text": [
      "r1=: 6\n"
     ]
    }
   ],
   "source": [
    "def add_m(*args):\n",
    "    result = 0\n",
    "    for i in args:\n",
    "        result = result + i\n",
    "    return result\n",
    "\n",
    "r1 = add_m(1, 2, 3)\n",
    "print('r1=:', r1)"
   ]
  },
  {
   "cell_type": "code",
   "execution_count": 24,
   "id": "5b5598c9-c5b5-4e25-8e69-cf41c7c40b41",
   "metadata": {},
   "outputs": [
    {
     "name": "stdout",
     "output_type": "stream",
     "text": [
      "r2=: 15\n"
     ]
    }
   ],
   "source": [
    "r2 = add_m(1, 2, 3, 4, 5)\n",
    "print('r2=:', r2)"
   ]
  },
  {
   "cell_type": "code",
   "execution_count": 25,
   "id": "f57283b5-2ef6-450b-a371-3e0d37a2117f",
   "metadata": {},
   "outputs": [
    {
     "name": "stdout",
     "output_type": "stream",
     "text": [
      "r3=: 100\n"
     ]
    }
   ],
   "source": [
    "r3 = add_m(1, 2, 3, 4, 56, 7, 8, 9, 10)\n",
    "print('r3=:', r3)"
   ]
  },
  {
   "cell_type": "markdown",
   "id": "e8d5c30a-1973-4a2e-af4f-c73720e06467",
   "metadata": {},
   "source": [
    "### mixed parameters"
   ]
  },
  {
   "cell_type": "code",
   "execution_count": 26,
   "id": "6dfedf25-4390-4791-ae23-a9cf6389c7eb",
   "metadata": {},
   "outputs": [
    {
     "name": "stdout",
     "output_type": "stream",
     "text": [
      "3\n",
      "6\n",
      "9\n",
      "12\n",
      "15\n"
     ]
    }
   ],
   "source": [
    "def value_times(times, *values):\n",
    "    for value in values:\n",
    "        print(times*value)\n",
    "\n",
    "value_times(3, 1, 2, 3, 4, 5)"
   ]
  },
  {
   "cell_type": "markdown",
   "id": "de792037-9130-449f-b320-a2b062271aae",
   "metadata": {},
   "source": [
    "### local and global variables"
   ]
  },
  {
   "cell_type": "code",
   "execution_count": 28,
   "id": "d9fbb92f-a551-478f-a307-9e3adf885e24",
   "metadata": {},
   "outputs": [
    {
     "name": "stdout",
     "output_type": "stream",
     "text": [
      "f_a()의 num값 20\n",
      "f_b()의 num 값 10\n"
     ]
    }
   ],
   "source": [
    "def f_a():\n",
    "    num = 20\n",
    "    print(\"f_a()의 num값 %d\" % num)\n",
    "\n",
    "def f_b():\n",
    "    print(\"f_b()의 num 값 %d\" % num)\n",
    "\n",
    "num = 10 # global var\n",
    "f_a()\n",
    "f_b()"
   ]
  },
  {
   "cell_type": "markdown",
   "id": "cdf0bff5-d3f1-487e-b726-ad51ca0d3640",
   "metadata": {},
   "source": [
    "### global variable inside function"
   ]
  },
  {
   "cell_type": "code",
   "execution_count": 30,
   "id": "12af01fa-c36c-4fca-8d23-35ec56c2077f",
   "metadata": {},
   "outputs": [
    {
     "name": "stdout",
     "output_type": "stream",
     "text": [
      "f_a()의 num값 20\n",
      "f_b()의 num 값 20\n"
     ]
    }
   ],
   "source": [
    "def f_a():\n",
    "    global num\n",
    "    num = 20\n",
    "    print(\"f_a()의 num값 %d\" % num)\n",
    "\n",
    "def f_b():\n",
    "    print(\"f_b()의 num 값 %d\" % num)\n",
    "\n",
    "num = 10 # global var\n",
    "f_a()\n",
    "f_b()"
   ]
  },
  {
   "cell_type": "markdown",
   "id": "4f480bcc-bed6-439d-b58b-b4fe161714c8",
   "metadata": {},
   "source": [
    "### **break** to get outside of loop"
   ]
  },
  {
   "cell_type": "code",
   "execution_count": 31,
   "id": "e3a78c8a-4c5b-4769-98c5-7e9e9936ef20",
   "metadata": {},
   "outputs": [
    {
     "name": "stdin",
     "output_type": "stream",
     "text": [
      "연산자를 입력하세요(+, -, *, /, **, 종료:q):  q\n"
     ]
    },
    {
     "name": "stdout",
     "output_type": "stream",
     "text": [
      "프로그램을 종료합니다!\n"
     ]
    }
   ],
   "source": [
    "def calc(v1, v2, op):\n",
    "    result = 0\n",
    "    if op == '+':\n",
    "        result = v1 + v2\n",
    "    elif op == '-':\n",
    "        result = v1 - v2\n",
    "    elif op == '*':\n",
    "        result = v1 * v2\n",
    "    elif op == '/':\n",
    "        if v2 == 0:\n",
    "            return 'error'\n",
    "        else:\n",
    "            result = v1 / v2\n",
    "    elif op == '**':\n",
    "        result = v1 ** v2\n",
    "    return result\n",
    "\n",
    "while True:\n",
    "    oper = input(\"연산자를 입력하세요(+, -, *, /, **, 종료:q): \")\n",
    "    if oper == 'q':\n",
    "        print(\"프로그램을 종료합니다!\")\n",
    "        break\n",
    "    var1 = int(input(\"첫 번째 수를 입력하세요: \"))\n",
    "    var2 = int(input(\"두 번째 수를 입력하세요: \"))\n",
    "    res = calc(var1, var2, oper)\n",
    "    if res == 'error':\n",
    "        print(\"0으로 나누면 안됩니다!\")\n",
    "    else:\n",
    "        print(\"## 계산기: %d %s %d = %d\" % (var1, oper, var2, res))"
   ]
  },
  {
   "cell_type": "markdown",
   "id": "046927e2-d16d-40bc-97b7-92742a8115ac",
   "metadata": {},
   "source": [
    "### 연습문제 1\n",
    "범위 내부의 정수를 모두 더하는 함수를 선언하고 호출하는 코드를 작성하시오.  \n",
    "조건: 1) 주어진 함수명을 사용할 것 2) return을 사용할 것 3) input() 불가 => 범위를 매개변수로"
   ]
  },
  {
   "cell_type": "code",
   "execution_count": 33,
   "id": "bcd26ef0-f5fd-49f9-a455-ed6f0f2cad85",
   "metadata": {},
   "outputs": [
    {
     "name": "stdout",
     "output_type": "stream",
     "text": [
      "0 to 100: 4950\n",
      "0 to 1000: 499500\n",
      "50 to 1000: 498275\n"
     ]
    }
   ],
   "source": [
    "def sum_all(num1, num2):\n",
    "    sum = 0\n",
    "    for i in range(num1, num2):\n",
    "        sum += i\n",
    "    return sum\n",
    "\n",
    "print(\"0 to 100:\", sum_all(0, 100))\n",
    "print(\"0 to 1000:\", sum_all(0, 1000))\n",
    "print(\"50 to 1000:\", sum_all(50, 1000))"
   ]
  },
  {
   "cell_type": "markdown",
   "id": "b2a298ea-ca7c-4ed4-b0ac-c3552ca69322",
   "metadata": {},
   "source": [
    "### 연습문제 2\n",
    "\n",
    "두 정수 배열의 대소관계를 비교하는 코드를 작성하시오.  \n",
    "<pre>\n",
    "1) 두 배열의 길이가 다르다면 배열의 길이가 긴 쪽이 더 크다. 2) 배열의 길이가 같다면, 각 배열에 있는 모든 원소의 합을 비교하여 다르다면 더 큰 쪽이 크고, 같다면 같다.  \n",
    "두 정수 배열 arr1과 arr2가 주어질 때, 정익한 배열의 대소관계에 대해:  \n",
    "    arr2이 크다면 (arr2의 길이가 더 길거나, 길이가 같아도 모든 원소의 합이 더 큰 경우) => -1  \n",
    "    arr1이 크다면 (arr1의 길이가 더 길거나, 길이가 같아도 모든 원소의 합이 더 큰 경우) => 1  \n",
    "    두 배열이 같다면 (두 배열의 길이도 같고 각 배열에 있는 모든 원소의 합도 같은 경우) => 0  \n",
    "을 return 하는 함수를 작성하시오.\n",
    "조건: 1) 주어진 함수 명을 이용할 것 2) len(), sum(), return을 이용할 것 3) input() 불가 => 두 개의 리스트를 매개변수로\n",
    "</pre>"
   ]
  },
  {
   "cell_type": "code",
   "execution_count": 35,
   "id": "0bc1568b-969a-4b64-a631-b284e051c07c",
   "metadata": {},
   "outputs": [
    {
     "name": "stdout",
     "output_type": "stream",
     "text": [
      "-1\n",
      "1\n",
      "0\n"
     ]
    }
   ],
   "source": [
    "def solution(list1, list2):\n",
    "    if len(list1) > len(list2):\n",
    "        return 1\n",
    "    elif len(list1) < len(list2):\n",
    "        return -1\n",
    "    else:\n",
    "        if sum(list1) > sum(list2):\n",
    "            return 1\n",
    "        elif sum(list1) < sum(list2):\n",
    "            return -1\n",
    "        else:\n",
    "            return 0\n",
    "\n",
    "print(solution([49, 13], [70, 11, 2]))       # => -1\n",
    "print(solution([100, 17, 84, 1], [55, 12, 65, 36]))  # => 1\n",
    "print(solution([1, 2, 3, 4, 5], [3, 3, 3, 3, 3]))    # => 0"
   ]
  }
 ],
 "metadata": {
  "kernelspec": {
   "display_name": "Python [conda env:base] *",
   "language": "python",
   "name": "conda-base-py"
  },
  "language_info": {
   "codemirror_mode": {
    "name": "ipython",
    "version": 3
   },
   "file_extension": ".py",
   "mimetype": "text/x-python",
   "name": "python",
   "nbconvert_exporter": "python",
   "pygments_lexer": "ipython3",
   "version": "3.12.7"
  }
 },
 "nbformat": 4,
 "nbformat_minor": 5
}
