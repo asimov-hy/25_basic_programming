{
 "cells": [
  {
   "cell_type": "markdown",
   "id": "2d049236-ce85-4bea-b93d-d1aa933d07f5",
   "metadata": {},
   "source": [
    "---\n",
    "# ASICC (American Standard Code for Information Interchange)\n",
    ": 문자 인코딩 표준화 방법\n",
    " - 인코딩: 문자, 숫자 또는 기호 등을 컴퓨터에서 표현하기 위해 개발된 표기법\n",
    "활용: 문자와 숫자의 연결 (컴퓨터는 문자 자체를 저장하지 않음) -> 문자의 연산 가능\n",
    "- 다국어 지원이 불가능함, 필수적인 인코딩 방식\n",
    "- UTF-8에 포함이 되어있음 (UCS (Unicode) Transformation Format)\n",
    "\n",
    "## Unicode\n",
    "- 모든 문자(영어, 한글, 중국어) 등 이모지까지 포함하여 표현가능\n",
    "- 유니코드는 각 문자에 고유 번호(코드 포인트)를 부여\n",
    "- UTF-8, -16, -32등 다양한 인코딩 방식을 적용할수 있음. 문자마다 ㅍ필요한 바이트의 수를 다르게 가져가는 가변길이 인코딩을 지원함 (ASCII와 호환 가능)\n",
    "- 문제: 메모리 사용 증가 가능성, 가변길이 = 복잡, 호환성 문제\n",
    "\n",
    "## String\n",
    "- expressed inside delimter \"\", ''\n",
    "- concatenated with +\n",
    "---"
   ]
  },
  {
   "cell_type": "markdown",
   "id": "e98b1f44-72bd-4a59-a6ce-c75a13bd7cde",
   "metadata": {},
   "source": [
    "### ASCII and Unicode: ord() and chr()"
   ]
  },
  {
   "cell_type": "code",
   "execution_count": 45,
   "id": "f9659d77-a3a2-4204-ade5-243a9a9df658",
   "metadata": {},
   "outputs": [
    {
     "data": {
      "text/plain": [
       "72"
      ]
     },
     "execution_count": 45,
     "metadata": {},
     "output_type": "execute_result"
    }
   ],
   "source": [
    "# practice\n",
    "ord(\"H\")"
   ]
  },
  {
   "cell_type": "code",
   "execution_count": 46,
   "id": "7d3274bb-4cd8-41ce-a50c-0197af8b1425",
   "metadata": {},
   "outputs": [
    {
     "data": {
      "text/plain": [
       "'H'"
      ]
     },
     "execution_count": 46,
     "metadata": {},
     "output_type": "execute_result"
    }
   ],
   "source": [
    "chr(72)"
   ]
  },
  {
   "cell_type": "code",
   "execution_count": 47,
   "id": "0ca7d227-e996-4607-a7a3-ab3ffca0b435",
   "metadata": {},
   "outputs": [
    {
     "data": {
      "text/plain": [
       "12593"
      ]
     },
     "execution_count": 47,
     "metadata": {},
     "output_type": "execute_result"
    }
   ],
   "source": [
    "ord(\"ㄱ\")"
   ]
  },
  {
   "cell_type": "code",
   "execution_count": 48,
   "id": "ef2120d8-9db4-4a2f-af32-a14cd7bb7923",
   "metadata": {},
   "outputs": [
    {
     "data": {
      "text/plain": [
       "44033"
      ]
     },
     "execution_count": 48,
     "metadata": {},
     "output_type": "execute_result"
    }
   ],
   "source": [
    "ord(\"각\")"
   ]
  },
  {
   "cell_type": "markdown",
   "id": "54e3b399-b0c5-46a9-9342-5b288a471a63",
   "metadata": {},
   "source": [
    "### String Operation"
   ]
  },
  {
   "cell_type": "code",
   "execution_count": 49,
   "id": "8a18f7de-d7a9-45eb-a807-25a0ed09b9d1",
   "metadata": {},
   "outputs": [
    {
     "data": {
      "text/plain": [
       "'Hello World'"
      ]
     },
     "execution_count": 49,
     "metadata": {},
     "output_type": "execute_result"
    }
   ],
   "source": [
    "\"Hello World\""
   ]
  },
  {
   "cell_type": "code",
   "execution_count": 50,
   "id": "65d7b059-4e50-4b05-9c18-1e6c1896520f",
   "metadata": {},
   "outputs": [
    {
     "data": {
      "text/plain": [
       "'Hello World'"
      ]
     },
     "execution_count": 50,
     "metadata": {},
     "output_type": "execute_result"
    }
   ],
   "source": [
    "'Hello World'"
   ]
  },
  {
   "cell_type": "code",
   "execution_count": 51,
   "id": "888b2d9e-d575-4b3a-8726-ad227e4ab3ae",
   "metadata": {},
   "outputs": [
    {
     "data": {
      "text/plain": [
       "'Computer Science'"
      ]
     },
     "execution_count": 51,
     "metadata": {},
     "output_type": "execute_result"
    }
   ],
   "source": [
    "\"Computer \"+\"Science\""
   ]
  },
  {
   "cell_type": "code",
   "execution_count": 16,
   "id": "a361a582-9114-4444-87a9-42ddb35ee6f3",
   "metadata": {},
   "outputs": [
    {
     "data": {
      "text/plain": [
       "'Computer Science'"
      ]
     },
     "execution_count": 16,
     "metadata": {},
     "output_type": "execute_result"
    }
   ],
   "source": [
    "\"Computer\"+\" \"+'Science'"
   ]
  },
  {
   "cell_type": "code",
   "execution_count": 17,
   "id": "98641eda-ed8c-4ce3-a126-58a76824941a",
   "metadata": {},
   "outputs": [
    {
     "data": {
      "text/plain": [
       "'PoohPoohPoohPoohPooh'"
      ]
     },
     "execution_count": 17,
     "metadata": {},
     "output_type": "execute_result"
    }
   ],
   "source": [
    "'Pooh'*5 "
   ]
  },
  {
   "cell_type": "code",
   "execution_count": 18,
   "id": "4b49388f-01bb-4e1b-bd49-fa23d9b026bb",
   "metadata": {},
   "outputs": [
    {
     "data": {
      "text/plain": [
       "''"
      ]
     },
     "execution_count": 18,
     "metadata": {},
     "output_type": "execute_result"
    }
   ],
   "source": [
    "'Pooh'*0"
   ]
  },
  {
   "cell_type": "code",
   "execution_count": 20,
   "id": "d287c1d8-a995-4c20-8a15-cfbe4b78f184",
   "metadata": {},
   "outputs": [
    {
     "data": {
      "text/plain": [
       "\"Halley's comet\""
      ]
     },
     "execution_count": 20,
     "metadata": {},
     "output_type": "execute_result"
    }
   ],
   "source": [
    "'Halley\\'s comet'"
   ]
  },
  {
   "cell_type": "code",
   "execution_count": 21,
   "id": "33a8361d-b224-4f4b-9d43-763786b55e79",
   "metadata": {},
   "outputs": [
    {
     "data": {
      "text/plain": [
       "\"Halley's comet\""
      ]
     },
     "execution_count": 21,
     "metadata": {},
     "output_type": "execute_result"
    }
   ],
   "source": [
    "\"Halley's comet\""
   ]
  },
  {
   "cell_type": "code",
   "execution_count": 22,
   "id": "206fef4d-5c54-4bc7-8c34-de796eacb039",
   "metadata": {},
   "outputs": [
    {
     "name": "stdout",
     "output_type": "stream",
     "text": [
      "Hello, world!\n"
     ]
    }
   ],
   "source": [
    "print(\"Hello, world!\")"
   ]
  },
  {
   "cell_type": "code",
   "execution_count": 23,
   "id": "83aed10e-596a-474b-92ee-059e42f16b7b",
   "metadata": {},
   "outputs": [
    {
     "name": "stdout",
     "output_type": "stream",
     "text": [
      "123456789\n"
     ]
    }
   ],
   "source": [
    "print('123456789')"
   ]
  },
  {
   "cell_type": "code",
   "execution_count": 26,
   "id": "f1fd3bd8-157b-4bc2-8e95-8cc1aaa67e1c",
   "metadata": {},
   "outputs": [
    {
     "name": "stdout",
     "output_type": "stream",
     "text": [
      "1\t23\t456\t7890\n"
     ]
    }
   ],
   "source": [
    "print('1\\t23\\t456\\t7890')"
   ]
  },
  {
   "cell_type": "code",
   "execution_count": 27,
   "id": "1b8b3b35-21c8-4cae-ba79-0d807a1546d5",
   "metadata": {},
   "outputs": [
    {
     "name": "stdout",
     "output_type": "stream",
     "text": [
      "1\n",
      "23\n",
      "456\n",
      "7890\n"
     ]
    }
   ],
   "source": [
    "print('1\\n23\\n456\\n7890')"
   ]
  },
  {
   "cell_type": "markdown",
   "id": "2ed4a0ef-85da-4f8a-9811-c48e865dac4a",
   "metadata": {},
   "source": [
    "### Write a long sentence"
   ]
  },
  {
   "cell_type": "code",
   "execution_count": 29,
   "id": "5101c6fc-2d98-4ad3-b8d9-6d08af7b031b",
   "metadata": {},
   "outputs": [
    {
     "name": "stdout",
     "output_type": "stream",
     "text": [
      "Yester all my troubles seemed so far away. \n",
      "Now it looks as though they're here to stay. \n",
      "Oh, I believe in yesterday.\n"
     ]
    }
   ],
   "source": [
    "print(\"Yester all my troubles seemed so far away. \\n\\\n",
    "Now it looks as though they're here to stay. \\n\\\n",
    "Oh, I believe in yesterday.\")"
   ]
  },
  {
   "cell_type": "code",
   "execution_count": 30,
   "id": "0fa05f89-6c2f-40eb-b6ac-e2b69902e0a8",
   "metadata": {},
   "outputs": [
    {
     "name": "stdout",
     "output_type": "stream",
     "text": [
      "Yester all my troubles seemed so far away. Now it looks as though they're here to stay. Oh, I believe in yesterday.\n"
     ]
    }
   ],
   "source": [
    "print(\"Yester all my troubles seemed so far away. \\\n",
    "Now it looks as though they're here to stay. \\\n",
    "Oh, I believe in yesterday.\")"
   ]
  },
  {
   "cell_type": "code",
   "execution_count": 32,
   "id": "ad1660ad-d070-4f2c-ba60-5052c2b32b98",
   "metadata": {},
   "outputs": [
    {
     "name": "stdout",
     "output_type": "stream",
     "text": [
      "She said, \"I've seen it before!\"\n"
     ]
    }
   ],
   "source": [
    "print(\"She said, \\\"I've seen it before!\\\"\")"
   ]
  },
  {
   "cell_type": "markdown",
   "id": "70fca497-64e5-46ef-b8e4-15c42702772b",
   "metadata": {},
   "source": [
    "---\n",
    "# Arithmetic expression\n",
    "- any expression with numbers; integers, real numbers, floating-point numbers\n",
    "- operators: +, -, *, /, //, %, **\n",
    "- precedence: 88 > -(negative) >> *, /, //, % >> +, -(subtraction)\n",
    "\n",
    "Integer vs. Float\n",
    "| Integer                 | Floating-point number              |\n",
    "|-------------------------|------------------------------------|\n",
    "| Countable but many      | Uncountable                        |\n",
    "| All possibly handled    | Instead, approximately handled     |\n",
    "\n",
    "Natural number\n",
    "- can be converted into binary digit expression (ex: 110101 = 1 * 2^5 + 0 * 2^4 ...)\n",
    "- Binary expression: 0.1 = 1/2^1 = 0.5, 0.01 = 0/2^2 = 0.25, 0.11 = 1/2^1 + 1/2^2 = 0.75 ...\n",
    "---"
   ]
  },
  {
   "cell_type": "markdown",
   "id": "9ff6bd91-e3b0-4f72-bbed-e478bca43eb4",
   "metadata": {},
   "source": [
    "### Arithmetic expression is any expression with numbers"
   ]
  },
  {
   "cell_type": "code",
   "execution_count": 34,
   "id": "3b17e74e-34ab-4bc5-b28e-6c9a75527793",
   "metadata": {},
   "outputs": [
    {
     "name": "stdout",
     "output_type": "stream",
     "text": [
      "1234~5678:\n",
      "TheEnd\n"
     ]
    }
   ],
   "source": [
    "print(\"1234\", \"5678\", sep='~', end=\":\\nTheEnd\\n\")"
   ]
  },
  {
   "cell_type": "code",
   "execution_count": 35,
   "id": "4c7dcb76-feb6-40be-800e-e2fbf86198d8",
   "metadata": {},
   "outputs": [
    {
     "data": {
      "text/plain": [
       "55"
      ]
     },
     "execution_count": 35,
     "metadata": {},
     "output_type": "execute_result"
    }
   ],
   "source": [
    "55"
   ]
  },
  {
   "cell_type": "code",
   "execution_count": 36,
   "id": "73a5f556-d938-4e74-98c3-4acf0eec0816",
   "metadata": {},
   "outputs": [
    {
     "data": {
      "text/plain": [
       "-13.2345"
      ]
     },
     "execution_count": 36,
     "metadata": {},
     "output_type": "execute_result"
    }
   ],
   "source": [
    "-13.2345"
   ]
  },
  {
   "cell_type": "code",
   "execution_count": 37,
   "id": "5c45a7f2-41a3-4f52-a0a6-b90682a39624",
   "metadata": {},
   "outputs": [
    {
     "data": {
      "text/plain": [
       "2.5e-09"
      ]
     },
     "execution_count": 37,
     "metadata": {},
     "output_type": "execute_result"
    }
   ],
   "source": [
    "2.5e-09"
   ]
  },
  {
   "cell_type": "code",
   "execution_count": 38,
   "id": "eddac027-ed58-4da4-914f-ac422c08cb2a",
   "metadata": {},
   "outputs": [
    {
     "data": {
      "text/plain": [
       "8"
      ]
     },
     "execution_count": 38,
     "metadata": {},
     "output_type": "execute_result"
    }
   ],
   "source": [
    "3+5"
   ]
  },
  {
   "cell_type": "code",
   "execution_count": 39,
   "id": "674b25d9-b94f-448e-82b4-487e515334d3",
   "metadata": {},
   "outputs": [
    {
     "data": {
      "text/plain": [
       "8760"
      ]
     },
     "execution_count": 39,
     "metadata": {},
     "output_type": "execute_result"
    }
   ],
   "source": [
    "24*365"
   ]
  },
  {
   "cell_type": "code",
   "execution_count": 40,
   "id": "9723acb1-4223-465e-a0ce-6c64d59c62d7",
   "metadata": {},
   "outputs": [
    {
     "data": {
      "text/plain": [
       "7.571428571428571"
      ]
     },
     "execution_count": 40,
     "metadata": {},
     "output_type": "execute_result"
    }
   ],
   "source": [
    "53/7"
   ]
  },
  {
   "cell_type": "code",
   "execution_count": 41,
   "id": "93964cb3-3119-409b-a6a5-558aed92b921",
   "metadata": {},
   "outputs": [
    {
     "data": {
      "text/plain": [
       "7"
      ]
     },
     "execution_count": 41,
     "metadata": {},
     "output_type": "execute_result"
    }
   ],
   "source": [
    "53//7"
   ]
  },
  {
   "cell_type": "code",
   "execution_count": 42,
   "id": "85756e74-5114-4908-87c5-834bc5f066e3",
   "metadata": {},
   "outputs": [
    {
     "data": {
      "text/plain": [
       "4"
      ]
     },
     "execution_count": 42,
     "metadata": {},
     "output_type": "execute_result"
    }
   ],
   "source": [
    "53%7"
   ]
  },
  {
   "cell_type": "code",
   "execution_count": 43,
   "id": "b638c77f-5409-4a0a-8481-b716d0a189b3",
   "metadata": {},
   "outputs": [
    {
     "data": {
      "text/plain": [
       "256.0"
      ]
     },
     "execution_count": 43,
     "metadata": {},
     "output_type": "execute_result"
    }
   ],
   "source": [
    "2.0**8"
   ]
  },
  {
   "cell_type": "markdown",
   "id": "27f32164-1d22-430b-8c02-53309e9eab37",
   "metadata": {},
   "source": [
    "### Precedence"
   ]
  },
  {
   "cell_type": "code",
   "execution_count": 44,
   "id": "ed3507ae-ce4a-451e-85ff-3fea039712e1",
   "metadata": {},
   "outputs": [
    {
     "data": {
      "text/plain": [
       "-5"
      ]
     },
     "execution_count": 44,
     "metadata": {},
     "output_type": "execute_result"
    }
   ],
   "source": [
    "2-3-4"
   ]
  },
  {
   "cell_type": "code",
   "execution_count": 53,
   "id": "ec865ace-2df1-4458-abf2-2dae1e4115d6",
   "metadata": {},
   "outputs": [
    {
     "data": {
      "text/plain": [
       "3"
      ]
     },
     "execution_count": 53,
     "metadata": {},
     "output_type": "execute_result"
    }
   ],
   "source": [
    "2-(3-4)"
   ]
  },
  {
   "cell_type": "code",
   "execution_count": 54,
   "id": "9d24ca27-26f7-438e-9ec1-f91ca84fb010",
   "metadata": {},
   "outputs": [
    {
     "data": {
      "text/plain": [
       "14"
      ]
     },
     "execution_count": 54,
     "metadata": {},
     "output_type": "execute_result"
    }
   ],
   "source": [
    "2+3*4"
   ]
  },
  {
   "cell_type": "markdown",
   "id": "c3e018d4-5edb-4f5b-a19b-7fb9b03a47c3",
   "metadata": {},
   "source": [
    "Type conversion"
   ]
  },
  {
   "cell_type": "code",
   "execution_count": 55,
   "id": "8dcf14bb-d4e3-43ca-b103-832f4a866e93",
   "metadata": {},
   "outputs": [
    {
     "data": {
      "text/plain": [
       "str"
      ]
     },
     "execution_count": 55,
     "metadata": {},
     "output_type": "execute_result"
    }
   ],
   "source": [
    "type(\"2020\")"
   ]
  },
  {
   "cell_type": "code",
   "execution_count": 56,
   "id": "c2f49109-2449-4c37-88cc-f41b5338eab0",
   "metadata": {},
   "outputs": [
    {
     "data": {
      "text/plain": [
       "int"
      ]
     },
     "execution_count": 56,
     "metadata": {},
     "output_type": "execute_result"
    }
   ],
   "source": [
    "type(2020)"
   ]
  },
  {
   "cell_type": "code",
   "execution_count": 57,
   "id": "4fc880b4-5235-4cf7-a18e-28707bfd5ab3",
   "metadata": {},
   "outputs": [
    {
     "data": {
      "text/plain": [
       "float"
      ]
     },
     "execution_count": 57,
     "metadata": {},
     "output_type": "execute_result"
    }
   ],
   "source": [
    "type(2020.8)"
   ]
  },
  {
   "cell_type": "code",
   "execution_count": 59,
   "id": "739f8c47-c7f3-4213-80f4-6e7033a45ddd",
   "metadata": {},
   "outputs": [
    {
     "data": {
      "text/plain": [
       "'2020.9'"
      ]
     },
     "execution_count": 59,
     "metadata": {},
     "output_type": "execute_result"
    }
   ],
   "source": [
    "str(20)+str(20.9)"
   ]
  },
  {
   "cell_type": "code",
   "execution_count": 60,
   "id": "9d2e2950-a278-4b82-a2b0-6a8140e424a0",
   "metadata": {},
   "outputs": [
    {
     "data": {
      "text/plain": [
       "2020.9"
      ]
     },
     "execution_count": 60,
     "metadata": {},
     "output_type": "execute_result"
    }
   ],
   "source": [
    "float(\"2000\")+float('20.9')"
   ]
  },
  {
   "cell_type": "code",
   "execution_count": 61,
   "id": "31b0b140-2e7f-4d20-8d16-bc4d13a73954",
   "metadata": {},
   "outputs": [
    {
     "ename": "ValueError",
     "evalue": "invalid literal for int() with base 10: '2020.9'",
     "output_type": "error",
     "traceback": [
      "\u001b[1;31m---------------------------------------------------------------------------\u001b[0m",
      "\u001b[1;31mValueError\u001b[0m                                Traceback (most recent call last)",
      "Cell \u001b[1;32mIn[61], line 1\u001b[0m\n\u001b[1;32m----> 1\u001b[0m \u001b[38;5;28mint\u001b[39m(\u001b[38;5;124m\"\u001b[39m\u001b[38;5;124m2020.9\u001b[39m\u001b[38;5;124m\"\u001b[39m)\n",
      "\u001b[1;31mValueError\u001b[0m: invalid literal for int() with base 10: '2020.9'"
     ]
    }
   ],
   "source": [
    "int(\"2020.9\")"
   ]
  },
  {
   "cell_type": "markdown",
   "id": "cd930c46-99a2-4206-adcc-fd3295fe3f57",
   "metadata": {},
   "source": [
    "---\n",
    "# Some Basic\n",
    "- print() is used to print the result of expressions\n",
    "- Input() is getting the string from the user\n",
    "- Comments can be used after #\n",
    "- Indent is necessary for coding in Python\n",
    "- ; can be used to use multiple sentences in a line\n",
    "- / can be used to divide a long sentence into multiple lines\n",
    "\n",
    "| Types | Functions |\n",
    "|-------|-----------|\n",
    "|str(x) | Int of float of x can be converted to string of x |\n",
    "|int(x) | Int string of x can be converted to int |\n",
    "|float(x) | Float string or integer of x can be converted to float |\n",
    "---"
   ]
  },
  {
   "cell_type": "markdown",
   "id": "9d3bb973-2146-4f77-a6a5-ab50fa8acedf",
   "metadata": {},
   "source": [
    "### print()"
   ]
  },
  {
   "cell_type": "code",
   "execution_count": 62,
   "id": "1cd28169-f9b0-4c0a-b7c5-2b4679b9a4cb",
   "metadata": {},
   "outputs": [
    {
     "name": "stdout",
     "output_type": "stream",
     "text": [
      "Python world\n"
     ]
    }
   ],
   "source": [
    "print(\"Python world\")"
   ]
  },
  {
   "cell_type": "code",
   "execution_count": 63,
   "id": "3b908e1e-3c65-46bd-9394-925078880056",
   "metadata": {},
   "outputs": [
    {
     "name": "stdout",
     "output_type": "stream",
     "text": [
      "홍길동 100\n"
     ]
    }
   ],
   "source": [
    "print(\"홍길동\", 100)"
   ]
  },
  {
   "cell_type": "code",
   "execution_count": 65,
   "id": "11f61c0d-e6e1-4f95-b133-e930161aff09",
   "metadata": {},
   "outputs": [
    {
     "name": "stdout",
     "output_type": "stream",
     "text": [
      "Hello\n",
      "World\n",
      "Python\n",
      "----------\n",
      "Hello World Python\n"
     ]
    }
   ],
   "source": [
    "print(\"Hello\")\n",
    "print(\"World\")\n",
    "print(\"Python\")\n",
    "print(\"-\"*10)\n",
    "print(\"Hello\", end=\" \")\n",
    "print(\"World\", end=\" \")\n",
    "print(\"Python\")"
   ]
  },
  {
   "cell_type": "markdown",
   "id": "204c36fc-9099-467d-a2d8-6a1cee112364",
   "metadata": {},
   "source": [
    "### input()"
   ]
  },
  {
   "cell_type": "code",
   "execution_count": 68,
   "id": "fb26e62f-33ec-49aa-8e93-e82128c0a928",
   "metadata": {},
   "outputs": [
    {
     "name": "stdin",
     "output_type": "stream",
     "text": [
      "what's your name? :  \n"
     ]
    }
   ],
   "source": [
    "name = input(\"what's your name? : \")"
   ]
  },
  {
   "cell_type": "code",
   "execution_count": 69,
   "id": "a026d207-abe4-4189-a4e8-ae454996d43c",
   "metadata": {},
   "outputs": [
    {
     "name": "stdin",
     "output_type": "stream",
     "text": [
      "what is your score? 100\n"
     ]
    }
   ],
   "source": [
    "a = input(\"what is your score?\")"
   ]
  },
  {
   "cell_type": "markdown",
   "id": "15e1a607-2b01-4fb6-943c-33fe5ea92df3",
   "metadata": {},
   "source": [
    "### comments"
   ]
  },
  {
   "cell_type": "code",
   "execution_count": 70,
   "id": "65507e1d-8ffa-4726-ac3a-bc25b3d35a0e",
   "metadata": {},
   "outputs": [],
   "source": [
    "# this is a comment"
   ]
  },
  {
   "cell_type": "markdown",
   "id": "faf2c931-6e15-40f1-81af-a0045677afbe",
   "metadata": {},
   "source": [
    "### semicolons"
   ]
  },
  {
   "cell_type": "code",
   "execution_count": 71,
   "id": "1ae47705-8a11-449d-b18c-011a7d5f9ec1",
   "metadata": {},
   "outputs": [
    {
     "data": {
      "text/plain": [
       "'Computer Engineering'"
      ]
     },
     "execution_count": 71,
     "metadata": {},
     "output_type": "execute_result"
    }
   ],
   "source": [
    "s1 = \"Computer\"; s2 = \"Engineering\"; s1 + \" \" +s2"
   ]
  },
  {
   "cell_type": "markdown",
   "id": "172dd303-eac2-48d2-b04d-711990890a38",
   "metadata": {},
   "source": [
    "### Using a multiple-line"
   ]
  },
  {
   "cell_type": "code",
   "execution_count": 72,
   "id": "2da53250-4fca-4b33-9880-28f670c6fd35",
   "metadata": {},
   "outputs": [
    {
     "data": {
      "text/plain": [
       "55"
      ]
     },
     "execution_count": 72,
     "metadata": {},
     "output_type": "execute_result"
    }
   ],
   "source": [
    "a = (1+2+3+\n",
    "    4+5+6+7\n",
    "    +8+9+10)\n",
    "a"
   ]
  },
  {
   "cell_type": "code",
   "execution_count": 73,
   "id": "9963cbef-be96-497b-ab66-1a6fe5a2c052",
   "metadata": {},
   "outputs": [
    {
     "name": "stdout",
     "output_type": "stream",
     "text": [
      "hello,  world!\n"
     ]
    }
   ],
   "source": [
    "s = \"hello, \"\\\n",
    "+ \" world!\"\n",
    "print(s)"
   ]
  },
  {
   "cell_type": "markdown",
   "id": "bc06000f-ac46-40a0-ac6b-09a5d053ec30",
   "metadata": {},
   "source": [
    "## Practice 1"
   ]
  },
  {
   "cell_type": "code",
   "execution_count": 6,
   "id": "91e47407-f1aa-46e1-9183-4a4e87e9580a",
   "metadata": {},
   "outputs": [
    {
     "name": "stdin",
     "output_type": "stream",
     "text": [
      "문자를 입력하세요:  a\n"
     ]
    },
    {
     "name": "stdout",
     "output_type": "stream",
     "text": [
      "97\n"
     ]
    },
    {
     "name": "stdin",
     "output_type": "stream",
     "text": [
      "문자를 입력하세요:  s\n"
     ]
    },
    {
     "name": "stdout",
     "output_type": "stream",
     "text": [
      "115\n"
     ]
    },
    {
     "name": "stdin",
     "output_type": "stream",
     "text": [
      "문자를 입력하세요:  d\n"
     ]
    },
    {
     "name": "stdout",
     "output_type": "stream",
     "text": [
      "100\n"
     ]
    },
    {
     "name": "stdin",
     "output_type": "stream",
     "text": [
      "숫자를 입력하세요:  1\n"
     ]
    },
    {
     "name": "stdout",
     "output_type": "stream",
     "text": [
      "\u0001\n"
     ]
    },
    {
     "name": "stdin",
     "output_type": "stream",
     "text": [
      "숫자를 입력하세요:  2\n"
     ]
    },
    {
     "name": "stdout",
     "output_type": "stream",
     "text": [
      "\u0002\n"
     ]
    },
    {
     "name": "stdin",
     "output_type": "stream",
     "text": [
      "숫자를 입력하세요:  3\n"
     ]
    },
    {
     "name": "stdout",
     "output_type": "stream",
     "text": [
      "\u0003\n",
      "홍길동 \t 202512345678 \t 프로그래밍 기초\n",
      "홍길동, 202512345678, 프로그래밍 기초\n",
      "1 2 3 4 5 \n",
      "6 7 8 9 10 \n",
      "11 12 13 14 15 \n",
      "16 17 18 19 동해물과 백두산이 마르고 닳도록 /n 하느님이 보우하사 우리나라 만세 /n 무궁화 삼천리 화려강산 /n 대한사람 대한으로 길이 보전하세.\n"
     ]
    }
   ],
   "source": [
    "# q1. print()와 ord() 함수를 이용해 하나의 문자를 인자로 받아 해당하는 유니코드 정수 반환하기 (총 3개 출력)\n",
    "for i in range(3):\n",
    "    print(ord(input(\"문자를 입력하세요: \")))\n",
    "# q2. print()와 chr() 함수를 이용해 하나의 정수를 인자로 받아 해당하는 유니코드 문자 반환하기 (총 3개 출력)\n",
    "for i in range(3):\n",
    "    print(chr(int(input(\"숫자를 입력하세요: \"))))\n",
    "# q3. 이름, 학번, 과목 명 사이 공백을 \"\\t\"를 사용하여 출력하기\n",
    "print(\"홍길동 \\t 202512345678 \\t 프로그래밍 기초\")\n",
    "# q4. 이름, 학번, 과목 명 사이 공백을 쉼표(,) 사용하여 출력하기\n",
    "print(\"홍길동, 202512345678, 프로그래밍 기초\")\n",
    "# q5. 1-20까지의 숫자를 다섯 개씩 줄바꿈 적용하여 출력하기\n",
    "for i in range(1, 20):\n",
    "    print(i, end=\" \")\n",
    "    if i % 5 == 0:\n",
    "        print()\n",
    "# q6. 슬래시(/) 마다 줄바꿈 적용하여 출력하기  \n",
    "# → 동해물과 백두산이 마르고 닳도록 / 하느님이 보우하사 우리나라 만세 / 무궁화 삼천리 화려강산 / 대한사람 대한으로 길이 보전하세.\n",
    "print(\"동해물과 백두산이 마르고 닳도록 /n 하느님이 보우하사 우리나라 만세 /n 무궁화 삼천리 화려강산 /n 대한사람 대한으로 길이 보전하세.\")\n"
   ]
  },
  {
   "cell_type": "markdown",
   "id": "5d95bf6b-d872-4526-968b-dc9ae30f4afb",
   "metadata": {},
   "source": [
    "q7. print()를 사용한 출력과 사용하지 않은 출력의 차이점을 기재하시오.\n",
    "| 항목             | `print()` 사용                          | 사용하지 않음 (표현식만 입력)              |\n",
    "|------------------|------------------------------------------|--------------------------------------------|\n",
    "| 출력 여부        | 항상 출력됨                              | 마지막 표현식만 출력됨                      |\n",
    "| 출력 형식        | 사람이 읽기 쉬운 형태                    | `repr()` 형식 (예: `'Hello'`)              |\n",
    "| 개행 여부        | 자동으로 줄바꿈 포함 (`\\n`)              | 줄바꿈 없음                                 |\n",
    "| 출력 위치        | 콘솔 또는 터미널                         | 인터프리터 / Jupyter 환경 등               |\n",
    "| 사용 목적        | 명시적 출력, 디버깅, 메시지 출력용       | 간단한 확인용 또는 계산 결과 확인           |\n",
    "## Practice 2"
   ]
  },
  {
   "cell_type": "code",
   "execution_count": 10,
   "id": "77f02d2e-beee-4d68-97bd-faf78c0451b1",
   "metadata": {},
   "outputs": [
    {
     "name": "stdin",
     "output_type": "stream",
     "text": [
      "첫 번째 정수:  10\n",
      "두 번째 정수:  20\n"
     ]
    },
    {
     "name": "stdout",
     "output_type": "stream",
     "text": [
      "----------\n",
      "10  +  20  =  30\n",
      "10  -  20  =  -10\n",
      "10  *  20  =  200\n",
      "10  /  20  =  0.5\n"
     ]
    }
   ],
   "source": [
    "# input() 함수와 산술 연산자를 이용해, 두개의 정수를 입력받아 사칙연산 계산 결과를 출력하는 코드를 작성하시오.\n",
    "num1 = int(input(\"첫 번째 정수: \"))\n",
    "num2 = int(input(\"두 번째 정수: \"))\n",
    "print(\"-\"*10)\n",
    "print(num1, \" + \", num2, \" = \", num1 + num2)\n",
    "print(num1, \" - \", num2, \" = \", num1 - num2)\n",
    "print(num1, \" * \", num2, \" = \", num1 * num2)\n",
    "print(num1, \" / \", num2, \" = \", num1 / num2)"
   ]
  },
  {
   "cell_type": "code",
   "execution_count": null,
   "id": "745b5b05-4e5f-4afa-8914-fdc8c38404a4",
   "metadata": {},
   "outputs": [],
   "source": []
  }
 ],
 "metadata": {
  "kernelspec": {
   "display_name": "Python [conda env:base] *",
   "language": "python",
   "name": "conda-base-py"
  },
  "language_info": {
   "codemirror_mode": {
    "name": "ipython",
    "version": 3
   },
   "file_extension": ".py",
   "mimetype": "text/x-python",
   "name": "python",
   "nbconvert_exporter": "python",
   "pygments_lexer": "ipython3",
   "version": "3.12.7"
  }
 },
 "nbformat": 4,
 "nbformat_minor": 5
}
