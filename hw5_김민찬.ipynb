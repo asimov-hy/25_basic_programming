{
  "nbformat": 4,
  "nbformat_minor": 0,
  "metadata": {
    "colab": {
      "provenance": []
    },
    "kernelspec": {
      "name": "python3",
      "display_name": "Python 3"
    },
    "language_info": {
      "name": "python"
    }
  },
  "cells": [
    {
      "cell_type": "code",
      "execution_count": null,
      "metadata": {
        "colab": {
          "base_uri": "https://localhost:8080/"
        },
        "id": "gp2UkiVJTCR1",
        "outputId": "9503c0a3-a52f-4510-8aa2-596d96b8238f"
      },
      "outputs": [
        {
          "output_type": "stream",
          "name": "stdout",
          "text": [
            "점수를 입력하세요: 1.1\n",
            "입력한 점수는 1.1이며, 학점은 F입니다.\n"
          ]
        }
      ],
      "source": [
        "# 점수를 입력받고 해당 점수에 알 맞은 학점을 출력하는 코드를 작성하시오.\n",
        "# 조건: 1) 점수는 0~100까지의 자연수이다. 2) A: 90~100 / B: 80~89 / C: 70~79 / D: 60~69 / F:<60\n",
        "\n",
        "score = int(input(\"점수를 입력하세요: \"))\n",
        "if score >= 0 and score <= 100:\n",
        "    if score >= 90:\n",
        "        grade = \"A\"\n",
        "    elif score >= 80:\n",
        "        grade = \"B\"\n",
        "    elif score >= 70:\n",
        "        grade = \"C\"\n",
        "    elif score >= 60:\n",
        "        grade = \"D\"\n",
        "    else:\n",
        "        grade = \"F\"\n",
        "    print(\"입력한 점수는 {}이며, 학점은 {}입니다.\".format(score, grade))\n",
        "else:\n",
        "    print(\"0~100까지의 정수만 입력하시길 바랍니다.\")"
      ]
    },
    {
      "cell_type": "code",
      "source": [
        "# 1부터 1000까지의 자연수 중 3의 배수의 합을 구하는 코드를 출력하시오.\n",
        "# 조건: 1) while 반복문을 사용할 것 2) if문을 사용할것\n",
        "sum = 0\n",
        "for i in range(3, 1000, 3):\n",
        "    sum += i\n",
        "print(sum)"
      ],
      "metadata": {
        "colab": {
          "base_uri": "https://localhost:8080/"
        },
        "id": "dCJwVWtnVVDw",
        "outputId": "64a1ede1-e54c-43d4-fac0-db76259038c5"
      },
      "execution_count": null,
      "outputs": [
        {
          "output_type": "stream",
          "name": "stdout",
          "text": [
            "166833\n"
          ]
        }
      ]
    }
  ]
}